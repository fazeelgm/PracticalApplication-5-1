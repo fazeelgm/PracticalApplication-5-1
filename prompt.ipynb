{
 "cells": [
  {
   "cell_type": "markdown",
   "metadata": {
    "tags": []
   },
   "source": [
    "# Will a Customer Accept the Coupon?\n",
    "\n",
    "**Context**\n",
    "\n",
    "Imagine driving through town and a coupon is delivered to your cell phone for a restaraunt near where you are driving. Would you accept that coupon and take a short detour to the restaraunt? Would you accept the coupon but use it on a sunbsequent trip? Would you ignore the coupon entirely? What if the coupon was for a bar instead of a restaraunt? What about a coffee house? Would you accept a bar coupon with a minor passenger in the car? What about if it was just you and your partner in the car? Would weather impact the rate of acceptance? What about the time of day?\n",
    "\n",
    "Obviously, proximity to the business is a factor on whether the coupon is delivered to the driver or not, but what are the factors that determine whether a driver accepts the coupon once it is delivered to them? How would you determine whether a driver is likely to accept a coupon?\n",
    "\n",
    "**Overview**\n",
    "\n",
    "The goal of this project is to use what you know about visualizations and probability distributions to distinguish between customers who accepted a driving coupon versus those that did not.\n",
    "\n",
    "**Data**\n",
    "\n",
    "This data comes to us from the UCI Machine Learning repository and was collected via a survey on Amazon Mechanical Turk. The survey describes different driving scenarios including the destination, current time, weather, passenger, etc., and then ask the person whether he will accept the coupon if he is the driver. Answers that the user will drive there ‘right away’ or ‘later before the coupon expires’ are labeled as ‘Y = 1’ and answers ‘no, I do not want the coupon’ are labeled as ‘Y = 0’.  There are five different types of coupons -- less expensive restaurants (under \\\\$20), coffee houses, carry out & take away, bar, and more expensive restaurants (\\\\$20 - \\\\$50). "
   ]
  },
  {
   "cell_type": "markdown",
   "metadata": {},
   "source": [
    "**Deliverables**\n",
    "\n",
    "Your final product should be a brief report that highlights the differences between customers who did and did not accept the coupons.  To explore the data you will utilize your knowledge of plotting, statistical summaries, and visualization using Python. You will publish your findings in a public facing github repository as your first portfolio piece. \n",
    "\n",
    "\n",
    "\n"
   ]
  },
  {
   "cell_type": "markdown",
   "metadata": {
    "heading_collapsed": true,
    "tags": []
   },
   "source": [
    "## Data Description"
   ]
  },
  {
   "cell_type": "markdown",
   "metadata": {
    "hidden": true,
    "tags": []
   },
   "source": [
    "_Keep in mind that these values mentioned below are average values._\n",
    "\n",
    "The attributes of this data set include:\n",
    "1. User attributes\n",
    "    -  Gender: male, female\n",
    "    -  Age: below 21, 21 to 25, 26 to 30, etc.\n",
    "    -  Marital Status: single, married partner, unmarried partner, or widowed\n",
    "    -  Number of children: 0, 1, or more than 1\n",
    "    -  Education: high school, bachelors degree, associates degree, or graduate degree\n",
    "    -  Occupation: architecture & engineering, business & financial, etc.\n",
    "    -  Annual income: less than \\\\$12500, \\\\$12500 - \\\\$24999, \\\\$25000 - \\\\$37499, etc.\n",
    "    -  Number of times that he/she goes to a bar: 0, less than 1, 1 to 3, 4 to 8 or greater than 8\n",
    "    -  Number of times that he/she buys takeaway food: 0, less than 1, 1 to 3, 4 to 8 or greater\n",
    "    than 8\n",
    "    -  Number of times that he/she goes to a coffee house: 0, less than 1, 1 to 3, 4 to 8 or\n",
    "    greater than 8\n",
    "    -  Number of times that he/she eats at a restaurant with average expense less than \\\\$20 per\n",
    "    person: 0, less than 1, 1 to 3, 4 to 8 or greater than 8\n",
    "    -  Number of times that he/she goes to a bar: 0, less than 1, 1 to 3, 4 to 8 or greater than 8\n",
    "    \n",
    "\n",
    "2. Contextual attributes\n",
    "    - Driving destination: home, work, or no urgent destination\n",
    "    - Location of user, coupon and destination: we provide a map to show the geographical\n",
    "    location of the user, destination, and the venue, and we mark the distance between each\n",
    "    two places with time of driving. The user can see whether the venue is in the same\n",
    "    direction as the destination.\n",
    "    - Weather: sunny, rainy, or snowy\n",
    "    - Temperature: 30F, 55F, or 80F\n",
    "    - Time: 10AM, 2PM, or 6PM\n",
    "    - Passenger: alone, partner, kid(s), or friend(s)\n",
    "\n",
    "\n",
    "3. Coupon attributes\n",
    "    - time before it expires: 2 hours or one day"
   ]
  },
  {
   "cell_type": "code",
   "execution_count": 5,
   "metadata": {
    "hidden": true,
    "tags": []
   },
   "outputs": [],
   "source": [
    "import matplotlib.pyplot as plt\n",
    "import seaborn as sns\n",
    "import pandas as pd\n",
    "import numpy as np"
   ]
  },
  {
   "cell_type": "code",
   "execution_count": 6,
   "metadata": {},
   "outputs": [],
   "source": [
    "# Global flag to suppress output files while debugging\n",
    "SUPPRESS_OUTFILES=False\n",
    "\n",
    "# increase DF ouptput length for debugging\n",
    "pd.options.display.max_rows = 400000"
   ]
  },
  {
   "cell_type": "markdown",
   "metadata": {
    "tags": []
   },
   "source": [
    "## Problems\n",
    "\n",
    "Use the prompts below to get started with your data analysis.  "
   ]
  },
  {
   "cell_type": "markdown",
   "metadata": {
    "heading_collapsed": true
   },
   "source": [
    "### Read in the `coupons.csv` file."
   ]
  },
  {
   "cell_type": "code",
   "execution_count": 9,
   "metadata": {
    "hidden": true,
    "tags": []
   },
   "outputs": [],
   "source": [
    "data = pd.read_csv('data/coupons.csv')"
   ]
  },
  {
   "cell_type": "code",
   "execution_count": 10,
   "metadata": {
    "hidden": true,
    "scrolled": true,
    "tags": []
   },
   "outputs": [
    {
     "data": {
      "text/html": [
       "<div>\n",
       "<style scoped>\n",
       "    .dataframe tbody tr th:only-of-type {\n",
       "        vertical-align: middle;\n",
       "    }\n",
       "\n",
       "    .dataframe tbody tr th {\n",
       "        vertical-align: top;\n",
       "    }\n",
       "\n",
       "    .dataframe thead th {\n",
       "        text-align: right;\n",
       "    }\n",
       "</style>\n",
       "<table border=\"1\" class=\"dataframe\">\n",
       "  <thead>\n",
       "    <tr style=\"text-align: right;\">\n",
       "      <th></th>\n",
       "      <th>destination</th>\n",
       "      <th>passanger</th>\n",
       "      <th>weather</th>\n",
       "      <th>temperature</th>\n",
       "      <th>time</th>\n",
       "      <th>coupon</th>\n",
       "      <th>expiration</th>\n",
       "      <th>gender</th>\n",
       "      <th>age</th>\n",
       "      <th>maritalStatus</th>\n",
       "      <th>...</th>\n",
       "      <th>CoffeeHouse</th>\n",
       "      <th>CarryAway</th>\n",
       "      <th>RestaurantLessThan20</th>\n",
       "      <th>Restaurant20To50</th>\n",
       "      <th>toCoupon_GEQ5min</th>\n",
       "      <th>toCoupon_GEQ15min</th>\n",
       "      <th>toCoupon_GEQ25min</th>\n",
       "      <th>direction_same</th>\n",
       "      <th>direction_opp</th>\n",
       "      <th>Y</th>\n",
       "    </tr>\n",
       "  </thead>\n",
       "  <tbody>\n",
       "    <tr>\n",
       "      <th>0</th>\n",
       "      <td>No Urgent Place</td>\n",
       "      <td>Alone</td>\n",
       "      <td>Sunny</td>\n",
       "      <td>55</td>\n",
       "      <td>2PM</td>\n",
       "      <td>Restaurant(&lt;20)</td>\n",
       "      <td>1d</td>\n",
       "      <td>Female</td>\n",
       "      <td>21</td>\n",
       "      <td>Unmarried partner</td>\n",
       "      <td>...</td>\n",
       "      <td>never</td>\n",
       "      <td>NaN</td>\n",
       "      <td>4~8</td>\n",
       "      <td>1~3</td>\n",
       "      <td>1</td>\n",
       "      <td>0</td>\n",
       "      <td>0</td>\n",
       "      <td>0</td>\n",
       "      <td>1</td>\n",
       "      <td>1</td>\n",
       "    </tr>\n",
       "    <tr>\n",
       "      <th>1</th>\n",
       "      <td>No Urgent Place</td>\n",
       "      <td>Friend(s)</td>\n",
       "      <td>Sunny</td>\n",
       "      <td>80</td>\n",
       "      <td>10AM</td>\n",
       "      <td>Coffee House</td>\n",
       "      <td>2h</td>\n",
       "      <td>Female</td>\n",
       "      <td>21</td>\n",
       "      <td>Unmarried partner</td>\n",
       "      <td>...</td>\n",
       "      <td>never</td>\n",
       "      <td>NaN</td>\n",
       "      <td>4~8</td>\n",
       "      <td>1~3</td>\n",
       "      <td>1</td>\n",
       "      <td>0</td>\n",
       "      <td>0</td>\n",
       "      <td>0</td>\n",
       "      <td>1</td>\n",
       "      <td>0</td>\n",
       "    </tr>\n",
       "  </tbody>\n",
       "</table>\n",
       "<p>2 rows × 26 columns</p>\n",
       "</div>"
      ],
      "text/plain": [
       "       destination  passanger weather  temperature  time           coupon  \\\n",
       "0  No Urgent Place      Alone   Sunny           55   2PM  Restaurant(<20)   \n",
       "1  No Urgent Place  Friend(s)   Sunny           80  10AM     Coffee House   \n",
       "\n",
       "  expiration  gender age      maritalStatus  ...  CoffeeHouse CarryAway  \\\n",
       "0         1d  Female  21  Unmarried partner  ...        never       NaN   \n",
       "1         2h  Female  21  Unmarried partner  ...        never       NaN   \n",
       "\n",
       "  RestaurantLessThan20 Restaurant20To50 toCoupon_GEQ5min toCoupon_GEQ15min  \\\n",
       "0                  4~8              1~3                1                 0   \n",
       "1                  4~8              1~3                1                 0   \n",
       "\n",
       "  toCoupon_GEQ25min direction_same direction_opp  Y  \n",
       "0                 0              0             1  1  \n",
       "1                 0              0             1  0  \n",
       "\n",
       "[2 rows x 26 columns]"
      ]
     },
     "execution_count": 10,
     "metadata": {},
     "output_type": "execute_result"
    }
   ],
   "source": [
    "data.head(2)"
   ]
  },
  {
   "cell_type": "markdown",
   "metadata": {
    "heading_collapsed": true
   },
   "source": [
    "### Investigate the dataset for missing or problematic data."
   ]
  },
  {
   "cell_type": "code",
   "execution_count": 12,
   "metadata": {
    "hidden": true,
    "tags": []
   },
   "outputs": [
    {
     "name": "stdout",
     "output_type": "stream",
     "text": [
      "Dimensions of data read in (rows x columns): (12684, 26)\n"
     ]
    }
   ],
   "source": [
    "print('Dimensions of data read in (rows x columns): {}'.format(data.shape))"
   ]
  },
  {
   "cell_type": "markdown",
   "metadata": {
    "hidden": true
   },
   "source": [
    "**%Completeness of each column - is there any missing data?**"
   ]
  },
  {
   "cell_type": "code",
   "execution_count": 14,
   "metadata": {
    "hidden": true,
    "tags": []
   },
   "outputs": [
    {
     "data": {
      "text/plain": [
       "destination             100.00\n",
       "passanger               100.00\n",
       "weather                 100.00\n",
       "temperature             100.00\n",
       "time                    100.00\n",
       "coupon                  100.00\n",
       "expiration              100.00\n",
       "gender                  100.00\n",
       "age                     100.00\n",
       "maritalStatus           100.00\n",
       "has_children            100.00\n",
       "education               100.00\n",
       "occupation              100.00\n",
       "income                  100.00\n",
       "car                       0.85\n",
       "Bar                      99.16\n",
       "CoffeeHouse              98.29\n",
       "CarryAway                98.81\n",
       "RestaurantLessThan20     98.98\n",
       "Restaurant20To50         98.51\n",
       "toCoupon_GEQ5min        100.00\n",
       "toCoupon_GEQ15min       100.00\n",
       "toCoupon_GEQ25min       100.00\n",
       "direction_same          100.00\n",
       "direction_opp           100.00\n",
       "Y                       100.00\n",
       "dtype: float64"
      ]
     },
     "execution_count": 14,
     "metadata": {},
     "output_type": "execute_result"
    }
   ],
   "source": [
    "data.isnull().sum().transform(lambda x: (1 - (x / data.shape[0])) * 100).round(2)"
   ]
  },
  {
   "cell_type": "markdown",
   "metadata": {
    "heading_collapsed": true
   },
   "source": [
    "### Decide what to do about your missing data -- drop, replace, other...\n",
    "\n",
    "* Drop car column: only 0.85% rows have values\n",
    "* Keep the rest of the columns at this time - on average 98% rows have non-null data\n",
    "    * Will decide later as we answer specific questions what to do about incomplete rows"
   ]
  },
  {
   "cell_type": "code",
   "execution_count": 16,
   "metadata": {
    "hidden": true
   },
   "outputs": [
    {
     "name": "stdout",
     "output_type": "stream",
     "text": [
      "Dropped column 'car' since 12576 of 12684 rows are null - only 0.85% useful rows!\n"
     ]
    }
   ],
   "source": [
    "car_nulls = data.car.isnull().sum()\n",
    "data = data.drop(labels=('car'), axis=1)\n",
    "print('Dropped column \\'car\\' since {} of {} rows are null - only {:.2f}% useful rows!'\n",
    "      .format(car_nulls, data.shape[0], (1 - (car_nulls / data.shape[0])) * 100)\n",
    ")"
   ]
  },
  {
   "cell_type": "markdown",
   "metadata": {
    "heading_collapsed": true
   },
   "source": [
    "### What proportion of the total observations chose to accept the coupon? \n",
    "\n",
    "**Strategy**\n",
    "\n",
    "* Data Prep:\n",
    "    * Create new dataframe using Groupby Y and pull out the Y column\n",
    "    * Grab the value_counts()\n",
    "    * Add a new column 'Responses' and convert Y=(0,1) -> Responses=('Rejected','Accepted') for labels\n",
    "* Visualization: Pie chart\n",
    "    * Generate and prettify graph\n",
    " \n",
    "**Findings**\n",
    "* Overall Coupon Acceptance Rate: 56.84%\n",
    "* 7210 accepted and 5474 did not from a total of 12684 responses\n",
    "\n",
    "![](images/pie-acceptance-overall.png)\n"
   ]
  },
  {
   "cell_type": "code",
   "execution_count": 18,
   "metadata": {
    "hidden": true
   },
   "outputs": [
    {
     "name": "stdout",
     "output_type": "stream",
     "text": [
      "Overall Coupon Acceptance Rate: 56.84%\n",
      "7210 accepted and 5474 did not from a total of 12684 responses\n"
     ]
    }
   ],
   "source": [
    "# Prep data for Pie chart\n",
    "acceptance_rate_pie = data.groupby('Y')['Y'].value_counts().rename('Responses').reset_index()\n",
    "\n",
    "# Calculate overall acceptance rate\n",
    "nayes = acceptance_rate_pie.iloc[0, 1]\n",
    "ayes = acceptance_rate_pie.iloc[1, 1]\n",
    "acceptance_rate = (ayes / data.shape[0]) * 100\n",
    "\n",
    "print('Overall Coupon Acceptance Rate: {:.2f}%'\n",
    "      .format(acceptance_rate))\n",
    "print('{} accepted and {} did not from a total of {} responses'\n",
    "      .format(ayes, nayes, data.shape[0]))\n",
    "\n",
    "#acceptance_rate_pie"
   ]
  },
  {
   "cell_type": "code",
   "execution_count": 19,
   "metadata": {
    "hidden": true,
    "tags": []
   },
   "outputs": [
    {
     "data": {
      "image/png": "[encoded data removed]",
      "text/plain": [
       "<Figure size 300x300 with 1 Axes>"
      ]
     },
     "metadata": {},
     "output_type": "display_data"
    }
   ],
   "source": [
    "names = ('Rejected', 'Accepted')\n",
    "colors = ('red', 'green')\n",
    "plt.rcParams['figure.figsize'] = (3,3)\n",
    "\n",
    "acceptance_rate_pie.plot.pie(y='Responses',\n",
    "                             autopct='%1.2f%%', \n",
    "                             labels=names,\n",
    "                             colors=colors,\n",
    "                             legend=False\n",
    "                            )\n",
    "plt.title('Overall Coupon Acceptance Rate')\n",
    "\n",
    "if not SUPPRESS_OUTFILES:\n",
    "    plt.savefig('images/pie-acceptance-overall.png')\n",
    "\n",
    "plt.show()"
   ]
  },
  {
   "cell_type": "markdown",
   "metadata": {
    "heading_collapsed": true,
    "jp-MarkdownHeadingCollapsed": true
   },
   "source": [
    "### Use a bar plot to visualize the `coupon` column.\n",
    "\n",
    "**Strategy**\n",
    "\n",
    "* Data Prep\n",
    "    * Create new dataframe to Groupby coupon and pull out the Y column\n",
    "    * Grab the value_counts()\n",
    "    * Add a new column 'Responses' and convert Y=(0,1) -> Responses=('Rejected','Accepted') for labels\n",
    "* Generate and prettify graph\n",
    "\n",
    "![](images/bar-coupons.png)\n"
   ]
  },
  {
   "cell_type": "code",
   "execution_count": 21,
   "metadata": {
    "hidden": true,
    "tags": []
   },
   "outputs": [
    {
     "data": {
      "text/html": [
       "<div>\n",
       "<style scoped>\n",
       "    .dataframe tbody tr th:only-of-type {\n",
       "        vertical-align: middle;\n",
       "    }\n",
       "\n",
       "    .dataframe tbody tr th {\n",
       "        vertical-align: top;\n",
       "    }\n",
       "\n",
       "    .dataframe thead th {\n",
       "        text-align: right;\n",
       "    }\n",
       "</style>\n",
       "<table border=\"1\" class=\"dataframe\">\n",
       "  <thead>\n",
       "    <tr style=\"text-align: right;\">\n",
       "      <th></th>\n",
       "      <th>coupon</th>\n",
       "      <th>Responses</th>\n",
       "      <th>count</th>\n",
       "    </tr>\n",
       "  </thead>\n",
       "  <tbody>\n",
       "    <tr>\n",
       "      <th>0</th>\n",
       "      <td>Bar</td>\n",
       "      <td>Rejected</td>\n",
       "      <td>1190</td>\n",
       "    </tr>\n",
       "    <tr>\n",
       "      <th>1</th>\n",
       "      <td>Bar</td>\n",
       "      <td>Accepted</td>\n",
       "      <td>827</td>\n",
       "    </tr>\n",
       "    <tr>\n",
       "      <th>2</th>\n",
       "      <td>Carry out &amp; Take away</td>\n",
       "      <td>Accepted</td>\n",
       "      <td>1760</td>\n",
       "    </tr>\n",
       "    <tr>\n",
       "      <th>3</th>\n",
       "      <td>Carry out &amp; Take away</td>\n",
       "      <td>Rejected</td>\n",
       "      <td>633</td>\n",
       "    </tr>\n",
       "    <tr>\n",
       "      <th>4</th>\n",
       "      <td>Coffee House</td>\n",
       "      <td>Rejected</td>\n",
       "      <td>2001</td>\n",
       "    </tr>\n",
       "    <tr>\n",
       "      <th>5</th>\n",
       "      <td>Coffee House</td>\n",
       "      <td>Accepted</td>\n",
       "      <td>1995</td>\n",
       "    </tr>\n",
       "    <tr>\n",
       "      <th>6</th>\n",
       "      <td>Restaurant(20-50)</td>\n",
       "      <td>Rejected</td>\n",
       "      <td>834</td>\n",
       "    </tr>\n",
       "    <tr>\n",
       "      <th>7</th>\n",
       "      <td>Restaurant(20-50)</td>\n",
       "      <td>Accepted</td>\n",
       "      <td>658</td>\n",
       "    </tr>\n",
       "    <tr>\n",
       "      <th>8</th>\n",
       "      <td>Restaurant(&lt;20)</td>\n",
       "      <td>Accepted</td>\n",
       "      <td>1970</td>\n",
       "    </tr>\n",
       "    <tr>\n",
       "      <th>9</th>\n",
       "      <td>Restaurant(&lt;20)</td>\n",
       "      <td>Rejected</td>\n",
       "      <td>816</td>\n",
       "    </tr>\n",
       "  </tbody>\n",
       "</table>\n",
       "</div>"
      ],
      "text/plain": [
       "                  coupon Responses  count\n",
       "0                    Bar  Rejected   1190\n",
       "1                    Bar  Accepted    827\n",
       "2  Carry out & Take away  Accepted   1760\n",
       "3  Carry out & Take away  Rejected    633\n",
       "4           Coffee House  Rejected   2001\n",
       "5           Coffee House  Accepted   1995\n",
       "6      Restaurant(20-50)  Rejected    834\n",
       "7      Restaurant(20-50)  Accepted    658\n",
       "8        Restaurant(<20)  Accepted   1970\n",
       "9        Restaurant(<20)  Rejected    816"
      ]
     },
     "execution_count": 21,
     "metadata": {},
     "output_type": "execute_result"
    }
   ],
   "source": [
    "# Use groupby to marshall Responses in new column with values based on column Y\n",
    "coupon = (data\n",
    "          .groupby('coupon')['Y']\n",
    "          .value_counts()\n",
    "          .reset_index()\n",
    "         )\n",
    "\n",
    "# Convert Y=(0,1) -> Responses=('Rejected','Accepted') for labels\n",
    "#coupon.Y = map_01_to_accept_reject(coupon.Y)\n",
    "coupon.Y = coupon.Y.map({0:'Rejected',\n",
    "                         1:'Accepted'\n",
    "                        })\n",
    "coupon = coupon.rename(columns={'Y':'Responses'})\n",
    "coupon#.head()\n"
   ]
  },
  {
   "cell_type": "code",
   "execution_count": 22,
   "metadata": {
    "hidden": true
   },
   "outputs": [
    {
     "data": {
      "image/png": "[encoded data removed]",
      "text/plain": [
       "<Figure size 614.75x500 with 1 Axes>"
      ]
     },
     "metadata": {},
     "output_type": "display_data"
    }
   ],
   "source": [
    "# Generate graph and prettify\n",
    "\n",
    "plt.rcParams[\"figure.figsize\"] = (12,12)\n",
    "\n",
    "sns.catplot(data=coupon, kind='bar',\n",
    "            y='coupon', x='count', hue='Responses',\n",
    "            palette={'Rejected':'red', 'Accepted':'green'}\n",
    "           )\n",
    "plt.title('\\nAcceptance by Coupon Type')\n",
    "plt.xlabel('Responses')\n",
    "plt.ylabel('Coupon Type')\n",
    "\n",
    "if not SUPPRESS_OUTFILES:\n",
    "    plt.savefig('images/bar-coupons.png')\n",
    "\n",
    "plt.show()"
   ]
  },
  {
   "cell_type": "markdown",
   "metadata": {
    "jp-MarkdownHeadingCollapsed": true
   },
   "source": [
    "### Use a histogram to visualize the temperature column.\n",
    "\n",
    "**Strategy**\n",
    "\n",
    "* No data prep needed - we can just graph it using sns.histplot\n",
    "\n",
    "![](images/bar-temps.png)\n"
   ]
  },
  {
   "cell_type": "code",
   "execution_count": 24,
   "metadata": {},
   "outputs": [
    {
     "data": {
      "image/png": "[encoded data removed]",
      "text/plain": [
       "<Figure size 700x500 with 1 Axes>"
      ]
     },
     "metadata": {},
     "output_type": "display_data"
    }
   ],
   "source": [
    "# No prep needed, just graph it\n",
    "\n",
    "plt.rcParams[\"figure.figsize\"] = (7,5)\n",
    "\n",
    "sns.histplot(\n",
    "    data=data,\n",
    "    x='temperature', hue='Y',\n",
    "    multiple='stack', #bins=50,\n",
    "    edgecolor='.3', linewidth=.5,\n",
    "    palette=['red','green'] #, alpha=0.5,\n",
    ")\n",
    "\n",
    "if not SUPPRESS_OUTFILES:\n",
    "    plt.savefig('images/bar-temps.png')"
   ]
  },
  {
   "cell_type": "markdown",
   "metadata": {},
   "source": [
    "## Investigating the Bar Coupons\n",
    "\n",
    "Now, we will lead you through an exploration of just the bar related coupons.  \n"
   ]
  },
  {
   "cell_type": "markdown",
   "metadata": {},
   "source": [
    "### Utility Functions"
   ]
  },
  {
   "cell_type": "markdown",
   "metadata": {
    "heading_collapsed": true,
    "jp-MarkdownHeadingCollapsed": true
   },
   "source": [
    "#### Generate stacked-barplots for criteria-based queries - reused in multiple places\n",
    "\n",
    "1. ```graph_criteria_query_barchart```\n",
    "    * This utility function is used to generate the Acceptance Stacked Bar graphs based on criteria queries for the various investigations\n",
    "    * Called multiple times to visualize the results of criteria-based queries\n",
    "1. ```calculate_metrics```\n",
    "    Converts output from ```build_graph_data_row``` that can be passed to ```graph_criteria_query_barchart``` for graphing\n",
    "3. ```build_graph_data_row```\n",
    "    Converts the criteria query data into a single row that can be used to generate and graph metrics for the criteria"
   ]
  },
  {
   "cell_type": "code",
   "execution_count": 28,
   "metadata": {
    "hidden": true
   },
   "outputs": [],
   "source": [
    "# graph it now\n",
    "def graph_criteria_query_barchart(graph_df, label_x, label_y, label_t, png_out_filepath):\n",
    "    \"\"\"\n",
    "    Generates a stacked bar graph for data in the following dictionary format:\n",
    "    \n",
    "        {0: {0: 1144, 1: 46},\n",
    "         1: {0: 674, 1: 153},\n",
    "         'criteria': {0: '3 or fewer', 1: 'More than 3'},\n",
    "         'total': {0: 1818, 1: 199},\n",
    "         'rate': {0: 37.07, 1: 76.88}}\n",
    "    \n",
    "    where\n",
    "    \n",
    "        0: Rejected coupons\n",
    "        1: Accepted coupons\n",
    "        criteria: Label for x-axis that was used to query the coupons data. Must be unique per row\n",
    "        total: col 0 + col 1\n",
    "        rate: Acceptance rate\n",
    "        \n",
    "    \n",
    "    :param graph_df: DF in the above format\n",
    "    :param label_x: x-axis label\n",
    "    :param label_y: y-axis label\n",
    "    :param label_t: title\n",
    "    :param png_out_filepath: output filepath to save graph as a PNG. Pass None to not save the graph image\n",
    "    \"\"\"\n",
    "    sns.set_theme(style='darkgrid', palette=None)\n",
    "\n",
    "    fig, ax = plt.subplots(figsize=(10,5))\n",
    "\n",
    "    # Start the bar plot using the totals in red\n",
    "    bar_total = ax.bar(graph_df['criteria'], graph_df['total'], color = 'red')\n",
    "\n",
    "    # Overlay with accepted as green\n",
    "    bar_accepted = ax.bar(graph_df['criteria'], graph_df[1], color = 'green')\n",
    "\n",
    "    # Adding the values from column '1' on the bars\n",
    "    for i, bar in enumerate(bar_accepted):\n",
    "        height = bar.get_height()\n",
    "        ax.text(\n",
    "            bar.get_x() + bar.get_width() / 2,  # x position\n",
    "            bar.get_y() + height / 2,  # y position (middle of the bar)\n",
    "            f'{graph_df[\"rate\"][i]:.2f}%',  # text (the rate value)\n",
    "            ha='center',  # horizontal alignment\n",
    "            va='center',  # vertical alignment\n",
    "            color='orange',  # text color\n",
    "            fontsize=12  # text font size\n",
    "        )\n",
    "\n",
    "    # Create the legend\n",
    "    topbar = plt.Rectangle((0,0),1,1,fc=\"red\", edgecolor = 'none')\n",
    "    bottombar = plt.Rectangle((0,0),1,1,fc='green',  edgecolor = 'none')\n",
    "    l = plt.legend([bottombar, topbar], ['Accepted', 'Rejected'], loc=0)\n",
    "    #l.draw_frame(False)\n",
    "\n",
    "    ax.set_xlabel(label_x)\n",
    "    ax.set_ylabel(label_y)\n",
    "    ax.set_title(label_t)\n",
    "\n",
    "    if (not SUPPRESS_OUTFILES) and (png_out_filepath != None):\n",
    "        plt.savefig(png_out_filepath)\n",
    "\n",
    "    plt.show()"
   ]
  },
  {
   "cell_type": "code",
   "execution_count": 29,
   "metadata": {
    "hidden": true
   },
   "outputs": [],
   "source": [
    "def calculate_metrics(df):\n",
    "    '''\n",
    "    Given an array with the structure required by graph_criteria_query_barchart(), adds 'total' and 'rate' columns\n",
    "    \n",
    "    :parameter df: DF containing the data\n",
    "    :return: Returns a new DF\n",
    "    '''\n",
    "    gdf = pd.DataFrame(df)\n",
    "    \n",
    "    if (len(df) == 0):\n",
    "        return gdf\n",
    "\n",
    "    # Calculate totals and acceptance rate\n",
    "    gdf['total'] = gdf[0] + gdf[1]\n",
    "    gdf['rate'] = (gdf[1] / gdf['total']).mul(100).round(2)\n",
    "\n",
    "    # Rename the criteria column\n",
    "    gdf = gdf.rename(columns={2:'criteria'})\n",
    "    \n",
    "    return gdf"
   ]
  },
  {
   "cell_type": "code",
   "execution_count": 30,
   "metadata": {
    "hidden": true
   },
   "outputs": [],
   "source": [
    "def build_graph_data_row(df_rows, df_label):\n",
    "    \"\"\"\n",
    "    Given a DF with data rows, builds the data structure required for calculating the metrics for criteria query\n",
    "    \n",
    "    :param df_rows: DF containg rows from our CSV that contain the results from the criteria query\n",
    "    :param df_label: Label to attach to the metrics data to calculated\n",
    "    :return: Returns the data formatted for input to the calculate_metrics() function\n",
    "    \"\"\"\n",
    "    \n",
    "    # Get the stats for IN criteria - start with full data\n",
    "    graph_row = (df_rows.groupby('Y')['Y'].value_counts())\n",
    "    graph_row[2] = df_label\n",
    "    \n",
    "    return graph_row.values\n"
   ]
  },
  {
   "cell_type": "markdown",
   "metadata": {
    "jp-MarkdownHeadingCollapsed": true
   },
   "source": [
    "#### Generate barplot grouped by category criteria\n",
    "\n",
    "1. ```graph_grouping_barchart```\n",
    "    * This utility function is used to generate the side-by-side category grouped bar charts for the various investigations\n",
    "    * Called multiple times to visualize the results of criteria-based queries"
   ]
  },
  {
   "cell_type": "code",
   "execution_count": 32,
   "metadata": {},
   "outputs": [],
   "source": [
    "def graph_grouping_barchart(x_categories, groups, colors, \n",
    "                            title, label_y,\n",
    "                            width, height\n",
    "                           ):\n",
    "    \"\"\"\n",
    "    Generates a bargraph grouped by categories :\n",
    "\n",
    "    where\n",
    "    \n",
    "        x_categories: List of categories to use for grouping along the x-axis\n",
    "        groups: Dictionary {'key': Series} where each bar in the group is rendered with the key in the Legend and Series as the bar height\n",
    "        colors: List containing the colors for the bar groups and Legend\n",
    "        label_y: y-axis label\n",
    "        width: Resize graph to width\n",
    "        height: Resize graph to height\n",
    "\n",
    "    \n",
    "    :param graph_df: DF in the above format\n",
    "    :param label_x: x-axis label\n",
    "    :param label_y: y-axis label\n",
    "    :param label_t: title\n",
    "    :param png_out_filepath: output filepath to save graph as a PNG. Pass None to not save the graph image\n",
    "    \"\"\"\n",
    "    \n",
    "    plt.rcParams[\"figure.figsize\"] = (width, height)\n",
    "    \n",
    "    # Create the plot\n",
    "    x = np.arange(len(x_categories))  # the label locations\n",
    "    width = 0.15  # the width of the bars\n",
    "    multiplier = 0\n",
    "    \n",
    "    fig, ax = plt.subplots()#layout=\"constrained\")\n",
    "    \n",
    "    for (attribute, measurement), color in zip(groups.items(), colors):\n",
    "        offset = width * multiplier\n",
    "        rects = ax.bar(\n",
    "            x + offset,\n",
    "            measurement,\n",
    "            width,\n",
    "            label=attribute,\n",
    "            color=color\n",
    "        )\n",
    "        multiplier += 1\n",
    "    \n",
    "    # Add some text for labels, title and custom x-axis tick labels, etc.\n",
    "    ax.set_ylabel(label_y)\n",
    "    ax.set_title(title)\n",
    "    ax.set_xticks(x + width * (len(groups) - 1) / 2)\n",
    "    ax.set_xticklabels(x_categories)\n",
    "    ax.legend()\n",
    "    \n",
    "    fig.tight_layout()\n",
    "    \n",
    "    # Display the plot\n",
    "    plt.show()\n"
   ]
  },
  {
   "cell_type": "markdown",
   "metadata": {},
   "source": [
    "### Create a new `DataFrame` that contains just the bar coupons.\n",
    "\n",
    "**Strategy**\n",
    "\n",
    "* Make a new copy of the 'curated' data from earlier called 'coupons_bar'\n",
    "* Dropped 21 rows in the resulting DataFrame as they are only 0.17% of the total Bar coupons and won't impact this investigation"
   ]
  },
  {
   "cell_type": "code",
   "execution_count": 34,
   "metadata": {},
   "outputs": [
    {
     "data": {
      "text/html": [
       "<div>\n",
       "<style scoped>\n",
       "    .dataframe tbody tr th:only-of-type {\n",
       "        vertical-align: middle;\n",
       "    }\n",
       "\n",
       "    .dataframe tbody tr th {\n",
       "        vertical-align: top;\n",
       "    }\n",
       "\n",
       "    .dataframe thead th {\n",
       "        text-align: right;\n",
       "    }\n",
       "</style>\n",
       "<table border=\"1\" class=\"dataframe\">\n",
       "  <thead>\n",
       "    <tr style=\"text-align: right;\">\n",
       "      <th></th>\n",
       "      <th>destination</th>\n",
       "      <th>passanger</th>\n",
       "      <th>weather</th>\n",
       "      <th>temperature</th>\n",
       "      <th>time</th>\n",
       "      <th>coupon</th>\n",
       "      <th>expiration</th>\n",
       "      <th>gender</th>\n",
       "      <th>age</th>\n",
       "      <th>maritalStatus</th>\n",
       "      <th>...</th>\n",
       "      <th>CoffeeHouse</th>\n",
       "      <th>CarryAway</th>\n",
       "      <th>RestaurantLessThan20</th>\n",
       "      <th>Restaurant20To50</th>\n",
       "      <th>toCoupon_GEQ5min</th>\n",
       "      <th>toCoupon_GEQ15min</th>\n",
       "      <th>toCoupon_GEQ25min</th>\n",
       "      <th>direction_same</th>\n",
       "      <th>direction_opp</th>\n",
       "      <th>Y</th>\n",
       "    </tr>\n",
       "  </thead>\n",
       "  <tbody>\n",
       "    <tr>\n",
       "      <th>9</th>\n",
       "      <td>No Urgent Place</td>\n",
       "      <td>Kid(s)</td>\n",
       "      <td>Sunny</td>\n",
       "      <td>80</td>\n",
       "      <td>10AM</td>\n",
       "      <td>Bar</td>\n",
       "      <td>1d</td>\n",
       "      <td>Female</td>\n",
       "      <td>21</td>\n",
       "      <td>Unmarried partner</td>\n",
       "      <td>...</td>\n",
       "      <td>never</td>\n",
       "      <td>NaN</td>\n",
       "      <td>4~8</td>\n",
       "      <td>1~3</td>\n",
       "      <td>1</td>\n",
       "      <td>1</td>\n",
       "      <td>0</td>\n",
       "      <td>0</td>\n",
       "      <td>1</td>\n",
       "      <td>0</td>\n",
       "    </tr>\n",
       "    <tr>\n",
       "      <th>13</th>\n",
       "      <td>Home</td>\n",
       "      <td>Alone</td>\n",
       "      <td>Sunny</td>\n",
       "      <td>55</td>\n",
       "      <td>6PM</td>\n",
       "      <td>Bar</td>\n",
       "      <td>1d</td>\n",
       "      <td>Female</td>\n",
       "      <td>21</td>\n",
       "      <td>Unmarried partner</td>\n",
       "      <td>...</td>\n",
       "      <td>never</td>\n",
       "      <td>NaN</td>\n",
       "      <td>4~8</td>\n",
       "      <td>1~3</td>\n",
       "      <td>1</td>\n",
       "      <td>0</td>\n",
       "      <td>0</td>\n",
       "      <td>1</td>\n",
       "      <td>0</td>\n",
       "      <td>1</td>\n",
       "    </tr>\n",
       "  </tbody>\n",
       "</table>\n",
       "<p>2 rows × 25 columns</p>\n",
       "</div>"
      ],
      "text/plain": [
       "        destination passanger weather  temperature  time coupon expiration  \\\n",
       "9   No Urgent Place    Kid(s)   Sunny           80  10AM    Bar         1d   \n",
       "13             Home     Alone   Sunny           55   6PM    Bar         1d   \n",
       "\n",
       "    gender age      maritalStatus  ...  CoffeeHouse CarryAway  \\\n",
       "9   Female  21  Unmarried partner  ...        never       NaN   \n",
       "13  Female  21  Unmarried partner  ...        never       NaN   \n",
       "\n",
       "   RestaurantLessThan20 Restaurant20To50 toCoupon_GEQ5min toCoupon_GEQ15min  \\\n",
       "9                   4~8              1~3                1                 1   \n",
       "13                  4~8              1~3                1                 0   \n",
       "\n",
       "   toCoupon_GEQ25min direction_same direction_opp  Y  \n",
       "9                  0              0             1  0  \n",
       "13                 0              1             0  1  \n",
       "\n",
       "[2 rows x 25 columns]"
      ]
     },
     "execution_count": 34,
     "metadata": {},
     "output_type": "execute_result"
    }
   ],
   "source": [
    "# Make a new copy of the \"curated\" data from earlier\n",
    "\n",
    "coupons_bar = data.copy();\n",
    "coupons_bar = coupons_bar[data.coupon == 'Bar']\n",
    "coupons_bar.head(2)"
   ]
  },
  {
   "cell_type": "code",
   "execution_count": 35,
   "metadata": {},
   "outputs": [],
   "source": [
    "NA_values = coupons_bar.isna().sum()['Bar']"
   ]
  },
  {
   "cell_type": "code",
   "execution_count": 36,
   "metadata": {
    "tags": []
   },
   "outputs": [
    {
     "data": {
      "text/plain": [
       "Bar  \n",
       "never    830\n",
       "less1    570\n",
       "1~3      397\n",
       "4~8      150\n",
       "gt8       49\n",
       "Name: count, dtype: int64"
      ]
     },
     "execution_count": 36,
     "metadata": {},
     "output_type": "execute_result"
    }
   ],
   "source": [
    "# Drop nulls\n",
    "coupons_bar.dropna(subset=['Bar'], inplace=True)\n",
    "coupons_bar[['Bar']].value_counts()"
   ]
  },
  {
   "cell_type": "code",
   "execution_count": 37,
   "metadata": {},
   "outputs": [
    {
     "name": "stdout",
     "output_type": "stream",
     "text": [
      "Dropped 21 rows from 12684 where coupons_bar[['Bar']].isna()\n"
     ]
    }
   ],
   "source": [
    "print('Dropped {} rows from {} where coupons_bar[[\\'Bar\\']].isna()'\n",
    "      .format(NA_values, data.shape[0]))"
   ]
  },
  {
   "cell_type": "markdown",
   "metadata": {},
   "source": [
    "### What proportion of bar coupons were accepted?\n",
    "\n",
    "**Strategy**\n",
    "\n",
    "* Calcualte the Bar Coupon Acceptance Rate using coupons_bar.shape\n",
    "* Visualize the data in a couple of different ways \n",
    "    * Visualization 1: Pie chart of overall Bar Coupon Acceptance Rate\n",
    "    * Visualization 2: Bar graph of Bar Coupon Acceptance distribution\n"
   ]
  },
  {
   "cell_type": "code",
   "execution_count": 39,
   "metadata": {},
   "outputs": [
    {
     "name": "stdout",
     "output_type": "stream",
     "text": [
      "Overall Bar Coupon Acceptance Rate: 41.03%\n"
     ]
    }
   ],
   "source": [
    "acceptance_rate_bar = (coupons_bar[coupons_bar['Y'] == 1].shape[0] / coupons_bar.shape[0]) * 100\n",
    "print('Overall Bar Coupon Acceptance Rate: {:.2f}%'.format(acceptance_rate_bar))"
   ]
  },
  {
   "cell_type": "markdown",
   "metadata": {
    "jp-MarkdownHeadingCollapsed": true
   },
   "source": [
    "#### Visualization 1: Pie chart of the Overall Bar Coupon Acceptance Rate\n",
    "\n",
    "**Strategy**\n",
    "* Data Prep: Create acceptanece_rate_pie DF using groupby('Y').value_counts()\n",
    "* Fix the labels and set the color appropriately as above\n",
    "\n",
    "**Findings**\n",
    "* The overall Bar Coupon Acceptance Rate as a Pie Graph\n",
    "\n",
    "![](images/pie-acceptance-overall-bar.png)\n"
   ]
  },
  {
   "cell_type": "code",
   "execution_count": 41,
   "metadata": {
    "tags": []
   },
   "outputs": [
    {
     "data": {
      "image/png": "[encoded data removed]",
      "text/plain": [
       "<Figure size 300x300 with 1 Axes>"
      ]
     },
     "metadata": {},
     "output_type": "display_data"
    }
   ],
   "source": [
    "# Create the DF for the graph\n",
    "acceptance_rate_pie = coupons_bar.groupby('Y')['Y'].value_counts().rename('Acceptance Rate').reset_index()\n",
    "\n",
    "# Prettify graph\n",
    "names = ('Rejected', 'Accepted')\n",
    "colors = ('red', 'green')\n",
    "plt.rcParams[\"figure.figsize\"] = (3,3)\n",
    "sns.set_theme(style='darkgrid', palette=None)\n",
    "\n",
    "acceptance_rate_pie.plot.pie(y='Acceptance Rate',\n",
    "                             autopct='%1.1f%%', \n",
    "                             labels=names,\n",
    "                             colors=colors,\n",
    "                             legend=False\n",
    "                            )\n",
    "plt.title('Overall Bar Coupon Acceptance Rate')\n",
    "\n",
    "if not SUPPRESS_OUTFILES:\n",
    "    plt.savefig('images/pie-acceptance-overall-bar.png')"
   ]
  },
  {
   "cell_type": "markdown",
   "metadata": {
    "heading_collapsed": true,
    "jp-MarkdownHeadingCollapsed": true
   },
   "source": [
    "#### Visualization 2: Bar graph of the Overall Bar Coupon Acceptance distribution\n",
    "\n",
    "**Strategy**\n",
    "* Data Prep\n",
    "    * Create new DF with counts of each coupon type groupby('Bar').value_counts()\n",
    "    * Create a pivot table with each row containing both acceptance and rejection per coupon type\n",
    "    * Calculate totals and acceptance rate for each row (bucket)\n",
    "    * Manually order the buckets so they x-axis appear 'natural' like a time-series\n",
    "* Bar graph: ```Call graph_criteria_query_barchart()``` to graph the data\n",
    "\n",
    "**Findings**\n",
    "* Overall Coupon Accepted / Rejected as a stacked-bar graph showing the distribution per Bar Coupon Type\n",
    "\n",
    "![](images/bar-acceptance-overall.png)\n"
   ]
  },
  {
   "cell_type": "code",
   "execution_count": 43,
   "metadata": {
    "hidden": true,
    "tags": []
   },
   "outputs": [],
   "source": [
    "# Bar acceptance buckets by count\n",
    "bar_count = (coupons_bar\n",
    "             .groupby('Bar')['Y']\n",
    "             .value_counts()\n",
    "             .reset_index()\n",
    ")\n",
    "#bar_count"
   ]
  },
  {
   "cell_type": "code",
   "execution_count": 44,
   "metadata": {
    "hidden": true,
    "tags": []
   },
   "outputs": [],
   "source": [
    "bar_p = bar_count.pivot(index='Bar', columns='Y', values='count').reset_index()\n",
    "bar_p['total'] = bar_p[0] + bar_p[1]\n",
    "bar_p['rate'] = (bar_p[1] / bar_p['total']).mul(100).round(2)\n",
    "#bar_p"
   ]
  },
  {
   "cell_type": "code",
   "execution_count": 45,
   "metadata": {
    "hidden": true,
    "tags": []
   },
   "outputs": [],
   "source": [
    "# Manually sort based on frequency of visiting a bar\n",
    "#col_order = [2, 5, 4, 0, 1, 3]\n",
    "col_order = [4, 3, 0, 1, 2]\n",
    "bar_p = bar_p.reindex(col_order)\n",
    "#bar_p"
   ]
  },
  {
   "cell_type": "code",
   "execution_count": 46,
   "metadata": {
    "hidden": true
   },
   "outputs": [
    {
     "data": {
      "text/html": [
       "<div>\n",
       "<style scoped>\n",
       "    .dataframe tbody tr th:only-of-type {\n",
       "        vertical-align: middle;\n",
       "    }\n",
       "\n",
       "    .dataframe tbody tr th {\n",
       "        vertical-align: top;\n",
       "    }\n",
       "\n",
       "    .dataframe thead th {\n",
       "        text-align: right;\n",
       "    }\n",
       "</style>\n",
       "<table border=\"1\" class=\"dataframe\">\n",
       "  <thead>\n",
       "    <tr style=\"text-align: right;\">\n",
       "      <th></th>\n",
       "      <th>criteria</th>\n",
       "      <th>0</th>\n",
       "      <th>1</th>\n",
       "      <th>total</th>\n",
       "      <th>rate</th>\n",
       "    </tr>\n",
       "  </thead>\n",
       "  <tbody>\n",
       "    <tr>\n",
       "      <th>0</th>\n",
       "      <td>never</td>\n",
       "      <td>674</td>\n",
       "      <td>156</td>\n",
       "      <td>830</td>\n",
       "      <td>18.8</td>\n",
       "    </tr>\n",
       "    <tr>\n",
       "      <th>1</th>\n",
       "      <td>less1</td>\n",
       "      <td>317</td>\n",
       "      <td>253</td>\n",
       "      <td>570</td>\n",
       "      <td>44.39</td>\n",
       "    </tr>\n",
       "    <tr>\n",
       "      <th>2</th>\n",
       "      <td>1~3</td>\n",
       "      <td>140</td>\n",
       "      <td>257</td>\n",
       "      <td>397</td>\n",
       "      <td>64.74</td>\n",
       "    </tr>\n",
       "    <tr>\n",
       "      <th>3</th>\n",
       "      <td>4~8</td>\n",
       "      <td>33</td>\n",
       "      <td>117</td>\n",
       "      <td>150</td>\n",
       "      <td>78.0</td>\n",
       "    </tr>\n",
       "    <tr>\n",
       "      <th>4</th>\n",
       "      <td>gt8</td>\n",
       "      <td>13</td>\n",
       "      <td>36</td>\n",
       "      <td>49</td>\n",
       "      <td>73.47</td>\n",
       "    </tr>\n",
       "  </tbody>\n",
       "</table>\n",
       "</div>"
      ],
      "text/plain": [
       "  criteria    0    1 total   rate\n",
       "0    never  674  156   830   18.8\n",
       "1    less1  317  253   570  44.39\n",
       "2      1~3  140  257   397  64.74\n",
       "3      4~8   33  117   150   78.0\n",
       "4      gt8   13   36    49  73.47"
      ]
     },
     "execution_count": 46,
     "metadata": {},
     "output_type": "execute_result"
    }
   ],
   "source": [
    "# re-foramt data to send to graph_criteria_query_barchart() function\n",
    "# 1. rename Bar column to criteria\n",
    "# 2. Remove the Y column index\n",
    "\n",
    "bar_p = bar_p.rename(columns={'Bar':'criteria'})\n",
    "\n",
    "bar_temp_df = pd.DataFrame(bar_p.to_numpy(), \n",
    "                           columns=['criteria', 0, 1, 'total', 'rate'])\n",
    "bar_temp_df"
   ]
  },
  {
   "cell_type": "code",
   "execution_count": 47,
   "metadata": {
    "hidden": true
   },
   "outputs": [
    {
     "data": {
      "image/png": "[encoded data removed]",
      "text/plain": [
       "<Figure size 1000x500 with 1 Axes>"
      ]
     },
     "metadata": {},
     "output_type": "display_data"
    }
   ],
   "source": [
    "# Grapht it!\n",
    "label_x='Bar Coupon Type'\n",
    "label_y='Acceptance Rate by Bar Coupons'\n",
    "label_t='Overall Acceptance Rate for \"Bar\" Coupons'\n",
    "outfile='images/bar-acceptance-overall.png'\n",
    "graph_criteria_query_barchart(bar_temp_df, label_x, label_y, label_t, outfile)"
   ]
  },
  {
   "cell_type": "markdown",
   "metadata": {
    "heading_collapsed": true,
    "jp-MarkdownHeadingCollapsed": true
   },
   "source": [
    "### Compare the acceptance rate between those who went to a bar 3 or fewer times a month to those who went more.\n",
    "\n",
    "**Strategy**\n",
    "\n",
    "* Criteria: Visit bar 3 or fewer times a month\n",
    "* Data Preparation\n",
    "    * Inspect Bar column\n",
    "    * Define list containing the list of Bar elements that meet the 3 or fewer criteria: \n",
    "    ```\n",
    "    bar_3_or_fewer = ['never', 'less1', '1~3']\n",
    "    ```\n",
    "* Run criteria query for both ```in @bar_3_or_fewer``` and ```not in @bar_3_or_fewer``` cases\n",
    "* Load the results into DF for graphing and call graph_criteria_query_barchart() function\n",
    "\n",
    "**Findings**\n",
    "\n",
    "1. Acceptance rate for the less frequent visitors was much lower (37.06%) compared to the \"regulars\" who accepted the coupons 76.88% even though it was a much larger group (1,797 vs 199)\n",
    "1. The results were as expected - \"regulars\" were almost twice as likely to redeem the coupons, even though there were fewer overall regulars \n",
    "\n",
    "![](images/bar-visit-3-or-more.png)"
   ]
  },
  {
   "cell_type": "code",
   "execution_count": 49,
   "metadata": {
    "hidden": true
   },
   "outputs": [],
   "source": [
    "# criteria: 3 or fewer visits per month\n",
    "\n",
    "# Criteria for the visit frequency\n",
    "bar_3_or_fewer = ['never', 'less1', '1~3']\n",
    "\n",
    "graph_data = []\n",
    "criteria='Bar in @bar_3_or_fewer'\n",
    "criteria_not='Bar not in @bar_3_or_fewer'\n",
    "\n",
    "# Get the stats for IN @bar_3_or_fewer\n",
    "graph_row = (coupons_bar.query(criteria)\n",
    "             .groupby('Y')['Y']\n",
    "             .value_counts()\n",
    ")\n",
    "graph_row[2] = '3 or fewer'\n",
    "graph_data.append(graph_row.values)\n",
    "\n",
    "# Get the stats for NOT IN @bar_3_or_fewer\n",
    "graph_row = (coupons_bar.query(criteria_not)\n",
    "             .groupby('Y')['Y']\n",
    "             .value_counts()\n",
    ")\n",
    "graph_row[2] = 'More than 3'\n",
    "graph_data.append(graph_row.values)\n",
    "#graph_data"
   ]
  },
  {
   "cell_type": "code",
   "execution_count": 50,
   "metadata": {
    "hidden": true
   },
   "outputs": [
    {
     "data": {
      "text/html": [
       "<div>\n",
       "<style scoped>\n",
       "    .dataframe tbody tr th:only-of-type {\n",
       "        vertical-align: middle;\n",
       "    }\n",
       "\n",
       "    .dataframe tbody tr th {\n",
       "        vertical-align: top;\n",
       "    }\n",
       "\n",
       "    .dataframe thead th {\n",
       "        text-align: right;\n",
       "    }\n",
       "</style>\n",
       "<table border=\"1\" class=\"dataframe\">\n",
       "  <thead>\n",
       "    <tr style=\"text-align: right;\">\n",
       "      <th></th>\n",
       "      <th>0</th>\n",
       "      <th>1</th>\n",
       "      <th>criteria</th>\n",
       "      <th>total</th>\n",
       "      <th>rate</th>\n",
       "    </tr>\n",
       "  </thead>\n",
       "  <tbody>\n",
       "    <tr>\n",
       "      <th>0</th>\n",
       "      <td>1131</td>\n",
       "      <td>666</td>\n",
       "      <td>3 or fewer</td>\n",
       "      <td>1797</td>\n",
       "      <td>37.06</td>\n",
       "    </tr>\n",
       "    <tr>\n",
       "      <th>1</th>\n",
       "      <td>46</td>\n",
       "      <td>153</td>\n",
       "      <td>More than 3</td>\n",
       "      <td>199</td>\n",
       "      <td>76.88</td>\n",
       "    </tr>\n",
       "  </tbody>\n",
       "</table>\n",
       "</div>"
      ],
      "text/plain": [
       "      0    1     criteria  total   rate\n",
       "0  1131  666   3 or fewer   1797  37.06\n",
       "1    46  153  More than 3    199  76.88"
      ]
     },
     "execution_count": 50,
     "metadata": {},
     "output_type": "execute_result"
    }
   ],
   "source": [
    "# Load the graph data into DF for graphing\n",
    "graph_df = pd.DataFrame(graph_data)\n",
    "\n",
    "# Calculate totals and acceptance rate\n",
    "graph_df['total'] = graph_df[0] + graph_df[1]\n",
    "graph_df['rate'] = (graph_df[1] / graph_df['total']).mul(100).round(2)\n",
    "\n",
    "# Rename the criteria column\n",
    "graph_df = graph_df.rename(columns={2:'criteria'})\n",
    "graph_df"
   ]
  },
  {
   "cell_type": "code",
   "execution_count": 51,
   "metadata": {
    "hidden": true
   },
   "outputs": [
    {
     "data": {
      "image/png": "[encoded data removed]",
      "text/plain": [
       "<Figure size 1000x500 with 1 Axes>"
      ]
     },
     "metadata": {},
     "output_type": "display_data"
    }
   ],
   "source": [
    "# Grapht it!\n",
    "label_x='Criteria: Number of Visits per month'\n",
    "label_y='Acceptance Rate'\n",
    "label_t='Acceptance Rate for \"Bar\" Coupons'\n",
    "outfile='images/bar-visit-3-or-more.png'\n",
    "graph_criteria_query_barchart(graph_df, label_x, label_y, label_t, outfile)"
   ]
  },
  {
   "cell_type": "markdown",
   "metadata": {
    "heading_collapsed": true,
    "jp-MarkdownHeadingCollapsed": true
   },
   "source": [
    "### Compare the acceptance rate between drivers who go to a bar more than once a month and are over the age of 25 to the all others.  Is there a difference?\n",
    "\n",
    "**Strategy**\n",
    "\n",
    "* Criteria: Visit bar more than once and over 25 yrs old\n",
    "* Data Preparation\n",
    "    * Inspect the age column for clean data\n",
    "        * Create a new DF for our query - copy needed because we need to normalize the ages and don't want to mess up the clean data\n",
    "        * Convert age=below21 to 20 and age=50plus to 51 - good enough for age > 25 criteria\n",
    "        * Convert 'age' to ints\n",
    "    * Define lists for SQL criteria: \n",
    "        ```\n",
    "        bar_1_or_more = ['1~3','4~8', 'gt8']\n",
    "        ```\n",
    "* Run criteria query\n",
    "* Load the results into DF for graphing and call graph_criteria_query_barchart() function\n",
    "\n",
    "**Findings**\n",
    "\n",
    "1. Criteria query SQL\n",
    "```\n",
    "criteria='(Bar in @bar_1_or_more and age > 25)'\n",
    "criteria_not='Bar not in @bar_1_or_more and age <= 25'\n",
    "```\n",
    "1. Acceptance rate for those who visit a bar more than once a month and are over 25yrs old was higher (69.52%) compared to the rest of the population (39.45%)\n",
    "1. The results were as expected - bar-goers of legal age were almost twice as likely to redeem the coupons\n",
    "\n",
    "![](images/bar-25plus-frequent.png)"
   ]
  },
  {
   "cell_type": "code",
   "execution_count": 53,
   "metadata": {
    "hidden": true,
    "scrolled": true
   },
   "outputs": [],
   "source": [
    "#coupons_bar.age.value_counts()"
   ]
  },
  {
   "cell_type": "code",
   "execution_count": 54,
   "metadata": {
    "hidden": true
   },
   "outputs": [],
   "source": [
    "# Create a new DF for our query - copy needed because we need to normalize the ages to ints\n",
    "temp_coupons_bar = coupons_bar.copy()\n",
    "\n",
    "# convert age=below21 to 20 and age=50plus to 51 - good enough for age > 25 criteria\n",
    "temp_coupons_bar['age'] = temp_coupons_bar['age'].replace({'below21': 20, '50plus': 51})\n",
    "temp_coupons_bar['age'] = temp_coupons_bar['age'].astype(int)\n",
    "\n",
    "#temp_coupons_bar.age.value_counts()"
   ]
  },
  {
   "cell_type": "code",
   "execution_count": 55,
   "metadata": {
    "hidden": true
   },
   "outputs": [],
   "source": [
    "# criteria for visit frequecy\n",
    "bar_1_or_more = ['1~3','4~8', 'gt8']\n",
    "criteria = ''\n",
    "\n",
    "graph_data = []\n",
    "\n",
    "# Get the stats for IN @bar_3_or_fewer\n",
    "graph_row = (temp_coupons_bar.query('(Bar in @bar_1_or_more and age > 25)')\n",
    "             .groupby('Y')['Y']\n",
    "             .value_counts()\n",
    ")\n",
    "graph_row[2] = 'Visits > 1 and age > 25'\n",
    "graph_data.append(graph_row.values)\n",
    "\n",
    "# Get the stats for NOTIN @bar_3_or_fewer\n",
    "graph_row = (temp_coupons_bar.query('Bar not in @bar_1_or_more and age <= 25')\n",
    "             .groupby('Y')['Y']\n",
    "             .value_counts()\n",
    ")\n",
    "graph_row[2] = 'NOT (Visits > 1 and age > 25)'\n",
    "graph_data.append(graph_row.values)\n",
    "#graph_data"
   ]
  },
  {
   "cell_type": "code",
   "execution_count": 56,
   "metadata": {
    "hidden": true
   },
   "outputs": [
    {
     "data": {
      "text/html": [
       "<div>\n",
       "<style scoped>\n",
       "    .dataframe tbody tr th:only-of-type {\n",
       "        vertical-align: middle;\n",
       "    }\n",
       "\n",
       "    .dataframe tbody tr th {\n",
       "        vertical-align: top;\n",
       "    }\n",
       "\n",
       "    .dataframe thead th {\n",
       "        text-align: right;\n",
       "    }\n",
       "</style>\n",
       "<table border=\"1\" class=\"dataframe\">\n",
       "  <thead>\n",
       "    <tr style=\"text-align: right;\">\n",
       "      <th></th>\n",
       "      <th>0</th>\n",
       "      <th>1</th>\n",
       "      <th>criteria</th>\n",
       "      <th>total</th>\n",
       "      <th>rate</th>\n",
       "    </tr>\n",
       "  </thead>\n",
       "  <tbody>\n",
       "    <tr>\n",
       "      <th>0</th>\n",
       "      <td>128</td>\n",
       "      <td>292</td>\n",
       "      <td>Visits &gt; 1 and age &gt; 25</td>\n",
       "      <td>420</td>\n",
       "      <td>69.52</td>\n",
       "    </tr>\n",
       "    <tr>\n",
       "      <th>1</th>\n",
       "      <td>198</td>\n",
       "      <td>129</td>\n",
       "      <td>NOT (Visits &gt; 1 and age &gt; 25)</td>\n",
       "      <td>327</td>\n",
       "      <td>39.45</td>\n",
       "    </tr>\n",
       "  </tbody>\n",
       "</table>\n",
       "</div>"
      ],
      "text/plain": [
       "     0    1                       criteria  total   rate\n",
       "0  128  292        Visits > 1 and age > 25    420  69.52\n",
       "1  198  129  NOT (Visits > 1 and age > 25)    327  39.45"
      ]
     },
     "execution_count": 56,
     "metadata": {},
     "output_type": "execute_result"
    }
   ],
   "source": [
    "# Load the graph data into DF for graphing\n",
    "graph_df = pd.DataFrame(graph_data)\n",
    "\n",
    "# Calculate totals and acceptance rate\n",
    "graph_df['total'] = graph_df[0] + graph_df[1]\n",
    "graph_df['rate'] = (graph_df[1] / graph_df['total']).mul(100).round(2)\n",
    "\n",
    "# Rename the criteria column\n",
    "graph_df = graph_df.rename(columns={2:'criteria'})\n",
    "graph_df"
   ]
  },
  {
   "cell_type": "code",
   "execution_count": 57,
   "metadata": {
    "hidden": true
   },
   "outputs": [
    {
     "data": {
      "image/png": "[encoded data removed]",
      "text/plain": [
       "<Figure size 1000x500 with 1 Axes>"
      ]
     },
     "metadata": {},
     "output_type": "display_data"
    }
   ],
   "source": [
    "# Grapht it!\n",
    "label_x='Criteria: Visit bar more than once a month and over 25 yrs old'\n",
    "label_y='Acceptance Rate'\n",
    "label_t='Acceptance Rate for \"Bar\" Coupons'\n",
    "outfile='images/bar-25plus-frequent.png'\n",
    "graph_criteria_query_barchart(graph_df, label_x, label_y, label_t, outfile)"
   ]
  },
  {
   "cell_type": "markdown",
   "metadata": {
    "heading_collapsed": true,
    "jp-MarkdownHeadingCollapsed": true
   },
   "source": [
    "### Use the same process to compare the acceptance rate between drivers who go to bars more than once a month and had passengers that were not a kid and had occupations other than farming, fishing, or forestry. \n",
    "\n",
    "\n",
    "**Strategy**\n",
    "\n",
    "* Criteria: Visits > 1 and passengers != 'Kid(s)' and occupations != 'Farming Fishing & Forestry'\n",
    "* Data Preparation\n",
    "    * Inspect the passenger column for clean data - looks good!\n",
    "    * Inspect the occupation column for clean data - looks good\n",
    "        * Create a new DF for our query - copy needed because we need to normalize the ages and don't want to mess up the clean data\n",
    "        * Convert age=below21 to 20 and age=50plus to 51 - good enough for age > 25 criteria\n",
    "        * Convert 'age' to ints\n",
    "    * Define lists for SQL criteria: \n",
    "        ```\n",
    "        bar_1_or_more = ['1~3','4~8', 'gt8']\n",
    "        passengers = ['Kid(s)']\n",
    "        occ_farming = ['Farming Fishing & Forestry']\n",
    "        ```\n",
    "* Run criteria query\n",
    "* Load the results into DF for graphing and call graph_criteria_query_barchart() function\n",
    "\n",
    "**Findings**\n",
    "\n",
    "1. Criteria query SQL\n",
    "```\n",
    "criteria='Bar in @bar_1_or_more) and (passanger not in @passengers) and (occupation not in @occ_farming'\n",
    "criteria_not='not ((Bar in @bar_1_or_more) and (passanger not in @passengers) and (occupation not in @occ_farming))'\n",
    "```\n",
    "1. Acceptance rate for those who meet the criteria was higher (71.32%) compared to the rest of the population (29.48%)\n",
    "1. The overall results were as expected - the contra-group included children passengers and those who had occupations requiring them to get up early in the morning, potentially impeding their ability to accept the coupon. This was true even though the contra-group population was much larger (1,445 vs 551)\n",
    "\n",
    "![](images/bar-no-kids.png)"
   ]
  },
  {
   "cell_type": "code",
   "execution_count": 59,
   "metadata": {
    "hidden": true
   },
   "outputs": [],
   "source": [
    "#coupons_bar.passanger.value_counts()\n",
    "#coupons_bar.occupation.value_counts()"
   ]
  },
  {
   "cell_type": "code",
   "execution_count": 60,
   "metadata": {
    "hidden": true
   },
   "outputs": [],
   "source": [
    "# criteria: Visits > 1 and passengers != 'Kid(s)' and occupations != 'Farming Fishing & Forestry'\n",
    "bar_1_or_more = ['1~3','4~8', 'gt8']\n",
    "passengers = ['Kid(s)']\n",
    "occ_farming = ['Farming Fishing & Forestry']\n",
    "\n",
    "graph_data = []\n",
    "\n",
    "criteria='((Bar in @bar_1_or_more) and (passanger not in @passengers) and (occupation not in @occ_farming))'\n",
    "#criteria_not='((Bar not in @bar_1_or_more) and (passanger in @passengers) and (occupation in @occ_farming))'\n",
    "criteria_not='not ({})'.format(criteria)\n",
    "\n",
    "# Get the stats for IN criteria\n",
    "graph_row = (temp_coupons_bar.query(criteria)\n",
    "             .groupby('Y')['Y']\n",
    "             .value_counts()\n",
    ")\n",
    "graph_row[2] = 'Visits > 1, not a farmer, no kids'\n",
    "graph_data.append(graph_row.values)\n",
    "\n",
    "# Get the stats for NOT IN criteria\n",
    "graph_row = (temp_coupons_bar.query(criteria_not)\n",
    "             .groupby('Y')['Y']\n",
    "             .value_counts()\n",
    ")\n",
    "graph_row[2] = 'NOT (Visits > 1, not a farmer, no kids)'\n",
    "graph_data.append(graph_row.values)\n",
    "#graph_data"
   ]
  },
  {
   "cell_type": "code",
   "execution_count": 61,
   "metadata": {
    "hidden": true
   },
   "outputs": [
    {
     "data": {
      "text/html": [
       "<div>\n",
       "<style scoped>\n",
       "    .dataframe tbody tr th:only-of-type {\n",
       "        vertical-align: middle;\n",
       "    }\n",
       "\n",
       "    .dataframe tbody tr th {\n",
       "        vertical-align: top;\n",
       "    }\n",
       "\n",
       "    .dataframe thead th {\n",
       "        text-align: right;\n",
       "    }\n",
       "</style>\n",
       "<table border=\"1\" class=\"dataframe\">\n",
       "  <thead>\n",
       "    <tr style=\"text-align: right;\">\n",
       "      <th></th>\n",
       "      <th>0</th>\n",
       "      <th>1</th>\n",
       "      <th>criteria</th>\n",
       "      <th>total</th>\n",
       "      <th>rate</th>\n",
       "    </tr>\n",
       "  </thead>\n",
       "  <tbody>\n",
       "    <tr>\n",
       "      <th>0</th>\n",
       "      <td>158</td>\n",
       "      <td>393</td>\n",
       "      <td>Visits &gt; 1, not a farmer, no kids</td>\n",
       "      <td>551</td>\n",
       "      <td>71.32</td>\n",
       "    </tr>\n",
       "    <tr>\n",
       "      <th>1</th>\n",
       "      <td>1019</td>\n",
       "      <td>426</td>\n",
       "      <td>NOT (Visits &gt; 1, not a farmer, no kids)</td>\n",
       "      <td>1445</td>\n",
       "      <td>29.48</td>\n",
       "    </tr>\n",
       "  </tbody>\n",
       "</table>\n",
       "</div>"
      ],
      "text/plain": [
       "      0    1                                 criteria  total   rate\n",
       "0   158  393        Visits > 1, not a farmer, no kids    551  71.32\n",
       "1  1019  426  NOT (Visits > 1, not a farmer, no kids)   1445  29.48"
      ]
     },
     "execution_count": 61,
     "metadata": {},
     "output_type": "execute_result"
    }
   ],
   "source": [
    "metrics = calculate_metrics(graph_data)\n",
    "metrics"
   ]
  },
  {
   "cell_type": "code",
   "execution_count": 62,
   "metadata": {
    "hidden": true
   },
   "outputs": [
    {
     "data": {
      "image/png": "[encoded data removed]",
      "text/plain": [
       "<Figure size 1000x500 with 1 Axes>"
      ]
     },
     "metadata": {},
     "output_type": "display_data"
    }
   ],
   "source": [
    "# Grapht it!\n",
    "label_x=\"Criteria: Visits > 1 and passengers != 'Kid(s)' and occupations != 'Farming Fishing & Forestry'\"\n",
    "label_y='Acceptance Rate'\n",
    "label_t='Acceptance Rate for \"Bar\" Coupons'\n",
    "outfile='images/bar-no-kids.png'\n",
    "graph_criteria_query_barchart(metrics, label_x, label_y, label_t, outfile)"
   ]
  },
  {
   "cell_type": "markdown",
   "metadata": {
    "heading_collapsed": true,
    "jp-MarkdownHeadingCollapsed": true
   },
   "source": [
    "### Compare the acceptance rates between those drivers who:\n",
    "\n",
    "- go to bars more than once a month, had passengers that were not a kid, and were not widowed *OR*\n",
    "- go to bars more than once a month and are under the age of 30 *OR*\n",
    "- go to cheap restaurants more than 4 times a month and income is less than 50K. \n",
    "\n",
    "\n",
    "**Strategy**\n",
    "\n",
    "* Criteria\n",
    "    1. Visits > 1 and passengers != 'Kid(s)' and maritalStatus != 'Widowed'\n",
    "    1. Visits > 1 and passengers != 'Kid(s)' and age < 30\n",
    "    1. RestaurantLessThan20 more than 4/month and income in less than 50K\n",
    "* Data Preparation\n",
    "    * Inspect the maritalStatus column for clean data - looks good!\n",
    "    * Inspect the RestaurantLessThan20 column for clean data - looks good!\n",
    "    * Inspect the income column for clean data - looks good\n",
    "    * Define lists for SQL criteria: \n",
    "        ```\n",
    "        bar_1_or_more = ['1~3','4~8', 'gt8']\n",
    "        passengers = ['Kid(s)']\n",
    "        widow = ['Widowed']\n",
    "        resto_cheap = ['Restaurant(<20)']\n",
    "        resto_freq = [4~8', 'gt8']\n",
    "        income = ['Less than $12500','$12500 - $24999','$25000 - $37499','$37500 - $49999']\n",
    "        ```\n",
    "* Run criteria queries and store the data separate DFs for each query\n",
    "* Use DF.merge to do a union of all the above DFs and convert to our graph DF format\n",
    "* Load the results into DF for graphing and call graph_criteria_query_barchart() function\n",
    "\n",
    "**Findings**\n",
    "\n",
    "1. Criteria query SQL\n",
    "```\n",
    "criteria_1='((Bar in @bar_1_or_more) and (passanger not in @passengers) and (maritalStatus not in @widow))'\n",
    "criteria_1_not='((Bar not in @bar_1_or_more) or (passanger in @passengers) or (maritalStatus in @widow))'\n",
    "\n",
    "criteria_2='((Bar in @bar_1_or_more) and (passanger not in @passengers) and age < 30)'\n",
    "criteria_2_not='((Bar not in @bar_1_or_more) or (passanger in @passengers) or age >= 30)'\n",
    "\n",
    "criteria_3='((RestaurantLessThan20 in @resto_freq) and (income in @income))'\n",
    "criteria_3_not='((RestaurantLessThan20 not in @resto_freq) or (income not in @income))'\n",
    "\n",
    "criteria_or = criteria_1 or criteria_2 or criteria_3\n",
    "criteria_or_not = not(criteria_1) and not(criteria_2) and not(criteria_3)\n",
    "```\n",
    "\n",
    "1. Bucketizing the indvidual criterias\n",
    "   * Criteria 1: Bar-goers without kids in the vehicle and not widowed were more likely than the overall bar coupon acceptors (71% vs 59%)\n",
    "   * Criteria 2: Bar-goers under 30 without kid passengers accepted at higher than overall rate (72% vs 59%)\n",
    "   * Criteria 3: All users who go to cheap restaurants and earn less than 50K accepted coupons at the same rate as overall bar coupon acceptors\n",
    "1. Acceptance rate for those who meet all the criteria was higher (59.06%) compared to the rest of the population (29.78%)\n",
    "2. Based on the above finding, we can deduce that bar-goers are more likely to accept the coupon if there is no immediate impediment (kids, getting up early, etc.) to accepting the coupon\n",
    "1. The overall results were as expected - for each of the Criteria groups 1 thru 3, the acceptance rates were higher because:\n",
    "    * The target segment was a regular user of bars and restaurants\n",
    "    * There were no passengers impeding their ability to use the coupon\n",
    "\n",
    "![](images/bar-OR.png)"
   ]
  },
  {
   "cell_type": "code",
   "execution_count": 64,
   "metadata": {
    "hidden": true
   },
   "outputs": [],
   "source": [
    "# array for storing the graph data for each criteria\n",
    "graph_data_c = []\n",
    "\n",
    "# criteria_1: coupon = 'Bar' and Visits > 1 and passengers != 'Kid(s)' and maritalStatus != 'Widowed'\n",
    "\n",
    "c_type = ['Bar']\n",
    "bar_1_or_more = ['1~3','4~8', 'gt8']\n",
    "passengers = ['Kid(s)']\n",
    "widow = ['Widowed']\n",
    "\n",
    "criteria_1='((Bar in @bar_1_or_more) and (passanger not in @passengers) and (maritalStatus not in @widow))'\n",
    "criteria_1_not='((Bar not in @bar_1_or_more) or (passanger in @passengers) or (maritalStatus in @widow))'\n",
    "\n",
    "df_1 = temp_coupons_bar.query(criteria_1)\n",
    "df_1_not = temp_coupons_bar.query(criteria_1_not)\n",
    "\n",
    "# Get the stats for IN criteria - start with full data\n",
    "graph_data_c.append(build_graph_data_row(df_1, \"Criteria 1\"))\n",
    "\n",
    "# Get the stats for NOT IN criteria\n",
    "graph_data_c.append(build_graph_data_row(df_1_not, \"~ Criteria 1\"))\n",
    "\n",
    "#graph_data_c\n",
    "#print('Shape: df_1: {}, df_1_not: {}'.format(df_1.shape, df_1_not.shape))"
   ]
  },
  {
   "cell_type": "code",
   "execution_count": 65,
   "metadata": {
    "hidden": true,
    "scrolled": true
   },
   "outputs": [],
   "source": [
    "# criteria_2: coupon = 'Bar' and Visits > 1 and passengers != 'Kid(s)' and age < 30\n",
    "\n",
    "criteria_2='((Bar in @bar_1_or_more) and (passanger not in @passengers) and age < 30)'\n",
    "criteria_2_not='((Bar not in @bar_1_or_more) or (passanger in @passengers) or age >= 30)'\n",
    "\n",
    "df_2 = temp_coupons_bar.query(criteria_2)\n",
    "df_2_not = temp_coupons_bar.query(criteria_2_not)\n",
    "\n",
    "# Get the stats for IN criteria - start with full data\n",
    "graph_data_c.append(build_graph_data_row(df_2, \"Criteria 2\"))\n",
    "\n",
    "# Get the stats for NOT IN criteria\n",
    "graph_data_c.append(build_graph_data_row(df_2_not, \"~ Criteria 2\"))\n",
    "\n",
    "#graph_data_c\n",
    "#print('Shape: df_2: {}, df_2_not: {}'.format(df_2.shape, df_2_not.shape))"
   ]
  },
  {
   "cell_type": "code",
   "execution_count": 66,
   "metadata": {
    "hidden": true,
    "scrolled": true
   },
   "outputs": [],
   "source": [
    "# criteria_3: RestaurantLessThan20 more than 4/month and income in less than 50K\n",
    "\n",
    "resto_cheap = ['Restaurant(<20)']\n",
    "resto_freq = ['4~8', 'gt8']\n",
    "income = ['Less than $12500','$12500 - $24999','$25000 - $37499','$37500 - $49999']\n",
    "\n",
    "criteria_3='((RestaurantLessThan20 in @resto_freq) and (income in @income))'\n",
    "criteria_3_not='((RestaurantLessThan20 not in @resto_freq) or (income not in @income))'\n",
    "\n",
    "df_3 = temp_coupons_bar.query(criteria_3)\n",
    "df_3_not = temp_coupons_bar.query(criteria_3_not)\n",
    "\n",
    "# Get the stats for IN criteria - start with full data\n",
    "graph_data_c.append(build_graph_data_row(df_3, \"Criteria 3\"))\n",
    "\n",
    "# Get the stats for NOT IN criteria\n",
    "graph_data_c.append(build_graph_data_row(df_3_not, \"~ Criteria 3\"))\n",
    "\n",
    "#graph_data_c\n",
    "#print('Shape: df_3: {}, df_3_not: {}'.format(df_3.shape, df_3_not.shape))"
   ]
  },
  {
   "cell_type": "code",
   "execution_count": 67,
   "metadata": {
    "hidden": true
   },
   "outputs": [],
   "source": [
    "# query to OR all the criterias\n",
    "criteria_or = '({} or {} or {})'.format(criteria_1, criteria_2, criteria_3)\n",
    "df_criteria_or = temp_coupons_bar.query(criteria_or)\n",
    "\n",
    "#criteria_or"
   ]
  },
  {
   "cell_type": "code",
   "execution_count": 68,
   "metadata": {
    "hidden": true
   },
   "outputs": [],
   "source": [
    "# query to NOT OR all the criterias\n",
    "# QUERY FUNCTION UNDERSTANDS THAT ~(A OR B) => ~A AND ~B is the same as ~(A OR B) - I don't have to change my code above!!!\n",
    "#criteria_not_or = '(not {} and not {} and not {})'.format(criteria_1, criteria_2, criteria_3)\n",
    "criteria_not_or = 'not ({})'.format(criteria_or)\n",
    "df_criteria_not_or = temp_coupons_bar.query(criteria_not_or)\n",
    "\n",
    "#criteria_not_or"
   ]
  },
  {
   "cell_type": "code",
   "execution_count": 69,
   "metadata": {
    "hidden": true,
    "scrolled": true
   },
   "outputs": [],
   "source": [
    "#print('Shape: df_1: {}, df_1_not: {}'.format(df_1.shape, df_1_not.shape))\n",
    "#print('Shape: df_2: {}, df_2_not: {}'.format(df_2.shape, df_2_not.shape))\n",
    "#print('Shape: df_3: {}, df_3_not: {}'.format(df_3.shape, df_3_not.shape))\n",
    "#print('Shape: df_criteria_or: {}, df_criteria_or_not: {}'.format(df_criteria_or.shape, df_criteria_not_or.shape))"
   ]
  },
  {
   "cell_type": "code",
   "execution_count": 70,
   "metadata": {
    "hidden": true
   },
   "outputs": [],
   "source": [
    "#df_criteria_or.groupby(['coupon','Bar','age','maritalStatus','income','RestaurantLessThan20','passanger','Y'])[[]].value_counts()"
   ]
  },
  {
   "cell_type": "code",
   "execution_count": 71,
   "metadata": {
    "hidden": true
   },
   "outputs": [],
   "source": [
    "# Ok, let's build the full OR'd data rows\n",
    "\n",
    "# Get the stats for IN criteria - start with full data\n",
    "graph_data_c.append(build_graph_data_row(df_criteria_or, \"OR'd C 1-3\"))\n",
    "\n",
    "# Get the stats for NOT IN criteria\n",
    "graph_data_c.append(build_graph_data_row(df_criteria_not_or, \"~(OR'd C 1-3)\"))\n",
    "\n",
    "#graph_data_c"
   ]
  },
  {
   "cell_type": "code",
   "execution_count": 72,
   "metadata": {
    "hidden": true
   },
   "outputs": [
    {
     "data": {
      "text/html": [
       "<div>\n",
       "<style scoped>\n",
       "    .dataframe tbody tr th:only-of-type {\n",
       "        vertical-align: middle;\n",
       "    }\n",
       "\n",
       "    .dataframe tbody tr th {\n",
       "        vertical-align: top;\n",
       "    }\n",
       "\n",
       "    .dataframe thead th {\n",
       "        text-align: right;\n",
       "    }\n",
       "</style>\n",
       "<table border=\"1\" class=\"dataframe\">\n",
       "  <thead>\n",
       "    <tr style=\"text-align: right;\">\n",
       "      <th></th>\n",
       "      <th>0</th>\n",
       "      <th>1</th>\n",
       "      <th>criteria</th>\n",
       "      <th>total</th>\n",
       "      <th>rate</th>\n",
       "    </tr>\n",
       "  </thead>\n",
       "  <tbody>\n",
       "    <tr>\n",
       "      <th>0</th>\n",
       "      <td>158</td>\n",
       "      <td>393</td>\n",
       "      <td>Criteria 1</td>\n",
       "      <td>551</td>\n",
       "      <td>71.32</td>\n",
       "    </tr>\n",
       "    <tr>\n",
       "      <th>1</th>\n",
       "      <td>1019</td>\n",
       "      <td>426</td>\n",
       "      <td>~ Criteria 1</td>\n",
       "      <td>1445</td>\n",
       "      <td>29.48</td>\n",
       "    </tr>\n",
       "    <tr>\n",
       "      <th>2</th>\n",
       "      <td>94</td>\n",
       "      <td>242</td>\n",
       "      <td>Criteria 2</td>\n",
       "      <td>336</td>\n",
       "      <td>72.02</td>\n",
       "    </tr>\n",
       "    <tr>\n",
       "      <th>3</th>\n",
       "      <td>1083</td>\n",
       "      <td>577</td>\n",
       "      <td>~ Criteria 2</td>\n",
       "      <td>1660</td>\n",
       "      <td>34.76</td>\n",
       "    </tr>\n",
       "    <tr>\n",
       "      <th>4</th>\n",
       "      <td>184</td>\n",
       "      <td>155</td>\n",
       "      <td>Criteria 3</td>\n",
       "      <td>339</td>\n",
       "      <td>45.72</td>\n",
       "    </tr>\n",
       "    <tr>\n",
       "      <th>5</th>\n",
       "      <td>993</td>\n",
       "      <td>664</td>\n",
       "      <td>~ Criteria 3</td>\n",
       "      <td>1657</td>\n",
       "      <td>40.07</td>\n",
       "    </tr>\n",
       "    <tr>\n",
       "      <th>6</th>\n",
       "      <td>314</td>\n",
       "      <td>453</td>\n",
       "      <td>OR'd C 1-3</td>\n",
       "      <td>767</td>\n",
       "      <td>59.06</td>\n",
       "    </tr>\n",
       "    <tr>\n",
       "      <th>7</th>\n",
       "      <td>863</td>\n",
       "      <td>366</td>\n",
       "      <td>~(OR'd C 1-3)</td>\n",
       "      <td>1229</td>\n",
       "      <td>29.78</td>\n",
       "    </tr>\n",
       "  </tbody>\n",
       "</table>\n",
       "</div>"
      ],
      "text/plain": [
       "      0    1       criteria  total   rate\n",
       "0   158  393     Criteria 1    551  71.32\n",
       "1  1019  426   ~ Criteria 1   1445  29.48\n",
       "2    94  242     Criteria 2    336  72.02\n",
       "3  1083  577   ~ Criteria 2   1660  34.76\n",
       "4   184  155     Criteria 3    339  45.72\n",
       "5   993  664   ~ Criteria 3   1657  40.07\n",
       "6   314  453     OR'd C 1-3    767  59.06\n",
       "7   863  366  ~(OR'd C 1-3)   1229  29.78"
      ]
     },
     "execution_count": 72,
     "metadata": {},
     "output_type": "execute_result"
    }
   ],
   "source": [
    "metrics = calculate_metrics(graph_data_c)\n",
    "metrics"
   ]
  },
  {
   "cell_type": "code",
   "execution_count": 73,
   "metadata": {
    "hidden": true
   },
   "outputs": [
    {
     "data": {
      "image/png": "[encoded data removed]",
      "text/plain": [
       "<Figure size 1000x500 with 1 Axes>"
      ]
     },
     "metadata": {},
     "output_type": "display_data"
    }
   ],
   "source": [
    "# criteria_1: Visits > 1 and passengers != 'Kid(s)' and maritalStatus != 'Widowed'\n",
    "# criteria_2: Visits > 1 and passengers != 'Kid(s)' and age < 30\n",
    "# criteria_3: RestaurantLessThan20 more than 4/month and income in less than 50K\n",
    "label_c1=\"Criteria_1: Visits > 1 and passengers != 'Kid(s)' and maritalStatus != 'Widowed'\"\n",
    "label_c2=\"Criteria_2: Visits > 1 and passengers != 'Kid(s)' and age < 30\"\n",
    "label_c3=\"Criteria_3: RestaurantLessThan20 more than 4/month and income in less than 50K\"\n",
    "\n",
    "# Grapht it!\n",
    "label_x=\"Criteria: Criteria 1 OR Criteria 2 OR Criteria 3\"\n",
    "label_y='Acceptance Rate'\n",
    "label_t='Acceptance Rate for \"Bar\" Coupons\\n{}\\n{}\\n{}'.format(label_c1,label_c2, label_c3)\n",
    "outfile='images/bar-OR.png'\n",
    "graph_criteria_query_barchart(metrics, label_x, label_y, label_t, outfile)"
   ]
  },
  {
   "cell_type": "markdown",
   "metadata": {},
   "source": [
    "###  Based on these observations, what do you hypothesize about drivers who accepted the bar coupons?"
   ]
  },
  {
   "cell_type": "markdown",
   "metadata": {},
   "source": [
    "We compared the acceptance rates between those who took the coupon offer and rejected them based on the following criteria:\n",
    "\n",
    "1. Frequency of visits to bars\n",
    "2. Age of the coupon acceptor\n",
    "3. Whether there were child passengers in the vehicle\n",
    "4. Whether their profession required them to get up early in the morning\n",
    "5. Marital status widowed\n",
    "6. Frequency of visits to cheap restaurants\n",
    "\n",
    "Comparing the results, we can draw the following conclusions about those who accepted the bar coupons:\n",
    "\n",
    "* For _regular_+ bar-goers (visits > 3) they would accept the coupon, but we were likely not changing their behavior\n",
    "* For _occasional_ bar-goers (visits > 1), they would accept the coupon at higher rates if there was no impediment to their ability to go to the bar (kids, early  wake up, etc.), so we were likely influencing their normal bar-going behavior\n",
    "\n",
    "This shows that bar-goers are a good target audience for our program.\n"
   ]
  },
  {
   "cell_type": "markdown",
   "metadata": {},
   "source": [
    "## Independent Investigation\n",
    "\n",
    "Using the bar coupon example as motivation, you are to explore one of the other coupon groups and try to determine the characteristics of passengers who accept the coupons.  "
   ]
  },
  {
   "cell_type": "code",
   "execution_count": 77,
   "metadata": {},
   "outputs": [
    {
     "data": {
      "text/plain": [
       "coupon\n",
       "Coffee House             3996\n",
       "Restaurant(<20)          2786\n",
       "Carry out & Take away    2393\n",
       "Bar                      2017\n",
       "Restaurant(20-50)        1492\n",
       "Name: count, dtype: int64"
      ]
     },
     "execution_count": 77,
     "metadata": {},
     "output_type": "execute_result"
    }
   ],
   "source": [
    "data.coupon.value_counts()"
   ]
  },
  {
   "cell_type": "code",
   "execution_count": 78,
   "metadata": {},
   "outputs": [
    {
     "data": {
      "text/plain": [
       "Index(['destination', 'passanger', 'weather', 'temperature', 'time', 'coupon',\n",
       "       'expiration', 'gender', 'age', 'maritalStatus', 'has_children',\n",
       "       'education', 'occupation', 'income', 'Bar', 'CoffeeHouse', 'CarryAway',\n",
       "       'RestaurantLessThan20', 'Restaurant20To50', 'toCoupon_GEQ5min',\n",
       "       'toCoupon_GEQ15min', 'toCoupon_GEQ25min', 'direction_same',\n",
       "       'direction_opp', 'Y'],\n",
       "      dtype='object')"
      ]
     },
     "execution_count": 78,
     "metadata": {},
     "output_type": "execute_result"
    }
   ],
   "source": [
    "data.columns"
   ]
  },
  {
   "cell_type": "markdown",
   "metadata": {},
   "source": [
    "### Find segments with high likelihood of acceptance and redemptoin\n",
    "\n",
    "* Find a segment where likelihood of coupon acceptance is high\n",
    "* Then work with Sales, Marketing and Partnership Teams to build revenue-share streams"
   ]
  },
  {
   "cell_type": "markdown",
   "metadata": {},
   "source": [
    "Based on the findings from the last investigation, it seems that the most likelihood of the user accepting the coupon is based on their ability to redeem it immediately. Let's take a look at acceptance rates based on direction of travel to see if something jumps out:"
   ]
  },
  {
   "cell_type": "code",
   "execution_count": 81,
   "metadata": {},
   "outputs": [
    {
     "data": {
      "text/plain": [
       "coupon                 destination      direction_same  direction_opp  Y\n",
       "Bar                    Home             0               1              0     109\n",
       "                                                                       1      64\n",
       "                                        1               0              0     166\n",
       "                                                                       1     167\n",
       "                       No Urgent Place  0               1              0     606\n",
       "                                                                       1     418\n",
       "                       Work             0               1              0     246\n",
       "                                                                       1     152\n",
       "                                        1               0              0      63\n",
       "                                                                       1      26\n",
       "Carry out & Take away  Home             0               1              0      81\n",
       "                                                                       1     255\n",
       "                                        1               0              0      57\n",
       "                                                                       1     260\n",
       "                       No Urgent Place  0               1              0     232\n",
       "                                                                       1     746\n",
       "                       Work             0               1              0      85\n",
       "                                                                       1     201\n",
       "                                        1               0              0     178\n",
       "                                                                       1     298\n",
       "Coffee House           Home             0               1              0     419\n",
       "                                                                       1     182\n",
       "                                        1               0              0     173\n",
       "                                                                       1     154\n",
       "                       No Urgent Place  0               1              0     903\n",
       "                                                                       1    1252\n",
       "                       Work             0               1              0     327\n",
       "                                                                       1     163\n",
       "                                        1               0              0     179\n",
       "                                                                       1     244\n",
       "Restaurant(20-50)      Home             0               1              0     299\n",
       "                                                                       1     182\n",
       "                                        1               0              0      73\n",
       "                                                                       1      99\n",
       "                       No Urgent Place  0               1              0     204\n",
       "                                                                       1     206\n",
       "                       Work             0               1              0     193\n",
       "                                                                       1     151\n",
       "                                        1               0              0      65\n",
       "                                                                       1      20\n",
       "Restaurant(<20)        Home             0               1              0      78\n",
       "                                                                       1      44\n",
       "                                        1               0              0     143\n",
       "                                                                       1     232\n",
       "                       No Urgent Place  0               1              0     356\n",
       "                                                                       1    1360\n",
       "                       Work             0               1              0     198\n",
       "                                                                       1     248\n",
       "                                        1               0              0      41\n",
       "                                                                       1      86\n",
       "Name: count, dtype: int64"
      ]
     },
     "execution_count": 81,
     "metadata": {},
     "output_type": "execute_result"
    }
   ],
   "source": [
    "data.groupby(['coupon','destination','direction_same','direction_opp','Y']\n",
    "            )[[]].value_counts()"
   ]
  },
  {
   "cell_type": "markdown",
   "metadata": {},
   "source": [
    "Direction\n",
    "* Carry out - seems like acceptance going opposite is much higher\n",
    "    * Picking up dinner/lunch on way to home? Change behavior possibility\n",
    "* Same for cheaper restaurants? Expensive?\n"
   ]
  },
  {
   "cell_type": "code",
   "execution_count": 83,
   "metadata": {},
   "outputs": [
    {
     "data": {
      "text/plain": [
       "array(['Restaurant(<20)', 'Coffee House', 'Carry out & Take away', ...,\n",
       "       'Coffee House', 'Bar', 'Restaurant(20-50)'], dtype=object)"
      ]
     },
     "execution_count": 83,
     "metadata": {},
     "output_type": "execute_result"
    }
   ],
   "source": [
    "coupon_types = data.coupon.values\n",
    "coupon_types"
   ]
  },
  {
   "cell_type": "code",
   "execution_count": 84,
   "metadata": {},
   "outputs": [],
   "source": [
    "same_df = data.loc[data['direction_same'] == 1]\n",
    "opp_df = data.loc[data['direction_opp'] == 1]"
   ]
  },
  {
   "cell_type": "code",
   "execution_count": 85,
   "metadata": {},
   "outputs": [
    {
     "data": {
      "text/plain": [
       "coupon                 Y\n",
       "Bar                    0    229\n",
       "                       1    193\n",
       "Carry out & Take away  0    235\n",
       "                       1    558\n",
       "Coffee House           0    352\n",
       "                       1    398\n",
       "Restaurant(20-50)      0    138\n",
       "                       1    119\n",
       "Restaurant(<20)        0    184\n",
       "                       1    318\n",
       "Name: count, dtype: int64"
      ]
     },
     "execution_count": 85,
     "metadata": {},
     "output_type": "execute_result"
    }
   ],
   "source": [
    "same_df.groupby(['coupon','Y'])[[]].value_counts()"
   ]
  },
  {
   "cell_type": "code",
   "execution_count": 86,
   "metadata": {},
   "outputs": [
    {
     "data": {
      "text/html": [
       "<div>\n",
       "<style scoped>\n",
       "    .dataframe tbody tr th:only-of-type {\n",
       "        vertical-align: middle;\n",
       "    }\n",
       "\n",
       "    .dataframe tbody tr th {\n",
       "        vertical-align: top;\n",
       "    }\n",
       "\n",
       "    .dataframe thead th {\n",
       "        text-align: right;\n",
       "    }\n",
       "</style>\n",
       "<table border=\"1\" class=\"dataframe\">\n",
       "  <thead>\n",
       "    <tr style=\"text-align: right;\">\n",
       "      <th></th>\n",
       "      <th>coupon</th>\n",
       "      <th>Y</th>\n",
       "      <th>count</th>\n",
       "    </tr>\n",
       "  </thead>\n",
       "  <tbody>\n",
       "    <tr>\n",
       "      <th>0</th>\n",
       "      <td>Bar</td>\n",
       "      <td>0</td>\n",
       "      <td>229</td>\n",
       "    </tr>\n",
       "    <tr>\n",
       "      <th>1</th>\n",
       "      <td>Bar</td>\n",
       "      <td>1</td>\n",
       "      <td>193</td>\n",
       "    </tr>\n",
       "    <tr>\n",
       "      <th>2</th>\n",
       "      <td>Carry out &amp; Take away</td>\n",
       "      <td>0</td>\n",
       "      <td>235</td>\n",
       "    </tr>\n",
       "    <tr>\n",
       "      <th>3</th>\n",
       "      <td>Carry out &amp; Take away</td>\n",
       "      <td>1</td>\n",
       "      <td>558</td>\n",
       "    </tr>\n",
       "    <tr>\n",
       "      <th>4</th>\n",
       "      <td>Coffee House</td>\n",
       "      <td>0</td>\n",
       "      <td>352</td>\n",
       "    </tr>\n",
       "    <tr>\n",
       "      <th>5</th>\n",
       "      <td>Coffee House</td>\n",
       "      <td>1</td>\n",
       "      <td>398</td>\n",
       "    </tr>\n",
       "    <tr>\n",
       "      <th>6</th>\n",
       "      <td>Restaurant(20-50)</td>\n",
       "      <td>0</td>\n",
       "      <td>138</td>\n",
       "    </tr>\n",
       "    <tr>\n",
       "      <th>7</th>\n",
       "      <td>Restaurant(20-50)</td>\n",
       "      <td>1</td>\n",
       "      <td>119</td>\n",
       "    </tr>\n",
       "    <tr>\n",
       "      <th>8</th>\n",
       "      <td>Restaurant(&lt;20)</td>\n",
       "      <td>0</td>\n",
       "      <td>184</td>\n",
       "    </tr>\n",
       "    <tr>\n",
       "      <th>9</th>\n",
       "      <td>Restaurant(&lt;20)</td>\n",
       "      <td>1</td>\n",
       "      <td>318</td>\n",
       "    </tr>\n",
       "  </tbody>\n",
       "</table>\n",
       "</div>"
      ],
      "text/plain": [
       "                  coupon  Y  count\n",
       "0                    Bar  0    229\n",
       "1                    Bar  1    193\n",
       "2  Carry out & Take away  0    235\n",
       "3  Carry out & Take away  1    558\n",
       "4           Coffee House  0    352\n",
       "5           Coffee House  1    398\n",
       "6      Restaurant(20-50)  0    138\n",
       "7      Restaurant(20-50)  1    119\n",
       "8        Restaurant(<20)  0    184\n",
       "9        Restaurant(<20)  1    318"
      ]
     },
     "execution_count": 86,
     "metadata": {},
     "output_type": "execute_result"
    }
   ],
   "source": [
    "same_count = (same_df\n",
    "              .groupby(['coupon','Y'])[[]]\n",
    "              .value_counts()\n",
    "              .reset_index()\n",
    "             )\n",
    "same_count"
   ]
  },
  {
   "cell_type": "code",
   "execution_count": 87,
   "metadata": {},
   "outputs": [
    {
     "data": {
      "text/html": [
       "<div>\n",
       "<style scoped>\n",
       "    .dataframe tbody tr th:only-of-type {\n",
       "        vertical-align: middle;\n",
       "    }\n",
       "\n",
       "    .dataframe tbody tr th {\n",
       "        vertical-align: top;\n",
       "    }\n",
       "\n",
       "    .dataframe thead th {\n",
       "        text-align: right;\n",
       "    }\n",
       "</style>\n",
       "<table border=\"1\" class=\"dataframe\">\n",
       "  <thead>\n",
       "    <tr style=\"text-align: right;\">\n",
       "      <th></th>\n",
       "      <th>coupon</th>\n",
       "      <th>Y</th>\n",
       "      <th>count</th>\n",
       "    </tr>\n",
       "  </thead>\n",
       "  <tbody>\n",
       "    <tr>\n",
       "      <th>0</th>\n",
       "      <td>Bar</td>\n",
       "      <td>0</td>\n",
       "      <td>961</td>\n",
       "    </tr>\n",
       "    <tr>\n",
       "      <th>1</th>\n",
       "      <td>Bar</td>\n",
       "      <td>1</td>\n",
       "      <td>634</td>\n",
       "    </tr>\n",
       "    <tr>\n",
       "      <th>2</th>\n",
       "      <td>Carry out &amp; Take away</td>\n",
       "      <td>0</td>\n",
       "      <td>398</td>\n",
       "    </tr>\n",
       "    <tr>\n",
       "      <th>3</th>\n",
       "      <td>Carry out &amp; Take away</td>\n",
       "      <td>1</td>\n",
       "      <td>1202</td>\n",
       "    </tr>\n",
       "    <tr>\n",
       "      <th>4</th>\n",
       "      <td>Coffee House</td>\n",
       "      <td>0</td>\n",
       "      <td>1649</td>\n",
       "    </tr>\n",
       "    <tr>\n",
       "      <th>5</th>\n",
       "      <td>Coffee House</td>\n",
       "      <td>1</td>\n",
       "      <td>1597</td>\n",
       "    </tr>\n",
       "    <tr>\n",
       "      <th>6</th>\n",
       "      <td>Restaurant(20-50)</td>\n",
       "      <td>0</td>\n",
       "      <td>696</td>\n",
       "    </tr>\n",
       "    <tr>\n",
       "      <th>7</th>\n",
       "      <td>Restaurant(20-50)</td>\n",
       "      <td>1</td>\n",
       "      <td>539</td>\n",
       "    </tr>\n",
       "    <tr>\n",
       "      <th>8</th>\n",
       "      <td>Restaurant(&lt;20)</td>\n",
       "      <td>0</td>\n",
       "      <td>632</td>\n",
       "    </tr>\n",
       "    <tr>\n",
       "      <th>9</th>\n",
       "      <td>Restaurant(&lt;20)</td>\n",
       "      <td>1</td>\n",
       "      <td>1652</td>\n",
       "    </tr>\n",
       "  </tbody>\n",
       "</table>\n",
       "</div>"
      ],
      "text/plain": [
       "                  coupon  Y  count\n",
       "0                    Bar  0    961\n",
       "1                    Bar  1    634\n",
       "2  Carry out & Take away  0    398\n",
       "3  Carry out & Take away  1   1202\n",
       "4           Coffee House  0   1649\n",
       "5           Coffee House  1   1597\n",
       "6      Restaurant(20-50)  0    696\n",
       "7      Restaurant(20-50)  1    539\n",
       "8        Restaurant(<20)  0    632\n",
       "9        Restaurant(<20)  1   1652"
      ]
     },
     "execution_count": 87,
     "metadata": {},
     "output_type": "execute_result"
    }
   ],
   "source": [
    "opp_count = (opp_df\n",
    "              .groupby(['coupon','Y'])[[]]\n",
    "              .value_counts()\n",
    "              .reset_index()\n",
    "             )\n",
    "opp_count"
   ]
  },
  {
   "cell_type": "code",
   "execution_count": 88,
   "metadata": {},
   "outputs": [
    {
     "data": {
      "text/html": [
       "<div>\n",
       "<style scoped>\n",
       "    .dataframe tbody tr th:only-of-type {\n",
       "        vertical-align: middle;\n",
       "    }\n",
       "\n",
       "    .dataframe tbody tr th {\n",
       "        vertical-align: top;\n",
       "    }\n",
       "\n",
       "    .dataframe thead th {\n",
       "        text-align: right;\n",
       "    }\n",
       "</style>\n",
       "<table border=\"1\" class=\"dataframe\">\n",
       "  <thead>\n",
       "    <tr style=\"text-align: right;\">\n",
       "      <th>Y</th>\n",
       "      <th>coupon</th>\n",
       "      <th>0</th>\n",
       "      <th>1</th>\n",
       "    </tr>\n",
       "  </thead>\n",
       "  <tbody>\n",
       "    <tr>\n",
       "      <th>0</th>\n",
       "      <td>Bar</td>\n",
       "      <td>229</td>\n",
       "      <td>193</td>\n",
       "    </tr>\n",
       "    <tr>\n",
       "      <th>1</th>\n",
       "      <td>Carry out &amp; Take away</td>\n",
       "      <td>235</td>\n",
       "      <td>558</td>\n",
       "    </tr>\n",
       "    <tr>\n",
       "      <th>2</th>\n",
       "      <td>Coffee House</td>\n",
       "      <td>352</td>\n",
       "      <td>398</td>\n",
       "    </tr>\n",
       "    <tr>\n",
       "      <th>3</th>\n",
       "      <td>Restaurant(20-50)</td>\n",
       "      <td>138</td>\n",
       "      <td>119</td>\n",
       "    </tr>\n",
       "    <tr>\n",
       "      <th>4</th>\n",
       "      <td>Restaurant(&lt;20)</td>\n",
       "      <td>184</td>\n",
       "      <td>318</td>\n",
       "    </tr>\n",
       "  </tbody>\n",
       "</table>\n",
       "</div>"
      ],
      "text/plain": [
       "Y                 coupon    0    1\n",
       "0                    Bar  229  193\n",
       "1  Carry out & Take away  235  558\n",
       "2           Coffee House  352  398\n",
       "3      Restaurant(20-50)  138  119\n",
       "4        Restaurant(<20)  184  318"
      ]
     },
     "execution_count": 88,
     "metadata": {},
     "output_type": "execute_result"
    }
   ],
   "source": [
    "same_p = same_count.pivot(index='coupon', columns='Y', values='count').reset_index()\n",
    "same_p"
   ]
  },
  {
   "cell_type": "code",
   "execution_count": 89,
   "metadata": {},
   "outputs": [
    {
     "data": {
      "text/html": [
       "<div>\n",
       "<style scoped>\n",
       "    .dataframe tbody tr th:only-of-type {\n",
       "        vertical-align: middle;\n",
       "    }\n",
       "\n",
       "    .dataframe tbody tr th {\n",
       "        vertical-align: top;\n",
       "    }\n",
       "\n",
       "    .dataframe thead th {\n",
       "        text-align: right;\n",
       "    }\n",
       "</style>\n",
       "<table border=\"1\" class=\"dataframe\">\n",
       "  <thead>\n",
       "    <tr style=\"text-align: right;\">\n",
       "      <th>Y</th>\n",
       "      <th>criteria</th>\n",
       "      <th>0</th>\n",
       "      <th>1</th>\n",
       "      <th>total</th>\n",
       "      <th>rate</th>\n",
       "    </tr>\n",
       "  </thead>\n",
       "  <tbody>\n",
       "    <tr>\n",
       "      <th>0</th>\n",
       "      <td>Bar</td>\n",
       "      <td>229</td>\n",
       "      <td>193</td>\n",
       "      <td>422</td>\n",
       "      <td>45.73</td>\n",
       "    </tr>\n",
       "    <tr>\n",
       "      <th>1</th>\n",
       "      <td>Carry out &amp; Take away</td>\n",
       "      <td>235</td>\n",
       "      <td>558</td>\n",
       "      <td>793</td>\n",
       "      <td>70.37</td>\n",
       "    </tr>\n",
       "    <tr>\n",
       "      <th>2</th>\n",
       "      <td>Coffee House</td>\n",
       "      <td>352</td>\n",
       "      <td>398</td>\n",
       "      <td>750</td>\n",
       "      <td>53.07</td>\n",
       "    </tr>\n",
       "    <tr>\n",
       "      <th>3</th>\n",
       "      <td>Restaurant(20-50)</td>\n",
       "      <td>138</td>\n",
       "      <td>119</td>\n",
       "      <td>257</td>\n",
       "      <td>46.30</td>\n",
       "    </tr>\n",
       "    <tr>\n",
       "      <th>4</th>\n",
       "      <td>Restaurant(&lt;20)</td>\n",
       "      <td>184</td>\n",
       "      <td>318</td>\n",
       "      <td>502</td>\n",
       "      <td>63.35</td>\n",
       "    </tr>\n",
       "  </tbody>\n",
       "</table>\n",
       "</div>"
      ],
      "text/plain": [
       "Y               criteria    0    1  total   rate\n",
       "0                    Bar  229  193    422  45.73\n",
       "1  Carry out & Take away  235  558    793  70.37\n",
       "2           Coffee House  352  398    750  53.07\n",
       "3      Restaurant(20-50)  138  119    257  46.30\n",
       "4        Restaurant(<20)  184  318    502  63.35"
      ]
     },
     "execution_count": 89,
     "metadata": {},
     "output_type": "execute_result"
    }
   ],
   "source": [
    "same_p['total'] = same_p[0] + same_p[1]\n",
    "same_p['rate'] = (same_p[1] / same_p['total']).mul(100).round(2)\n",
    "same_p = same_p.rename(columns={'coupon':'criteria'})\n",
    "#same_p = pd.DataFrame(same_p.to_numpy(), \n",
    "#                      columns=['criteria', 0, 1, 'total', 'rate'])\n",
    "same_p"
   ]
  },
  {
   "cell_type": "code",
   "execution_count": 90,
   "metadata": {},
   "outputs": [
    {
     "name": "stdout",
     "output_type": "stream",
     "text": [
      "<class 'pandas.core.frame.DataFrame'>\n",
      "RangeIndex: 5 entries, 0 to 4\n",
      "Data columns (total 5 columns):\n",
      " #   Column    Non-Null Count  Dtype  \n",
      "---  ------    --------------  -----  \n",
      " 0   criteria  5 non-null      object \n",
      " 1   0         5 non-null      int64  \n",
      " 2   1         5 non-null      int64  \n",
      " 3   total     5 non-null      int64  \n",
      " 4   rate      5 non-null      float64\n",
      "dtypes: float64(1), int64(3), object(1)\n",
      "memory usage: 332.0+ bytes\n"
     ]
    }
   ],
   "source": [
    "same_p.info()"
   ]
  },
  {
   "cell_type": "code",
   "execution_count": 91,
   "metadata": {},
   "outputs": [
    {
     "data": {
      "text/html": [
       "<div>\n",
       "<style scoped>\n",
       "    .dataframe tbody tr th:only-of-type {\n",
       "        vertical-align: middle;\n",
       "    }\n",
       "\n",
       "    .dataframe tbody tr th {\n",
       "        vertical-align: top;\n",
       "    }\n",
       "\n",
       "    .dataframe thead th {\n",
       "        text-align: right;\n",
       "    }\n",
       "</style>\n",
       "<table border=\"1\" class=\"dataframe\">\n",
       "  <thead>\n",
       "    <tr style=\"text-align: right;\">\n",
       "      <th>Y</th>\n",
       "      <th>criteria</th>\n",
       "      <th>0</th>\n",
       "      <th>1</th>\n",
       "      <th>total</th>\n",
       "      <th>rate</th>\n",
       "    </tr>\n",
       "  </thead>\n",
       "  <tbody>\n",
       "    <tr>\n",
       "      <th>0</th>\n",
       "      <td>Bar</td>\n",
       "      <td>961</td>\n",
       "      <td>634</td>\n",
       "      <td>1595</td>\n",
       "      <td>39.75</td>\n",
       "    </tr>\n",
       "    <tr>\n",
       "      <th>1</th>\n",
       "      <td>Carry out &amp; Take away</td>\n",
       "      <td>398</td>\n",
       "      <td>1202</td>\n",
       "      <td>1600</td>\n",
       "      <td>75.12</td>\n",
       "    </tr>\n",
       "    <tr>\n",
       "      <th>2</th>\n",
       "      <td>Coffee House</td>\n",
       "      <td>1649</td>\n",
       "      <td>1597</td>\n",
       "      <td>3246</td>\n",
       "      <td>49.20</td>\n",
       "    </tr>\n",
       "    <tr>\n",
       "      <th>3</th>\n",
       "      <td>Restaurant(20-50)</td>\n",
       "      <td>696</td>\n",
       "      <td>539</td>\n",
       "      <td>1235</td>\n",
       "      <td>43.64</td>\n",
       "    </tr>\n",
       "    <tr>\n",
       "      <th>4</th>\n",
       "      <td>Restaurant(&lt;20)</td>\n",
       "      <td>632</td>\n",
       "      <td>1652</td>\n",
       "      <td>2284</td>\n",
       "      <td>72.33</td>\n",
       "    </tr>\n",
       "  </tbody>\n",
       "</table>\n",
       "</div>"
      ],
      "text/plain": [
       "Y               criteria     0     1  total   rate\n",
       "0                    Bar   961   634   1595  39.75\n",
       "1  Carry out & Take away   398  1202   1600  75.12\n",
       "2           Coffee House  1649  1597   3246  49.20\n",
       "3      Restaurant(20-50)   696   539   1235  43.64\n",
       "4        Restaurant(<20)   632  1652   2284  72.33"
      ]
     },
     "execution_count": 91,
     "metadata": {},
     "output_type": "execute_result"
    }
   ],
   "source": [
    "opp_p = opp_count.pivot(index='coupon', columns='Y', values='count').reset_index()\n",
    "opp_p['total'] = opp_p[0] + opp_p[1]\n",
    "opp_p['rate'] = (opp_p[1] / opp_p['total']).mul(100).round(2)\n",
    "opp_p = opp_p.rename(columns={'coupon':'criteria'})\n",
    "opp_p"
   ]
  },
  {
   "cell_type": "code",
   "execution_count": 92,
   "metadata": {},
   "outputs": [],
   "source": [
    "#all_count = pd.concat([same_count, opp_count])\n",
    "#np.concatenate(same_count.to_numpy(), opp_count.to_numpy())\n",
    "#all_count"
   ]
  },
  {
   "cell_type": "code",
   "execution_count": 93,
   "metadata": {},
   "outputs": [
    {
     "data": {
      "image/png": "[encoded data removed]",
      "text/plain": [
       "<Figure size 1000x500 with 1 Axes>"
      ]
     },
     "metadata": {},
     "output_type": "display_data"
    }
   ],
   "source": [
    "# Grapht it!\n",
    "label_x='Coupon Type'\n",
    "label_y='Acceptance Rate'\n",
    "label_t='Driving in the same direction as coupon'\n",
    "outfile=None\n",
    "graph_criteria_query_barchart(same_p, label_x, label_y, label_t, outfile)"
   ]
  },
  {
   "cell_type": "code",
   "execution_count": 94,
   "metadata": {},
   "outputs": [
    {
     "data": {
      "image/png": "[encoded data removed]",
      "text/plain": [
       "<Figure size 1000x500 with 1 Axes>"
      ]
     },
     "metadata": {},
     "output_type": "display_data"
    }
   ],
   "source": [
    "# Grapht it!\n",
    "label_x='Coupon Type'\n",
    "label_y='Acceptance Rate'\n",
    "label_t='Driving in the opposite direction as coupon'\n",
    "outfile=None\n",
    "graph_criteria_query_barchart(opp_p, label_x, label_y, label_t, outfile)"
   ]
  },
  {
   "cell_type": "code",
   "execution_count": 95,
   "metadata": {},
   "outputs": [],
   "source": [
    "all_df=pd.DataFrame([],\n",
    "                    index=pd.Index(same_p.criteria),\n",
    "                    columns=pd.MultiIndex.from_product([['Same', 'Opposite'],['total','rate']])\n",
    ")\n",
    "#all_df"
   ]
  },
  {
   "cell_type": "code",
   "execution_count": 96,
   "metadata": {},
   "outputs": [
    {
     "data": {
      "text/html": [
       "<div>\n",
       "<style scoped>\n",
       "    .dataframe tbody tr th:only-of-type {\n",
       "        vertical-align: middle;\n",
       "    }\n",
       "\n",
       "    .dataframe tbody tr th {\n",
       "        vertical-align: top;\n",
       "    }\n",
       "\n",
       "    .dataframe thead tr th {\n",
       "        text-align: left;\n",
       "    }\n",
       "\n",
       "    .dataframe thead tr:last-of-type th {\n",
       "        text-align: right;\n",
       "    }\n",
       "</style>\n",
       "<table border=\"1\" class=\"dataframe\">\n",
       "  <thead>\n",
       "    <tr>\n",
       "      <th></th>\n",
       "      <th colspan=\"2\" halign=\"left\">Same</th>\n",
       "      <th colspan=\"2\" halign=\"left\">Opposite</th>\n",
       "    </tr>\n",
       "    <tr>\n",
       "      <th></th>\n",
       "      <th>total</th>\n",
       "      <th>rate</th>\n",
       "      <th>total</th>\n",
       "      <th>rate</th>\n",
       "    </tr>\n",
       "    <tr>\n",
       "      <th>criteria</th>\n",
       "      <th></th>\n",
       "      <th></th>\n",
       "      <th></th>\n",
       "      <th></th>\n",
       "    </tr>\n",
       "  </thead>\n",
       "  <tbody>\n",
       "    <tr>\n",
       "      <th>Bar</th>\n",
       "      <td>422</td>\n",
       "      <td>45.73</td>\n",
       "      <td>1595</td>\n",
       "      <td>39.75</td>\n",
       "    </tr>\n",
       "    <tr>\n",
       "      <th>Carry out &amp; Take away</th>\n",
       "      <td>793</td>\n",
       "      <td>70.37</td>\n",
       "      <td>1600</td>\n",
       "      <td>75.12</td>\n",
       "    </tr>\n",
       "    <tr>\n",
       "      <th>Coffee House</th>\n",
       "      <td>750</td>\n",
       "      <td>53.07</td>\n",
       "      <td>3246</td>\n",
       "      <td>49.2</td>\n",
       "    </tr>\n",
       "    <tr>\n",
       "      <th>Restaurant(20-50)</th>\n",
       "      <td>257</td>\n",
       "      <td>46.3</td>\n",
       "      <td>1235</td>\n",
       "      <td>43.64</td>\n",
       "    </tr>\n",
       "    <tr>\n",
       "      <th>Restaurant(&lt;20)</th>\n",
       "      <td>502</td>\n",
       "      <td>63.35</td>\n",
       "      <td>2284</td>\n",
       "      <td>72.33</td>\n",
       "    </tr>\n",
       "  </tbody>\n",
       "</table>\n",
       "</div>"
      ],
      "text/plain": [
       "                       Same        Opposite       \n",
       "                      total   rate    total   rate\n",
       "criteria                                          \n",
       "Bar                     422  45.73     1595  39.75\n",
       "Carry out & Take away   793  70.37     1600  75.12\n",
       "Coffee House            750  53.07     3246   49.2\n",
       "Restaurant(20-50)       257   46.3     1235  43.64\n",
       "Restaurant(<20)         502  63.35     2284  72.33"
      ]
     },
     "execution_count": 96,
     "metadata": {},
     "output_type": "execute_result"
    }
   ],
   "source": [
    "same_p.set_index('criteria', inplace=True)\n",
    "all_df.loc[:, ('Same', 'total')] = same_p['total']\n",
    "all_df.loc[:, ('Same', 'rate')] = same_p['rate']\n",
    "opp_p.set_index('criteria', inplace=True)\n",
    "all_df.loc[:, ('Opposite', 'total')] = opp_p['total']\n",
    "all_df.loc[:, ('Opposite', 'rate')] = opp_p['rate']\n",
    "all_df"
   ]
  },
  {
   "cell_type": "markdown",
   "metadata": {},
   "source": [
    "### Mucking around with groupby and DF"
   ]
  },
  {
   "cell_type": "code",
   "execution_count": 98,
   "metadata": {},
   "outputs": [
    {
     "name": "stdout",
     "output_type": "stream",
     "text": [
      "<class 'pandas.core.frame.DataFrame'>\n",
      "MultiIndex: 50 entries, ('Bar', 'Home', 0, 1, 0) to ('Restaurant(<20)', 'Work', 1, 0, 1)\n",
      "Data columns (total 1 columns):\n",
      " #   Column  Non-Null Count  Dtype\n",
      "---  ------  --------------  -----\n",
      " 0   count   50 non-null     int64\n",
      "dtypes: int64(1)\n",
      "memory usage: 1.0+ KB\n"
     ]
    }
   ],
   "source": [
    "dest_df = pd.DataFrame(data.groupby(['coupon','destination','direction_same','direction_opp','Y']\n",
    "                                   )[[]].value_counts())\n",
    "dest_df.info()"
   ]
  },
  {
   "cell_type": "code",
   "execution_count": 99,
   "metadata": {},
   "outputs": [],
   "source": [
    "dest_df_unstacked = dest_df.unstack()\n",
    "#dest_df_unstacked"
   ]
  },
  {
   "cell_type": "code",
   "execution_count": 100,
   "metadata": {},
   "outputs": [],
   "source": [
    "dest_df_unstacked = dest_df.unstack()\n",
    "dest_df_unstacked['total'] = dest_df_unstacked.iloc[:,0] + dest_df_unstacked.iloc[:,1]\n",
    "dest_df_unstacked['rate'] = (dest_df_unstacked.iloc[:,1] / dest_df_unstacked['total']).mul(100).round(2)\n",
    "#dest_df_unstacked"
   ]
  },
  {
   "cell_type": "code",
   "execution_count": 101,
   "metadata": {},
   "outputs": [],
   "source": [
    "# Create IndexSlice to access the multiIndex\n",
    "idx = pd.IndexSlice"
   ]
  },
  {
   "cell_type": "code",
   "execution_count": 102,
   "metadata": {},
   "outputs": [
    {
     "data": {
      "text/html": [
       "<div>\n",
       "<style scoped>\n",
       "    .dataframe tbody tr th:only-of-type {\n",
       "        vertical-align: middle;\n",
       "    }\n",
       "\n",
       "    .dataframe tbody tr th {\n",
       "        vertical-align: top;\n",
       "    }\n",
       "\n",
       "    .dataframe thead tr th {\n",
       "        text-align: left;\n",
       "    }\n",
       "\n",
       "    .dataframe thead tr:last-of-type th {\n",
       "        text-align: right;\n",
       "    }\n",
       "</style>\n",
       "<table border=\"1\" class=\"dataframe\">\n",
       "  <thead>\n",
       "    <tr>\n",
       "      <th></th>\n",
       "      <th></th>\n",
       "      <th></th>\n",
       "      <th></th>\n",
       "      <th colspan=\"2\" halign=\"left\">count</th>\n",
       "      <th>total</th>\n",
       "      <th>rate</th>\n",
       "    </tr>\n",
       "    <tr>\n",
       "      <th></th>\n",
       "      <th></th>\n",
       "      <th></th>\n",
       "      <th>Y</th>\n",
       "      <th>0</th>\n",
       "      <th>1</th>\n",
       "      <th></th>\n",
       "      <th></th>\n",
       "    </tr>\n",
       "    <tr>\n",
       "      <th>coupon</th>\n",
       "      <th>destination</th>\n",
       "      <th>direction_same</th>\n",
       "      <th>direction_opp</th>\n",
       "      <th></th>\n",
       "      <th></th>\n",
       "      <th></th>\n",
       "      <th></th>\n",
       "    </tr>\n",
       "  </thead>\n",
       "  <tbody>\n",
       "    <tr>\n",
       "      <th rowspan=\"5\" valign=\"top\">Bar</th>\n",
       "      <th rowspan=\"2\" valign=\"top\">Home</th>\n",
       "      <th>0</th>\n",
       "      <th>1</th>\n",
       "      <td>109</td>\n",
       "      <td>64</td>\n",
       "      <td>173</td>\n",
       "      <td>36.99</td>\n",
       "    </tr>\n",
       "    <tr>\n",
       "      <th>1</th>\n",
       "      <th>0</th>\n",
       "      <td>166</td>\n",
       "      <td>167</td>\n",
       "      <td>333</td>\n",
       "      <td>50.15</td>\n",
       "    </tr>\n",
       "    <tr>\n",
       "      <th>No Urgent Place</th>\n",
       "      <th>0</th>\n",
       "      <th>1</th>\n",
       "      <td>606</td>\n",
       "      <td>418</td>\n",
       "      <td>1024</td>\n",
       "      <td>40.82</td>\n",
       "    </tr>\n",
       "    <tr>\n",
       "      <th rowspan=\"2\" valign=\"top\">Work</th>\n",
       "      <th>0</th>\n",
       "      <th>1</th>\n",
       "      <td>246</td>\n",
       "      <td>152</td>\n",
       "      <td>398</td>\n",
       "      <td>38.19</td>\n",
       "    </tr>\n",
       "    <tr>\n",
       "      <th>1</th>\n",
       "      <th>0</th>\n",
       "      <td>63</td>\n",
       "      <td>26</td>\n",
       "      <td>89</td>\n",
       "      <td>29.21</td>\n",
       "    </tr>\n",
       "    <tr>\n",
       "      <th rowspan=\"5\" valign=\"top\">Carry out &amp; Take away</th>\n",
       "      <th rowspan=\"2\" valign=\"top\">Home</th>\n",
       "      <th>0</th>\n",
       "      <th>1</th>\n",
       "      <td>81</td>\n",
       "      <td>255</td>\n",
       "      <td>336</td>\n",
       "      <td>75.89</td>\n",
       "    </tr>\n",
       "    <tr>\n",
       "      <th>1</th>\n",
       "      <th>0</th>\n",
       "      <td>57</td>\n",
       "      <td>260</td>\n",
       "      <td>317</td>\n",
       "      <td>82.02</td>\n",
       "    </tr>\n",
       "    <tr>\n",
       "      <th>No Urgent Place</th>\n",
       "      <th>0</th>\n",
       "      <th>1</th>\n",
       "      <td>232</td>\n",
       "      <td>746</td>\n",
       "      <td>978</td>\n",
       "      <td>76.28</td>\n",
       "    </tr>\n",
       "    <tr>\n",
       "      <th rowspan=\"2\" valign=\"top\">Work</th>\n",
       "      <th>0</th>\n",
       "      <th>1</th>\n",
       "      <td>85</td>\n",
       "      <td>201</td>\n",
       "      <td>286</td>\n",
       "      <td>70.28</td>\n",
       "    </tr>\n",
       "    <tr>\n",
       "      <th>1</th>\n",
       "      <th>0</th>\n",
       "      <td>178</td>\n",
       "      <td>298</td>\n",
       "      <td>476</td>\n",
       "      <td>62.61</td>\n",
       "    </tr>\n",
       "    <tr>\n",
       "      <th rowspan=\"5\" valign=\"top\">Coffee House</th>\n",
       "      <th rowspan=\"2\" valign=\"top\">Home</th>\n",
       "      <th>0</th>\n",
       "      <th>1</th>\n",
       "      <td>419</td>\n",
       "      <td>182</td>\n",
       "      <td>601</td>\n",
       "      <td>30.28</td>\n",
       "    </tr>\n",
       "    <tr>\n",
       "      <th>1</th>\n",
       "      <th>0</th>\n",
       "      <td>173</td>\n",
       "      <td>154</td>\n",
       "      <td>327</td>\n",
       "      <td>47.09</td>\n",
       "    </tr>\n",
       "    <tr>\n",
       "      <th>No Urgent Place</th>\n",
       "      <th>0</th>\n",
       "      <th>1</th>\n",
       "      <td>903</td>\n",
       "      <td>1252</td>\n",
       "      <td>2155</td>\n",
       "      <td>58.10</td>\n",
       "    </tr>\n",
       "    <tr>\n",
       "      <th rowspan=\"2\" valign=\"top\">Work</th>\n",
       "      <th>0</th>\n",
       "      <th>1</th>\n",
       "      <td>327</td>\n",
       "      <td>163</td>\n",
       "      <td>490</td>\n",
       "      <td>33.27</td>\n",
       "    </tr>\n",
       "    <tr>\n",
       "      <th>1</th>\n",
       "      <th>0</th>\n",
       "      <td>179</td>\n",
       "      <td>244</td>\n",
       "      <td>423</td>\n",
       "      <td>57.68</td>\n",
       "    </tr>\n",
       "    <tr>\n",
       "      <th rowspan=\"5\" valign=\"top\">Restaurant(20-50)</th>\n",
       "      <th rowspan=\"2\" valign=\"top\">Home</th>\n",
       "      <th>0</th>\n",
       "      <th>1</th>\n",
       "      <td>299</td>\n",
       "      <td>182</td>\n",
       "      <td>481</td>\n",
       "      <td>37.84</td>\n",
       "    </tr>\n",
       "    <tr>\n",
       "      <th>1</th>\n",
       "      <th>0</th>\n",
       "      <td>73</td>\n",
       "      <td>99</td>\n",
       "      <td>172</td>\n",
       "      <td>57.56</td>\n",
       "    </tr>\n",
       "    <tr>\n",
       "      <th>No Urgent Place</th>\n",
       "      <th>0</th>\n",
       "      <th>1</th>\n",
       "      <td>204</td>\n",
       "      <td>206</td>\n",
       "      <td>410</td>\n",
       "      <td>50.24</td>\n",
       "    </tr>\n",
       "    <tr>\n",
       "      <th rowspan=\"2\" valign=\"top\">Work</th>\n",
       "      <th>0</th>\n",
       "      <th>1</th>\n",
       "      <td>193</td>\n",
       "      <td>151</td>\n",
       "      <td>344</td>\n",
       "      <td>43.90</td>\n",
       "    </tr>\n",
       "    <tr>\n",
       "      <th>1</th>\n",
       "      <th>0</th>\n",
       "      <td>65</td>\n",
       "      <td>20</td>\n",
       "      <td>85</td>\n",
       "      <td>23.53</td>\n",
       "    </tr>\n",
       "    <tr>\n",
       "      <th rowspan=\"5\" valign=\"top\">Restaurant(&lt;20)</th>\n",
       "      <th rowspan=\"2\" valign=\"top\">Home</th>\n",
       "      <th>0</th>\n",
       "      <th>1</th>\n",
       "      <td>78</td>\n",
       "      <td>44</td>\n",
       "      <td>122</td>\n",
       "      <td>36.07</td>\n",
       "    </tr>\n",
       "    <tr>\n",
       "      <th>1</th>\n",
       "      <th>0</th>\n",
       "      <td>143</td>\n",
       "      <td>232</td>\n",
       "      <td>375</td>\n",
       "      <td>61.87</td>\n",
       "    </tr>\n",
       "    <tr>\n",
       "      <th>No Urgent Place</th>\n",
       "      <th>0</th>\n",
       "      <th>1</th>\n",
       "      <td>356</td>\n",
       "      <td>1360</td>\n",
       "      <td>1716</td>\n",
       "      <td>79.25</td>\n",
       "    </tr>\n",
       "    <tr>\n",
       "      <th rowspan=\"2\" valign=\"top\">Work</th>\n",
       "      <th>0</th>\n",
       "      <th>1</th>\n",
       "      <td>198</td>\n",
       "      <td>248</td>\n",
       "      <td>446</td>\n",
       "      <td>55.61</td>\n",
       "    </tr>\n",
       "    <tr>\n",
       "      <th>1</th>\n",
       "      <th>0</th>\n",
       "      <td>41</td>\n",
       "      <td>86</td>\n",
       "      <td>127</td>\n",
       "      <td>67.72</td>\n",
       "    </tr>\n",
       "  </tbody>\n",
       "</table>\n",
       "</div>"
      ],
      "text/plain": [
       "                                                                   count  \\\n",
       "Y                                                                      0   \n",
       "coupon                destination     direction_same direction_opp         \n",
       "Bar                   Home            0              1               109   \n",
       "                                      1              0               166   \n",
       "                      No Urgent Place 0              1               606   \n",
       "                      Work            0              1               246   \n",
       "                                      1              0                63   \n",
       "Carry out & Take away Home            0              1                81   \n",
       "                                      1              0                57   \n",
       "                      No Urgent Place 0              1               232   \n",
       "                      Work            0              1                85   \n",
       "                                      1              0               178   \n",
       "Coffee House          Home            0              1               419   \n",
       "                                      1              0               173   \n",
       "                      No Urgent Place 0              1               903   \n",
       "                      Work            0              1               327   \n",
       "                                      1              0               179   \n",
       "Restaurant(20-50)     Home            0              1               299   \n",
       "                                      1              0                73   \n",
       "                      No Urgent Place 0              1               204   \n",
       "                      Work            0              1               193   \n",
       "                                      1              0                65   \n",
       "Restaurant(<20)       Home            0              1                78   \n",
       "                                      1              0               143   \n",
       "                      No Urgent Place 0              1               356   \n",
       "                      Work            0              1               198   \n",
       "                                      1              0                41   \n",
       "\n",
       "                                                                          \\\n",
       "Y                                                                      1   \n",
       "coupon                destination     direction_same direction_opp         \n",
       "Bar                   Home            0              1                64   \n",
       "                                      1              0               167   \n",
       "                      No Urgent Place 0              1               418   \n",
       "                      Work            0              1               152   \n",
       "                                      1              0                26   \n",
       "Carry out & Take away Home            0              1               255   \n",
       "                                      1              0               260   \n",
       "                      No Urgent Place 0              1               746   \n",
       "                      Work            0              1               201   \n",
       "                                      1              0               298   \n",
       "Coffee House          Home            0              1               182   \n",
       "                                      1              0               154   \n",
       "                      No Urgent Place 0              1              1252   \n",
       "                      Work            0              1               163   \n",
       "                                      1              0               244   \n",
       "Restaurant(20-50)     Home            0              1               182   \n",
       "                                      1              0                99   \n",
       "                      No Urgent Place 0              1               206   \n",
       "                      Work            0              1               151   \n",
       "                                      1              0                20   \n",
       "Restaurant(<20)       Home            0              1                44   \n",
       "                                      1              0               232   \n",
       "                      No Urgent Place 0              1              1360   \n",
       "                      Work            0              1               248   \n",
       "                                      1              0                86   \n",
       "\n",
       "                                                                   total  \\\n",
       "Y                                                                          \n",
       "coupon                destination     direction_same direction_opp         \n",
       "Bar                   Home            0              1               173   \n",
       "                                      1              0               333   \n",
       "                      No Urgent Place 0              1              1024   \n",
       "                      Work            0              1               398   \n",
       "                                      1              0                89   \n",
       "Carry out & Take away Home            0              1               336   \n",
       "                                      1              0               317   \n",
       "                      No Urgent Place 0              1               978   \n",
       "                      Work            0              1               286   \n",
       "                                      1              0               476   \n",
       "Coffee House          Home            0              1               601   \n",
       "                                      1              0               327   \n",
       "                      No Urgent Place 0              1              2155   \n",
       "                      Work            0              1               490   \n",
       "                                      1              0               423   \n",
       "Restaurant(20-50)     Home            0              1               481   \n",
       "                                      1              0               172   \n",
       "                      No Urgent Place 0              1               410   \n",
       "                      Work            0              1               344   \n",
       "                                      1              0                85   \n",
       "Restaurant(<20)       Home            0              1               122   \n",
       "                                      1              0               375   \n",
       "                      No Urgent Place 0              1              1716   \n",
       "                      Work            0              1               446   \n",
       "                                      1              0               127   \n",
       "\n",
       "                                                                     rate  \n",
       "Y                                                                          \n",
       "coupon                destination     direction_same direction_opp         \n",
       "Bar                   Home            0              1              36.99  \n",
       "                                      1              0              50.15  \n",
       "                      No Urgent Place 0              1              40.82  \n",
       "                      Work            0              1              38.19  \n",
       "                                      1              0              29.21  \n",
       "Carry out & Take away Home            0              1              75.89  \n",
       "                                      1              0              82.02  \n",
       "                      No Urgent Place 0              1              76.28  \n",
       "                      Work            0              1              70.28  \n",
       "                                      1              0              62.61  \n",
       "Coffee House          Home            0              1              30.28  \n",
       "                                      1              0              47.09  \n",
       "                      No Urgent Place 0              1              58.10  \n",
       "                      Work            0              1              33.27  \n",
       "                                      1              0              57.68  \n",
       "Restaurant(20-50)     Home            0              1              37.84  \n",
       "                                      1              0              57.56  \n",
       "                      No Urgent Place 0              1              50.24  \n",
       "                      Work            0              1              43.90  \n",
       "                                      1              0              23.53  \n",
       "Restaurant(<20)       Home            0              1              36.07  \n",
       "                                      1              0              61.87  \n",
       "                      No Urgent Place 0              1              79.25  \n",
       "                      Work            0              1              55.61  \n",
       "                                      1              0              67.72  "
      ]
     },
     "execution_count": 102,
     "metadata": {},
     "output_type": "execute_result"
    }
   ],
   "source": [
    "#FrozenList(['coupon', 'destination', 'direction_same', 'direction_opp', 'Y'])\n",
    "dest_df_unstacked.loc[idx[:,:,:,:]]"
   ]
  },
  {
   "cell_type": "code",
   "execution_count": 103,
   "metadata": {},
   "outputs": [
    {
     "data": {
      "text/html": [
       "<div>\n",
       "<style scoped>\n",
       "    .dataframe tbody tr th:only-of-type {\n",
       "        vertical-align: middle;\n",
       "    }\n",
       "\n",
       "    .dataframe tbody tr th {\n",
       "        vertical-align: top;\n",
       "    }\n",
       "\n",
       "    .dataframe thead tr th {\n",
       "        text-align: left;\n",
       "    }\n",
       "\n",
       "    .dataframe thead tr:last-of-type th {\n",
       "        text-align: right;\n",
       "    }\n",
       "</style>\n",
       "<table border=\"1\" class=\"dataframe\">\n",
       "  <thead>\n",
       "    <tr>\n",
       "      <th></th>\n",
       "      <th></th>\n",
       "      <th></th>\n",
       "      <th colspan=\"2\" halign=\"left\">count</th>\n",
       "      <th>total</th>\n",
       "      <th>rate</th>\n",
       "    </tr>\n",
       "    <tr>\n",
       "      <th></th>\n",
       "      <th></th>\n",
       "      <th>Y</th>\n",
       "      <th>0</th>\n",
       "      <th>1</th>\n",
       "      <th></th>\n",
       "      <th></th>\n",
       "    </tr>\n",
       "    <tr>\n",
       "      <th>coupon</th>\n",
       "      <th>direction_same</th>\n",
       "      <th>direction_opp</th>\n",
       "      <th></th>\n",
       "      <th></th>\n",
       "      <th></th>\n",
       "      <th></th>\n",
       "    </tr>\n",
       "  </thead>\n",
       "  <tbody>\n",
       "    <tr>\n",
       "      <th rowspan=\"2\" valign=\"top\">Bar</th>\n",
       "      <th>0</th>\n",
       "      <th>1</th>\n",
       "      <td>109</td>\n",
       "      <td>64</td>\n",
       "      <td>173</td>\n",
       "      <td>36.99</td>\n",
       "    </tr>\n",
       "    <tr>\n",
       "      <th>1</th>\n",
       "      <th>0</th>\n",
       "      <td>166</td>\n",
       "      <td>167</td>\n",
       "      <td>333</td>\n",
       "      <td>50.15</td>\n",
       "    </tr>\n",
       "    <tr>\n",
       "      <th rowspan=\"2\" valign=\"top\">Carry out &amp; Take away</th>\n",
       "      <th>0</th>\n",
       "      <th>1</th>\n",
       "      <td>81</td>\n",
       "      <td>255</td>\n",
       "      <td>336</td>\n",
       "      <td>75.89</td>\n",
       "    </tr>\n",
       "    <tr>\n",
       "      <th>1</th>\n",
       "      <th>0</th>\n",
       "      <td>57</td>\n",
       "      <td>260</td>\n",
       "      <td>317</td>\n",
       "      <td>82.02</td>\n",
       "    </tr>\n",
       "    <tr>\n",
       "      <th rowspan=\"2\" valign=\"top\">Coffee House</th>\n",
       "      <th>0</th>\n",
       "      <th>1</th>\n",
       "      <td>419</td>\n",
       "      <td>182</td>\n",
       "      <td>601</td>\n",
       "      <td>30.28</td>\n",
       "    </tr>\n",
       "    <tr>\n",
       "      <th>1</th>\n",
       "      <th>0</th>\n",
       "      <td>173</td>\n",
       "      <td>154</td>\n",
       "      <td>327</td>\n",
       "      <td>47.09</td>\n",
       "    </tr>\n",
       "    <tr>\n",
       "      <th rowspan=\"2\" valign=\"top\">Restaurant(20-50)</th>\n",
       "      <th>0</th>\n",
       "      <th>1</th>\n",
       "      <td>299</td>\n",
       "      <td>182</td>\n",
       "      <td>481</td>\n",
       "      <td>37.84</td>\n",
       "    </tr>\n",
       "    <tr>\n",
       "      <th>1</th>\n",
       "      <th>0</th>\n",
       "      <td>73</td>\n",
       "      <td>99</td>\n",
       "      <td>172</td>\n",
       "      <td>57.56</td>\n",
       "    </tr>\n",
       "    <tr>\n",
       "      <th rowspan=\"2\" valign=\"top\">Restaurant(&lt;20)</th>\n",
       "      <th>0</th>\n",
       "      <th>1</th>\n",
       "      <td>78</td>\n",
       "      <td>44</td>\n",
       "      <td>122</td>\n",
       "      <td>36.07</td>\n",
       "    </tr>\n",
       "    <tr>\n",
       "      <th>1</th>\n",
       "      <th>0</th>\n",
       "      <td>143</td>\n",
       "      <td>232</td>\n",
       "      <td>375</td>\n",
       "      <td>61.87</td>\n",
       "    </tr>\n",
       "  </tbody>\n",
       "</table>\n",
       "</div>"
      ],
      "text/plain": [
       "                                                   count      total   rate\n",
       "Y                                                      0    1             \n",
       "coupon                direction_same direction_opp                        \n",
       "Bar                   0              1               109   64   173  36.99\n",
       "                      1              0               166  167   333  50.15\n",
       "Carry out & Take away 0              1                81  255   336  75.89\n",
       "                      1              0                57  260   317  82.02\n",
       "Coffee House          0              1               419  182   601  30.28\n",
       "                      1              0               173  154   327  47.09\n",
       "Restaurant(20-50)     0              1               299  182   481  37.84\n",
       "                      1              0                73   99   172  57.56\n",
       "Restaurant(<20)       0              1                78   44   122  36.07\n",
       "                      1              0               143  232   375  61.87"
      ]
     },
     "execution_count": 103,
     "metadata": {},
     "output_type": "execute_result"
    }
   ],
   "source": [
    "#FrozenList(['coupon', 'destination', 'direction_same', 'direction_opp', 'Y'])\n",
    "dest_df_unstacked.loc[idx[:,'Home',:,:]]"
   ]
  },
  {
   "cell_type": "code",
   "execution_count": 104,
   "metadata": {
    "scrolled": true
   },
   "outputs": [
    {
     "data": {
      "text/html": [
       "<div>\n",
       "<style scoped>\n",
       "    .dataframe tbody tr th:only-of-type {\n",
       "        vertical-align: middle;\n",
       "    }\n",
       "\n",
       "    .dataframe tbody tr th {\n",
       "        vertical-align: top;\n",
       "    }\n",
       "\n",
       "    .dataframe thead tr th {\n",
       "        text-align: left;\n",
       "    }\n",
       "\n",
       "    .dataframe thead tr:last-of-type th {\n",
       "        text-align: right;\n",
       "    }\n",
       "</style>\n",
       "<table border=\"1\" class=\"dataframe\">\n",
       "  <thead>\n",
       "    <tr>\n",
       "      <th></th>\n",
       "      <th></th>\n",
       "      <th></th>\n",
       "      <th colspan=\"2\" halign=\"left\">count</th>\n",
       "      <th>total</th>\n",
       "      <th>rate</th>\n",
       "    </tr>\n",
       "    <tr>\n",
       "      <th></th>\n",
       "      <th></th>\n",
       "      <th>Y</th>\n",
       "      <th>0</th>\n",
       "      <th>1</th>\n",
       "      <th></th>\n",
       "      <th></th>\n",
       "    </tr>\n",
       "    <tr>\n",
       "      <th>coupon</th>\n",
       "      <th>direction_same</th>\n",
       "      <th>direction_opp</th>\n",
       "      <th></th>\n",
       "      <th></th>\n",
       "      <th></th>\n",
       "      <th></th>\n",
       "    </tr>\n",
       "  </thead>\n",
       "  <tbody>\n",
       "    <tr>\n",
       "      <th rowspan=\"2\" valign=\"top\">Bar</th>\n",
       "      <th>0</th>\n",
       "      <th>1</th>\n",
       "      <td>246</td>\n",
       "      <td>152</td>\n",
       "      <td>398</td>\n",
       "      <td>38.19</td>\n",
       "    </tr>\n",
       "    <tr>\n",
       "      <th>1</th>\n",
       "      <th>0</th>\n",
       "      <td>63</td>\n",
       "      <td>26</td>\n",
       "      <td>89</td>\n",
       "      <td>29.21</td>\n",
       "    </tr>\n",
       "    <tr>\n",
       "      <th rowspan=\"2\" valign=\"top\">Carry out &amp; Take away</th>\n",
       "      <th>0</th>\n",
       "      <th>1</th>\n",
       "      <td>85</td>\n",
       "      <td>201</td>\n",
       "      <td>286</td>\n",
       "      <td>70.28</td>\n",
       "    </tr>\n",
       "    <tr>\n",
       "      <th>1</th>\n",
       "      <th>0</th>\n",
       "      <td>178</td>\n",
       "      <td>298</td>\n",
       "      <td>476</td>\n",
       "      <td>62.61</td>\n",
       "    </tr>\n",
       "    <tr>\n",
       "      <th rowspan=\"2\" valign=\"top\">Coffee House</th>\n",
       "      <th>0</th>\n",
       "      <th>1</th>\n",
       "      <td>327</td>\n",
       "      <td>163</td>\n",
       "      <td>490</td>\n",
       "      <td>33.27</td>\n",
       "    </tr>\n",
       "    <tr>\n",
       "      <th>1</th>\n",
       "      <th>0</th>\n",
       "      <td>179</td>\n",
       "      <td>244</td>\n",
       "      <td>423</td>\n",
       "      <td>57.68</td>\n",
       "    </tr>\n",
       "    <tr>\n",
       "      <th rowspan=\"2\" valign=\"top\">Restaurant(20-50)</th>\n",
       "      <th>0</th>\n",
       "      <th>1</th>\n",
       "      <td>193</td>\n",
       "      <td>151</td>\n",
       "      <td>344</td>\n",
       "      <td>43.90</td>\n",
       "    </tr>\n",
       "    <tr>\n",
       "      <th>1</th>\n",
       "      <th>0</th>\n",
       "      <td>65</td>\n",
       "      <td>20</td>\n",
       "      <td>85</td>\n",
       "      <td>23.53</td>\n",
       "    </tr>\n",
       "    <tr>\n",
       "      <th rowspan=\"2\" valign=\"top\">Restaurant(&lt;20)</th>\n",
       "      <th>0</th>\n",
       "      <th>1</th>\n",
       "      <td>198</td>\n",
       "      <td>248</td>\n",
       "      <td>446</td>\n",
       "      <td>55.61</td>\n",
       "    </tr>\n",
       "    <tr>\n",
       "      <th>1</th>\n",
       "      <th>0</th>\n",
       "      <td>41</td>\n",
       "      <td>86</td>\n",
       "      <td>127</td>\n",
       "      <td>67.72</td>\n",
       "    </tr>\n",
       "  </tbody>\n",
       "</table>\n",
       "</div>"
      ],
      "text/plain": [
       "                                                   count      total   rate\n",
       "Y                                                      0    1             \n",
       "coupon                direction_same direction_opp                        \n",
       "Bar                   0              1               246  152   398  38.19\n",
       "                      1              0                63   26    89  29.21\n",
       "Carry out & Take away 0              1                85  201   286  70.28\n",
       "                      1              0               178  298   476  62.61\n",
       "Coffee House          0              1               327  163   490  33.27\n",
       "                      1              0               179  244   423  57.68\n",
       "Restaurant(20-50)     0              1               193  151   344  43.90\n",
       "                      1              0                65   20    85  23.53\n",
       "Restaurant(<20)       0              1               198  248   446  55.61\n",
       "                      1              0                41   86   127  67.72"
      ]
     },
     "execution_count": 104,
     "metadata": {},
     "output_type": "execute_result"
    }
   ],
   "source": [
    "#FrozenList(['coupon', 'destination', 'direction_same', 'direction_opp', 'Y'])\n",
    "dest_df_unstacked.loc[idx[:,'Work',:,:]]"
   ]
  },
  {
   "cell_type": "code",
   "execution_count": 105,
   "metadata": {},
   "outputs": [
    {
     "name": "stdout",
     "output_type": "stream",
     "text": [
      "<class 'pandas.core.frame.DataFrame'>\n",
      "MultiIndex: 25 entries, ('Bar', 'Home', 0, 1) to ('Restaurant(<20)', 'Work', 1, 0)\n",
      "Data columns (total 4 columns):\n",
      " #   Column      Non-Null Count  Dtype  \n",
      "---  ------      --------------  -----  \n",
      " 0   (count, 0)  25 non-null     int64  \n",
      " 1   (count, 1)  25 non-null     int64  \n",
      " 2   (total, )   25 non-null     int64  \n",
      " 3   (rate, )    25 non-null     float64\n",
      "dtypes: float64(1), int64(3)\n",
      "memory usage: 1.3+ KB\n"
     ]
    }
   ],
   "source": [
    "dest_df_unstacked.info()"
   ]
  },
  {
   "cell_type": "code",
   "execution_count": 106,
   "metadata": {},
   "outputs": [
    {
     "data": {
      "text/plain": [
       "array([29.21, 62.61, 57.68, 23.53, 67.72])"
      ]
     },
     "execution_count": 106,
     "metadata": {},
     "output_type": "execute_result"
    }
   ],
   "source": [
    "dest_df_unstacked.loc[idx[:,'Work',1,:]]['rate'].values"
   ]
  },
  {
   "cell_type": "code",
   "execution_count": 107,
   "metadata": {},
   "outputs": [
    {
     "data": {
      "image/png": "[encoded data removed]",
      "text/plain": [
       "<Figure size 800x600 with 1 Axes>"
      ]
     },
     "metadata": {},
     "output_type": "display_data"
    }
   ],
   "source": [
    "import matplotlib.pyplot as plt\n",
    "import numpy as np\n",
    "\n",
    "# Create the data - Categories along the x-axis\n",
    "categories = ['Bar', \n",
    "              'Carry out & Take away',\n",
    "              'Coffee House', \n",
    "              'Restaurant(20-50)',\n",
    "              'Restaurant(<20)']\n",
    "\n",
    "# Render this as bar groups along the categories (x-axis)\n",
    "bars_dict = {\n",
    "    \"Driving to Work, Venue along the way\": dest_df_unstacked.loc[idx[:,'Work',1,:]]['rate'].values,\n",
    "    \"Driving to Work, Venue opposite\": dest_df_unstacked.loc[idx[:,'Work',:,1]]['rate'].values,\n",
    "    \"Driving Home, Venue along the way\": dest_df_unstacked.loc[idx[:,'Home',1,:]]['rate'].values,\n",
    "    \"Driving Home, Venue opposite\": dest_df_unstacked.loc[idx[:,'Home',:,1]]['rate'].values\n",
    "}\n",
    "\n",
    "# Define colors for each bar group\n",
    "colors = ['red', 'lightcoral', 'green', 'lightgreen']\n",
    "\n",
    "label_t='Coupon Types Redeemed'\n",
    "label_y='Acceptance Rate (%)'\n",
    "graph_grouping_barchart(categories, bars_dict, colors, label_t, label_y, 8, 6)"
   ]
  },
  {
   "cell_type": "code",
   "execution_count": null,
   "metadata": {},
   "outputs": [],
   "source": []
  }
 ],
 "metadata": {
  "kernelspec": {
   "display_name": "Python 3 (ipykernel)",
   "language": "python",
   "name": "python3"
  },
  "language_info": {
   "codemirror_mode": {
    "name": "ipython",
    "version": 3
   },
   "file_extension": ".py",
   "mimetype": "text/x-python",
   "name": "python",
   "nbconvert_exporter": "python",
   "pygments_lexer": "ipython3",
   "version": "3.11.9"
  },
  "toc": {
   "base_numbering": 1,
   "nav_menu": {},
   "number_sections": true,
   "sideBar": true,
   "skip_h1_title": false,
   "title_cell": "Table of Contents",
   "title_sidebar": "Contents",
   "toc_cell": false,
   "toc_position": {
    "height": "calc(100% - 180px)",
    "left": "10px",
    "top": "150px",
    "width": "300.391px"
   },
   "toc_section_display": true,
   "toc_window_display": true
  },
  "widgets": {
   "application/vnd.jupyter.widget-state+json": {
    "state": {},
    "version_major": 2,
    "version_minor": 0
   }
  }
 },
 "nbformat": 4,
 "nbformat_minor": 4
}
