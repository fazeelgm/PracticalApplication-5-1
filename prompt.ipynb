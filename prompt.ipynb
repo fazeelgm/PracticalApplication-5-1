{
 "cells": [
  {
   "cell_type": "markdown",
   "metadata": {
    "tags": []
   },
   "source": [
    "# Will a Customer Accept the Coupon?\n",
    "\n",
    "**Context**\n",
    "\n",
    "Imagine driving through town and a coupon is delivered to your cell phone for a restaraunt near where you are driving. Would you accept that coupon and take a short detour to the restaraunt? Would you accept the coupon but use it on a sunbsequent trip? Would you ignore the coupon entirely? What if the coupon was for a bar instead of a restaraunt? What about a coffee house? Would you accept a bar coupon with a minor passenger in the car? What about if it was just you and your partner in the car? Would weather impact the rate of acceptance? What about the time of day?\n",
    "\n",
    "Obviously, proximity to the business is a factor on whether the coupon is delivered to the driver or not, but what are the factors that determine whether a driver accepts the coupon once it is delivered to them? How would you determine whether a driver is likely to accept a coupon?\n",
    "\n",
    "**Overview**\n",
    "\n",
    "The goal of this project is to use what you know about visualizations and probability distributions to distinguish between customers who accepted a driving coupon versus those that did not.\n",
    "\n",
    "**Data**\n",
    "\n",
    "This data comes to us from the UCI Machine Learning repository and was collected via a survey on Amazon Mechanical Turk. The survey describes different driving scenarios including the destination, current time, weather, passenger, etc., and then ask the person whether he will accept the coupon if he is the driver. Answers that the user will drive there ‘right away’ or ‘later before the coupon expires’ are labeled as ‘Y = 1’ and answers ‘no, I do not want the coupon’ are labeled as ‘Y = 0’.  There are five different types of coupons -- less expensive restaurants (under \\\\$20), coffee houses, carry out & take away, bar, and more expensive restaurants (\\\\$20 - \\\\$50). "
   ]
  },
  {
   "cell_type": "markdown",
   "metadata": {},
   "source": [
    "**Deliverables**\n",
    "\n",
    "Your final product should be a brief report that highlights the differences between customers who did and did not accept the coupons.  To explore the data you will utilize your knowledge of plotting, statistical summaries, and visualization using Python. You will publish your findings in a public facing github repository as your first portfolio piece. \n",
    "\n",
    "\n",
    "\n"
   ]
  },
  {
   "cell_type": "markdown",
   "metadata": {
    "heading_collapsed": true,
    "tags": []
   },
   "source": [
    "## Data Description"
   ]
  },
  {
   "cell_type": "markdown",
   "metadata": {
    "hidden": true,
    "tags": []
   },
   "source": [
    "_Keep in mind that these values mentioned below are average values._\n",
    "\n",
    "The attributes of this data set include:\n",
    "1. User attributes\n",
    "    -  Gender: male, female\n",
    "    -  Age: below 21, 21 to 25, 26 to 30, etc.\n",
    "    -  Marital Status: single, married partner, unmarried partner, or widowed\n",
    "    -  Number of children: 0, 1, or more than 1\n",
    "    -  Education: high school, bachelors degree, associates degree, or graduate degree\n",
    "    -  Occupation: architecture & engineering, business & financial, etc.\n",
    "    -  Annual income: less than \\\\$12500, \\\\$12500 - \\\\$24999, \\\\$25000 - \\\\$37499, etc.\n",
    "    -  Number of times that he/she goes to a bar: 0, less than 1, 1 to 3, 4 to 8 or greater than 8\n",
    "    -  Number of times that he/she buys takeaway food: 0, less than 1, 1 to 3, 4 to 8 or greater\n",
    "    than 8\n",
    "    -  Number of times that he/she goes to a coffee house: 0, less than 1, 1 to 3, 4 to 8 or\n",
    "    greater than 8\n",
    "    -  Number of times that he/she eats at a restaurant with average expense less than \\\\$20 per\n",
    "    person: 0, less than 1, 1 to 3, 4 to 8 or greater than 8\n",
    "    -  Number of times that he/she goes to a bar: 0, less than 1, 1 to 3, 4 to 8 or greater than 8\n",
    "    \n",
    "\n",
    "2. Contextual attributes\n",
    "    - Driving destination: home, work, or no urgent destination\n",
    "    - Location of user, coupon and destination: we provide a map to show the geographical\n",
    "    location of the user, destination, and the venue, and we mark the distance between each\n",
    "    two places with time of driving. The user can see whether the venue is in the same\n",
    "    direction as the destination.\n",
    "    - Weather: sunny, rainy, or snowy\n",
    "    - Temperature: 30F, 55F, or 80F\n",
    "    - Time: 10AM, 2PM, or 6PM\n",
    "    - Passenger: alone, partner, kid(s), or friend(s)\n",
    "\n",
    "\n",
    "3. Coupon attributes\n",
    "    - time before it expires: 2 hours or one day"
   ]
  },
  {
   "cell_type": "code",
   "execution_count": 1,
   "metadata": {
    "hidden": true,
    "tags": []
   },
   "outputs": [],
   "source": [
    "import matplotlib.pyplot as plt\n",
    "import seaborn as sns\n",
    "import pandas as pd\n",
    "import numpy as np"
   ]
  },
  {
   "cell_type": "markdown",
   "metadata": {
    "tags": []
   },
   "source": [
    "## Problems\n",
    "\n",
    "Use the prompts below to get started with your data analysis.  "
   ]
  },
  {
   "cell_type": "markdown",
   "metadata": {
    "heading_collapsed": true
   },
   "source": [
    "### Read in the `coupons.csv` file."
   ]
  },
  {
   "cell_type": "code",
   "execution_count": 2,
   "metadata": {
    "hidden": true,
    "tags": []
   },
   "outputs": [],
   "source": [
    "data = pd.read_csv('data/coupons.csv')"
   ]
  },
  {
   "cell_type": "code",
   "execution_count": 3,
   "metadata": {
    "hidden": true,
    "scrolled": true,
    "tags": []
   },
   "outputs": [
    {
     "data": {
      "text/html": [
       "<div>\n",
       "<style scoped>\n",
       "    .dataframe tbody tr th:only-of-type {\n",
       "        vertical-align: middle;\n",
       "    }\n",
       "\n",
       "    .dataframe tbody tr th {\n",
       "        vertical-align: top;\n",
       "    }\n",
       "\n",
       "    .dataframe thead th {\n",
       "        text-align: right;\n",
       "    }\n",
       "</style>\n",
       "<table border=\"1\" class=\"dataframe\">\n",
       "  <thead>\n",
       "    <tr style=\"text-align: right;\">\n",
       "      <th></th>\n",
       "      <th>destination</th>\n",
       "      <th>passanger</th>\n",
       "      <th>weather</th>\n",
       "      <th>temperature</th>\n",
       "      <th>time</th>\n",
       "      <th>coupon</th>\n",
       "      <th>expiration</th>\n",
       "      <th>gender</th>\n",
       "      <th>age</th>\n",
       "      <th>maritalStatus</th>\n",
       "      <th>...</th>\n",
       "      <th>CoffeeHouse</th>\n",
       "      <th>CarryAway</th>\n",
       "      <th>RestaurantLessThan20</th>\n",
       "      <th>Restaurant20To50</th>\n",
       "      <th>toCoupon_GEQ5min</th>\n",
       "      <th>toCoupon_GEQ15min</th>\n",
       "      <th>toCoupon_GEQ25min</th>\n",
       "      <th>direction_same</th>\n",
       "      <th>direction_opp</th>\n",
       "      <th>Y</th>\n",
       "    </tr>\n",
       "  </thead>\n",
       "  <tbody>\n",
       "    <tr>\n",
       "      <th>0</th>\n",
       "      <td>No Urgent Place</td>\n",
       "      <td>Alone</td>\n",
       "      <td>Sunny</td>\n",
       "      <td>55</td>\n",
       "      <td>2PM</td>\n",
       "      <td>Restaurant(&lt;20)</td>\n",
       "      <td>1d</td>\n",
       "      <td>Female</td>\n",
       "      <td>21</td>\n",
       "      <td>Unmarried partner</td>\n",
       "      <td>...</td>\n",
       "      <td>never</td>\n",
       "      <td>NaN</td>\n",
       "      <td>4~8</td>\n",
       "      <td>1~3</td>\n",
       "      <td>1</td>\n",
       "      <td>0</td>\n",
       "      <td>0</td>\n",
       "      <td>0</td>\n",
       "      <td>1</td>\n",
       "      <td>1</td>\n",
       "    </tr>\n",
       "    <tr>\n",
       "      <th>1</th>\n",
       "      <td>No Urgent Place</td>\n",
       "      <td>Friend(s)</td>\n",
       "      <td>Sunny</td>\n",
       "      <td>80</td>\n",
       "      <td>10AM</td>\n",
       "      <td>Coffee House</td>\n",
       "      <td>2h</td>\n",
       "      <td>Female</td>\n",
       "      <td>21</td>\n",
       "      <td>Unmarried partner</td>\n",
       "      <td>...</td>\n",
       "      <td>never</td>\n",
       "      <td>NaN</td>\n",
       "      <td>4~8</td>\n",
       "      <td>1~3</td>\n",
       "      <td>1</td>\n",
       "      <td>0</td>\n",
       "      <td>0</td>\n",
       "      <td>0</td>\n",
       "      <td>1</td>\n",
       "      <td>0</td>\n",
       "    </tr>\n",
       "  </tbody>\n",
       "</table>\n",
       "<p>2 rows × 26 columns</p>\n",
       "</div>"
      ],
      "text/plain": [
       "       destination  passanger weather  temperature  time           coupon  \\\n",
       "0  No Urgent Place      Alone   Sunny           55   2PM  Restaurant(<20)   \n",
       "1  No Urgent Place  Friend(s)   Sunny           80  10AM     Coffee House   \n",
       "\n",
       "  expiration  gender age      maritalStatus  ...  CoffeeHouse CarryAway  \\\n",
       "0         1d  Female  21  Unmarried partner  ...        never       NaN   \n",
       "1         2h  Female  21  Unmarried partner  ...        never       NaN   \n",
       "\n",
       "  RestaurantLessThan20 Restaurant20To50 toCoupon_GEQ5min toCoupon_GEQ15min  \\\n",
       "0                  4~8              1~3                1                 0   \n",
       "1                  4~8              1~3                1                 0   \n",
       "\n",
       "  toCoupon_GEQ25min direction_same direction_opp  Y  \n",
       "0                 0              0             1  1  \n",
       "1                 0              0             1  0  \n",
       "\n",
       "[2 rows x 26 columns]"
      ]
     },
     "execution_count": 3,
     "metadata": {},
     "output_type": "execute_result"
    }
   ],
   "source": [
    "data.head(2)"
   ]
  },
  {
   "cell_type": "markdown",
   "metadata": {
    "heading_collapsed": true
   },
   "source": [
    "### Investigate the dataset for missing or problematic data."
   ]
  },
  {
   "cell_type": "code",
   "execution_count": 4,
   "metadata": {
    "hidden": true,
    "tags": []
   },
   "outputs": [
    {
     "name": "stdout",
     "output_type": "stream",
     "text": [
      "Dimensions of data read in (rows x columns): (12684, 26)\n"
     ]
    }
   ],
   "source": [
    "print('Dimensions of data read in (rows x columns): {}'.format(data.shape))"
   ]
  },
  {
   "cell_type": "markdown",
   "metadata": {
    "hidden": true
   },
   "source": [
    "**%Completeness of each column - is there any missing data?**"
   ]
  },
  {
   "cell_type": "code",
   "execution_count": 5,
   "metadata": {
    "hidden": true,
    "tags": []
   },
   "outputs": [
    {
     "data": {
      "text/plain": [
       "destination             100.00\n",
       "passanger               100.00\n",
       "weather                 100.00\n",
       "temperature             100.00\n",
       "time                    100.00\n",
       "coupon                  100.00\n",
       "expiration              100.00\n",
       "gender                  100.00\n",
       "age                     100.00\n",
       "maritalStatus           100.00\n",
       "has_children            100.00\n",
       "education               100.00\n",
       "occupation              100.00\n",
       "income                  100.00\n",
       "car                       0.85\n",
       "Bar                      99.16\n",
       "CoffeeHouse              98.29\n",
       "CarryAway                98.81\n",
       "RestaurantLessThan20     98.98\n",
       "Restaurant20To50         98.51\n",
       "toCoupon_GEQ5min        100.00\n",
       "toCoupon_GEQ15min       100.00\n",
       "toCoupon_GEQ25min       100.00\n",
       "direction_same          100.00\n",
       "direction_opp           100.00\n",
       "Y                       100.00\n",
       "dtype: float64"
      ]
     },
     "execution_count": 5,
     "metadata": {},
     "output_type": "execute_result"
    }
   ],
   "source": [
    "data.isnull().sum().transform(lambda x: (1 - (x / data.shape[0])) * 100).round(2)"
   ]
  },
  {
   "cell_type": "markdown",
   "metadata": {
    "heading_collapsed": true
   },
   "source": [
    "### Decide what to do about your missing data -- drop, replace, other...\n",
    "\n",
    "* Drop car column: only 0.85% rows have values\n",
    "* Keep the rest of the columns at this time - on average 98% rows have non-null data\n",
    "    * Will decide later as we answer specific questions what to do about incomplete rows"
   ]
  },
  {
   "cell_type": "code",
   "execution_count": 6,
   "metadata": {
    "hidden": true
   },
   "outputs": [
    {
     "name": "stdout",
     "output_type": "stream",
     "text": [
      "Dropped column 'car' since 12576 of 12684 rows are null - only 0.85% useful rows!\n"
     ]
    }
   ],
   "source": [
    "car_nulls = data.car.isnull().sum()\n",
    "data = data.drop(labels=('car'), axis=1)\n",
    "print('Dropped column \\'car\\' since {} of {} rows are null - only {:.2f}% useful rows!'\n",
    "      .format(car_nulls, data.shape[0], (1 - (car_nulls / data.shape[0])) * 100)\n",
    ")"
   ]
  },
  {
   "cell_type": "markdown",
   "metadata": {
    "heading_collapsed": true
   },
   "source": [
    "### What proportion of the total observations chose to accept the coupon? \n",
    "\n",
    "**Strategy**\n",
    "\n",
    "* Data Prep:\n",
    "    * Create new dataframe using Groupby Y and pull out the Y column\n",
    "    * Grab the value_counts()\n",
    "    * Add a new column 'Responses' and convert Y=(0,1) -> Responses=('Rejected','Accepted') for labels\n",
    "* Visualization: Pie chart\n",
    "    * Generate and prettify graph\n"
   ]
  },
  {
   "cell_type": "code",
   "execution_count": 7,
   "metadata": {
    "hidden": true
   },
   "outputs": [
    {
     "name": "stdout",
     "output_type": "stream",
     "text": [
      "Overall Coupon Acceptance Rate: 56.84%\n",
      "7210 accepted and 5474 did not from a total of 12684 responses\n"
     ]
    }
   ],
   "source": [
    "# Prep data for Pie chart\n",
    "acceptance_rate_pie = data.groupby('Y')['Y'].value_counts().rename('Responses').reset_index()\n",
    "\n",
    "# Calculate overall acceptance rate\n",
    "nayes = acceptance_rate_pie.iloc[0, 1]\n",
    "ayes = acceptance_rate_pie.iloc[1, 1]\n",
    "acceptance_rate = (ayes / data.shape[0]) * 100\n",
    "\n",
    "print('Overall Coupon Acceptance Rate: {:.2f}%'\n",
    "      .format(acceptance_rate))\n",
    "print('{} accepted and {} did not from a total of {} responses'\n",
    "      .format(ayes, nayes, data.shape[0]))\n",
    "\n",
    "#acceptance_rate_pie"
   ]
  },
  {
   "cell_type": "code",
   "execution_count": 8,
   "metadata": {
    "hidden": true,
    "tags": []
   },
   "outputs": [
    {
     "data": {
      "text/plain": [
       "Text(0.5, 1.0, 'Overall Coupon Acceptance Rate')"
      ]
     },
     "execution_count": 8,
     "metadata": {},
     "output_type": "execute_result"
    },
    {
     "data": {
      "image/png": "[encoded data removed]",
      "text/plain": [
       "<Figure size 300x300 with 1 Axes>"
      ]
     },
     "metadata": {},
     "output_type": "display_data"
    }
   ],
   "source": [
    "names = ('Rejected', 'Accepted')\n",
    "colors = ('red', 'green')\n",
    "plt.rcParams['figure.figsize'] = (3,3)\n",
    "\n",
    "acceptance_rate_pie.plot.pie(y='Responses',\n",
    "                             autopct='%1.2f%%', \n",
    "                             labels=names,\n",
    "                             colors=colors,\n",
    "                             legend=False\n",
    "                            )\n",
    "plt.title('Overall Coupon Acceptance Rate')"
   ]
  },
  {
   "cell_type": "markdown",
   "metadata": {
    "heading_collapsed": true
   },
   "source": [
    "### Use a bar plot to visualize the `coupon` column.\n",
    "\n",
    "**Strategy**\n",
    "\n",
    "* Data Prep\n",
    "    * Create new dataframe to Groupby coupon and pull out the Y column\n",
    "    * Grab the value_counts()\n",
    "    * Add a new column 'Responses' and convert Y=(0,1) -> Responses=('Rejected','Accepted') for labels\n",
    "* Generate and prettify graph\n"
   ]
  },
  {
   "cell_type": "code",
   "execution_count": 9,
   "metadata": {
    "hidden": true
   },
   "outputs": [],
   "source": [
    "def map_01_to_accept_reject(col):\n",
    "    \"\"\"\n",
    "    Maps the input DF column with 0 and 1 to 'Rejected' and 'Accepted'\n",
    "    \n",
    "    :param col: Series or Colum in a DataFrame\n",
    "    :return: Returns the column with mapped values\n",
    "    \"\"\"\n",
    "    return col.map({0:'Rejected',\n",
    "                    1:'Accepted'\n",
    "                   })"
   ]
  },
  {
   "cell_type": "code",
   "execution_count": 10,
   "metadata": {
    "hidden": true,
    "tags": []
   },
   "outputs": [
    {
     "data": {
      "text/html": [
       "<div>\n",
       "<style scoped>\n",
       "    .dataframe tbody tr th:only-of-type {\n",
       "        vertical-align: middle;\n",
       "    }\n",
       "\n",
       "    .dataframe tbody tr th {\n",
       "        vertical-align: top;\n",
       "    }\n",
       "\n",
       "    .dataframe thead th {\n",
       "        text-align: right;\n",
       "    }\n",
       "</style>\n",
       "<table border=\"1\" class=\"dataframe\">\n",
       "  <thead>\n",
       "    <tr style=\"text-align: right;\">\n",
       "      <th></th>\n",
       "      <th>coupon</th>\n",
       "      <th>Responses</th>\n",
       "      <th>count</th>\n",
       "    </tr>\n",
       "  </thead>\n",
       "  <tbody>\n",
       "    <tr>\n",
       "      <th>0</th>\n",
       "      <td>Bar</td>\n",
       "      <td>Rejected</td>\n",
       "      <td>1190</td>\n",
       "    </tr>\n",
       "    <tr>\n",
       "      <th>1</th>\n",
       "      <td>Bar</td>\n",
       "      <td>Accepted</td>\n",
       "      <td>827</td>\n",
       "    </tr>\n",
       "    <tr>\n",
       "      <th>2</th>\n",
       "      <td>Carry out &amp; Take away</td>\n",
       "      <td>Accepted</td>\n",
       "      <td>1760</td>\n",
       "    </tr>\n",
       "    <tr>\n",
       "      <th>3</th>\n",
       "      <td>Carry out &amp; Take away</td>\n",
       "      <td>Rejected</td>\n",
       "      <td>633</td>\n",
       "    </tr>\n",
       "    <tr>\n",
       "      <th>4</th>\n",
       "      <td>Coffee House</td>\n",
       "      <td>Rejected</td>\n",
       "      <td>2001</td>\n",
       "    </tr>\n",
       "    <tr>\n",
       "      <th>5</th>\n",
       "      <td>Coffee House</td>\n",
       "      <td>Accepted</td>\n",
       "      <td>1995</td>\n",
       "    </tr>\n",
       "    <tr>\n",
       "      <th>6</th>\n",
       "      <td>Restaurant(20-50)</td>\n",
       "      <td>Rejected</td>\n",
       "      <td>834</td>\n",
       "    </tr>\n",
       "    <tr>\n",
       "      <th>7</th>\n",
       "      <td>Restaurant(20-50)</td>\n",
       "      <td>Accepted</td>\n",
       "      <td>658</td>\n",
       "    </tr>\n",
       "    <tr>\n",
       "      <th>8</th>\n",
       "      <td>Restaurant(&lt;20)</td>\n",
       "      <td>Accepted</td>\n",
       "      <td>1970</td>\n",
       "    </tr>\n",
       "    <tr>\n",
       "      <th>9</th>\n",
       "      <td>Restaurant(&lt;20)</td>\n",
       "      <td>Rejected</td>\n",
       "      <td>816</td>\n",
       "    </tr>\n",
       "  </tbody>\n",
       "</table>\n",
       "</div>"
      ],
      "text/plain": [
       "                  coupon Responses  count\n",
       "0                    Bar  Rejected   1190\n",
       "1                    Bar  Accepted    827\n",
       "2  Carry out & Take away  Accepted   1760\n",
       "3  Carry out & Take away  Rejected    633\n",
       "4           Coffee House  Rejected   2001\n",
       "5           Coffee House  Accepted   1995\n",
       "6      Restaurant(20-50)  Rejected    834\n",
       "7      Restaurant(20-50)  Accepted    658\n",
       "8        Restaurant(<20)  Accepted   1970\n",
       "9        Restaurant(<20)  Rejected    816"
      ]
     },
     "execution_count": 10,
     "metadata": {},
     "output_type": "execute_result"
    }
   ],
   "source": [
    "# Use groupby to marshall Responses in new column with values based on column Y\n",
    "coupon = (data\n",
    "          .groupby('coupon')['Y']\n",
    "          .value_counts()\n",
    "          .reset_index()\n",
    "         )\n",
    "\n",
    "# Convert Y=(0,1) -> Responses=('Rejected','Accepted') for labels\n",
    "coupon.Y = map_01_to_accept_reject(coupon.Y)\n",
    "coupon = coupon.rename(columns={'Y':'Responses'})\n",
    "coupon#.head()\n"
   ]
  },
  {
   "cell_type": "code",
   "execution_count": 11,
   "metadata": {
    "hidden": true
   },
   "outputs": [
    {
     "data": {
      "image/png": "[encoded data removed]",
      "text/plain": [
       "<Figure size 614.75x500 with 1 Axes>"
      ]
     },
     "metadata": {},
     "output_type": "display_data"
    }
   ],
   "source": [
    "# Generate graph and prettify\n",
    "\n",
    "plt.rcParams[\"figure.figsize\"] = (7,5)\n",
    "\n",
    "sns.catplot(data=coupon, kind='bar',\n",
    "            y='coupon', x='count', hue='Responses',\n",
    "            palette={'Rejected':'red', 'Accepted':'green'}\n",
    "           )\n",
    "plt.title('Acceptance by Coupon Type')\n",
    "plt.xlabel('Responses')\n",
    "plt.ylabel('Coupon Type')\n",
    "plt.show()"
   ]
  },
  {
   "cell_type": "markdown",
   "metadata": {
    "heading_collapsed": true
   },
   "source": [
    "### Use a histogram to visualize the temperature column.\n",
    "\n",
    "**Strategy**\n",
    "\n",
    "* No data prep needed - we can just graph it"
   ]
  },
  {
   "cell_type": "code",
   "execution_count": 12,
   "metadata": {
    "hidden": true
   },
   "outputs": [
    {
     "data": {
      "text/plain": [
       "<Axes: xlabel='temperature', ylabel='Count'>"
      ]
     },
     "execution_count": 12,
     "metadata": {},
     "output_type": "execute_result"
    },
    {
     "data": {
      "image/png": "[encoded data removed]",
      "text/plain": [
       "<Figure size 700x500 with 1 Axes>"
      ]
     },
     "metadata": {},
     "output_type": "display_data"
    }
   ],
   "source": [
    "# No prep needed, just graph it\n",
    "\n",
    "plt.rcParams[\"figure.figsize\"] = (7,5)\n",
    "\n",
    "sns.histplot(\n",
    "    data=data,\n",
    "    x='temperature', hue='Y',\n",
    "    multiple='stack', #bins=50,\n",
    "    edgecolor='.3', linewidth=.5,\n",
    "    palette=['red','green'] #, alpha=0.5,\n",
    ")"
   ]
  },
  {
   "cell_type": "markdown",
   "metadata": {},
   "source": [
    "## Investigating the Bar Coupons\n",
    "\n",
    "Now, we will lead you through an exploration of just the bar related coupons.  \n"
   ]
  },
  {
   "cell_type": "markdown",
   "metadata": {
    "heading_collapsed": true
   },
   "source": [
    "#### Utility Function: Generate stacked-barplots for criteria-based queries - reused in multiple places\n",
    "\n",
    "* This utility function is used to generate the Acceptance Stacked Bar graphs based on criteria queries for the various investigations\n",
    "* Called multiple times to visualize the results of criteria-based queries"
   ]
  },
  {
   "cell_type": "code",
   "execution_count": 13,
   "metadata": {
    "hidden": true
   },
   "outputs": [],
   "source": [
    "# graph it now\n",
    "\n",
    "def graph_criteria_query_barchart(graph_df, label_x, label_y, label_t, png_out_filepath):\n",
    "    \"\"\"\n",
    "    Generates a stacked bar graph for data in the following dictionary format:\n",
    "    \n",
    "        {0: {0: 1144, 1: 46},\n",
    "         1: {0: 674, 1: 153},\n",
    "         'criteria': {0: '3 or fewer', 1: 'More than 3'},\n",
    "         'total': {0: 1818, 1: 199},\n",
    "         'rate': {0: 37.07, 1: 76.88}}\n",
    "    \n",
    "    where\n",
    "    \n",
    "        0: Rejected coupons\n",
    "        1: Accepted coupons\n",
    "        criteria: Label for x-axis that was used to query the coupons data. Must be unique per row\n",
    "        total: 0 + 1\n",
    "        rate: Acceptance rate\n",
    "        \n",
    "    \n",
    "    :param graph_df: DF in the above format\n",
    "    :param label_x: x-axis label\n",
    "    :param label_y: y-axis label\n",
    "    :param label_t: title\n",
    "    :param png_out_filepath: output filepath to save graph as a PNG\n",
    "    \"\"\"\n",
    "    sns.set_theme(style='darkgrid', palette=None)\n",
    "\n",
    "    fig, ax = plt.subplots(figsize=(9,5))\n",
    "\n",
    "    # Start the bar plot using the totals in red\n",
    "    bar_total = ax.bar(graph_df['criteria'], graph_df['total'], color = 'red')\n",
    "\n",
    "    # Overlay with accepted as green\n",
    "    bar_accepted = ax.bar(graph_df['criteria'], graph_df[1], color = 'green')\n",
    "\n",
    "    # Adding the values from column '1' on the bars\n",
    "    for i, bar in enumerate(bar_accepted):\n",
    "        height = bar.get_height()\n",
    "        ax.text(\n",
    "            bar.get_x() + bar.get_width() / 2,  # x position\n",
    "            bar.get_y() + height / 2,  # y position (middle of the bar)\n",
    "            f'{graph_df[\"rate\"][i]:.2f}%',  # text (the rate value)\n",
    "            ha='center',  # horizontal alignment\n",
    "            va='center',  # vertical alignment\n",
    "            color='orange',  # text color\n",
    "            fontsize=12  # text font size\n",
    "        )\n",
    "\n",
    "    # Create the legend\n",
    "    topbar = plt.Rectangle((0,0),1,1,fc=\"red\", edgecolor = 'none')\n",
    "    bottombar = plt.Rectangle((0,0),1,1,fc='green',  edgecolor = 'none')\n",
    "    l = plt.legend([bottombar, topbar], ['Accepted', 'Rejected'], loc=0)\n",
    "    #l.draw_frame(False)\n",
    "\n",
    "    ax.set_xlabel(label_x)\n",
    "    ax.set_ylabel(label_y)\n",
    "    ax.set_title(label_t)\n",
    "\n",
    "    plt.savefig(png_out_filepath)\n",
    "\n",
    "    plt.show()\n"
   ]
  },
  {
   "cell_type": "markdown",
   "metadata": {},
   "source": [
    "### Create a new `DataFrame` that contains just the bar coupons.\n",
    "\n",
    "**Strategy**\n",
    "\n",
    "* Make a new copy of the 'curated' data from earlier called 'coupons_bar'\n",
    "* Replace the NAN values with 'Missing' so we can track it and deal with it downstream if necessary\n",
    "    * 21 rows are tagged with Bar Coupon type as 'Missing'"
   ]
  },
  {
   "cell_type": "code",
   "execution_count": 14,
   "metadata": {},
   "outputs": [
    {
     "data": {
      "text/html": [
       "<div>\n",
       "<style scoped>\n",
       "    .dataframe tbody tr th:only-of-type {\n",
       "        vertical-align: middle;\n",
       "    }\n",
       "\n",
       "    .dataframe tbody tr th {\n",
       "        vertical-align: top;\n",
       "    }\n",
       "\n",
       "    .dataframe thead th {\n",
       "        text-align: right;\n",
       "    }\n",
       "</style>\n",
       "<table border=\"1\" class=\"dataframe\">\n",
       "  <thead>\n",
       "    <tr style=\"text-align: right;\">\n",
       "      <th></th>\n",
       "      <th>destination</th>\n",
       "      <th>passanger</th>\n",
       "      <th>weather</th>\n",
       "      <th>temperature</th>\n",
       "      <th>time</th>\n",
       "      <th>coupon</th>\n",
       "      <th>expiration</th>\n",
       "      <th>gender</th>\n",
       "      <th>age</th>\n",
       "      <th>maritalStatus</th>\n",
       "      <th>...</th>\n",
       "      <th>CoffeeHouse</th>\n",
       "      <th>CarryAway</th>\n",
       "      <th>RestaurantLessThan20</th>\n",
       "      <th>Restaurant20To50</th>\n",
       "      <th>toCoupon_GEQ5min</th>\n",
       "      <th>toCoupon_GEQ15min</th>\n",
       "      <th>toCoupon_GEQ25min</th>\n",
       "      <th>direction_same</th>\n",
       "      <th>direction_opp</th>\n",
       "      <th>Y</th>\n",
       "    </tr>\n",
       "  </thead>\n",
       "  <tbody>\n",
       "    <tr>\n",
       "      <th>9</th>\n",
       "      <td>No Urgent Place</td>\n",
       "      <td>Kid(s)</td>\n",
       "      <td>Sunny</td>\n",
       "      <td>80</td>\n",
       "      <td>10AM</td>\n",
       "      <td>Bar</td>\n",
       "      <td>1d</td>\n",
       "      <td>Female</td>\n",
       "      <td>21</td>\n",
       "      <td>Unmarried partner</td>\n",
       "      <td>...</td>\n",
       "      <td>never</td>\n",
       "      <td>NaN</td>\n",
       "      <td>4~8</td>\n",
       "      <td>1~3</td>\n",
       "      <td>1</td>\n",
       "      <td>1</td>\n",
       "      <td>0</td>\n",
       "      <td>0</td>\n",
       "      <td>1</td>\n",
       "      <td>0</td>\n",
       "    </tr>\n",
       "    <tr>\n",
       "      <th>13</th>\n",
       "      <td>Home</td>\n",
       "      <td>Alone</td>\n",
       "      <td>Sunny</td>\n",
       "      <td>55</td>\n",
       "      <td>6PM</td>\n",
       "      <td>Bar</td>\n",
       "      <td>1d</td>\n",
       "      <td>Female</td>\n",
       "      <td>21</td>\n",
       "      <td>Unmarried partner</td>\n",
       "      <td>...</td>\n",
       "      <td>never</td>\n",
       "      <td>NaN</td>\n",
       "      <td>4~8</td>\n",
       "      <td>1~3</td>\n",
       "      <td>1</td>\n",
       "      <td>0</td>\n",
       "      <td>0</td>\n",
       "      <td>1</td>\n",
       "      <td>0</td>\n",
       "      <td>1</td>\n",
       "    </tr>\n",
       "  </tbody>\n",
       "</table>\n",
       "<p>2 rows × 25 columns</p>\n",
       "</div>"
      ],
      "text/plain": [
       "        destination passanger weather  temperature  time coupon expiration  \\\n",
       "9   No Urgent Place    Kid(s)   Sunny           80  10AM    Bar         1d   \n",
       "13             Home     Alone   Sunny           55   6PM    Bar         1d   \n",
       "\n",
       "    gender age      maritalStatus  ...  CoffeeHouse CarryAway  \\\n",
       "9   Female  21  Unmarried partner  ...        never       NaN   \n",
       "13  Female  21  Unmarried partner  ...        never       NaN   \n",
       "\n",
       "   RestaurantLessThan20 Restaurant20To50 toCoupon_GEQ5min toCoupon_GEQ15min  \\\n",
       "9                   4~8              1~3                1                 1   \n",
       "13                  4~8              1~3                1                 0   \n",
       "\n",
       "   toCoupon_GEQ25min direction_same direction_opp  Y  \n",
       "9                  0              0             1  0  \n",
       "13                 0              1             0  1  \n",
       "\n",
       "[2 rows x 25 columns]"
      ]
     },
     "execution_count": 14,
     "metadata": {},
     "output_type": "execute_result"
    }
   ],
   "source": [
    "# Make a new copy of the \"curated\" data from earlier\n",
    "\n",
    "coupons_bar = data.copy();\n",
    "coupons_bar = coupons_bar[data.coupon == 'Bar']\n",
    "coupons_bar.head(2)"
   ]
  },
  {
   "cell_type": "code",
   "execution_count": 15,
   "metadata": {
    "tags": []
   },
   "outputs": [
    {
     "data": {
      "text/plain": [
       "Bar    \n",
       "never      830\n",
       "less1      570\n",
       "1~3        397\n",
       "4~8        150\n",
       "gt8         49\n",
       "Missing     21\n",
       "Name: count, dtype: int64"
      ]
     },
     "execution_count": 15,
     "metadata": {},
     "output_type": "execute_result"
    }
   ],
   "source": [
    "# Replace the NAN values with 'Missing' so we can track it and deal with it downstream if necessary\n",
    "coupons_bar.Bar = coupons_bar.Bar.fillna(value='Missing')\n",
    "coupons_bar[['Bar']].value_counts()"
   ]
  },
  {
   "cell_type": "code",
   "execution_count": 16,
   "metadata": {},
   "outputs": [
    {
     "name": "stdout",
     "output_type": "stream",
     "text": [
      "Replaced coupons_bar[['Bar']].isna() with 'Missing': 21 instances\n"
     ]
    }
   ],
   "source": [
    "print('Replaced coupons_bar[[\\'Bar\\']].isna() with \\'Missing\\': {} instances'\n",
    "      .format(coupons_bar[['Bar']].value_counts()['Missing']))"
   ]
  },
  {
   "cell_type": "markdown",
   "metadata": {},
   "source": [
    "### What proportion of bar coupons were accepted?\n",
    "\n",
    "**Strategy**\n",
    "\n",
    "* Calcualte the Bar Coupon Acceptance Rate using coupons_bar.shape\n",
    "    * _I'm not removing the 21 Missing bar coupon types as we are looking at overall acceptance rate across all bar coupons so they should be included the count_\n",
    "* Visualize the data in a couple of different ways \n",
    "    * Visualization 1: Pie chart of overall Bar Coupon Acceptance Rate\n",
    "    * Visualization 2: Bar graph of Bar Coupon Acceptance distribution\n"
   ]
  },
  {
   "cell_type": "code",
   "execution_count": 17,
   "metadata": {},
   "outputs": [
    {
     "name": "stdout",
     "output_type": "stream",
     "text": [
      "Overall Bar Coupon Acceptance Rate: 41.00%\n"
     ]
    }
   ],
   "source": [
    "acceptance_rate_bar = (coupons_bar[coupons_bar['Y'] == 1].shape[0] / coupons_bar.shape[0]) * 100\n",
    "print('Overall Bar Coupon Acceptance Rate: {:.2f}%'.format(acceptance_rate_bar))"
   ]
  },
  {
   "cell_type": "markdown",
   "metadata": {
    "heading_collapsed": true
   },
   "source": [
    "#### Visualization 1: Pie chart of the Overall Bar Coupon Acceptance Rate\n",
    "\n",
    "**Strategy**\n",
    "* Data Prep: Create acceptanece_rate_pie DF using groupby('Y').value_counts()\n",
    "* Fix the labels and set the color appropriately as above\n",
    "\n",
    "**Findings**\n",
    "* The overall Bar Coupon Acceptance Rate as a Pie Graph\n",
    "\n",
    "![](images/pie-acceptance-overall.png)\n"
   ]
  },
  {
   "cell_type": "code",
   "execution_count": 37,
   "metadata": {
    "hidden": true,
    "tags": []
   },
   "outputs": [
    {
     "data": {
      "image/png": "[encoded data removed]",
      "text/plain": [
       "<Figure size 300x300 with 1 Axes>"
      ]
     },
     "metadata": {},
     "output_type": "display_data"
    }
   ],
   "source": [
    "# Create the DF for the graph\n",
    "acceptance_rate_pie = coupons_bar.groupby('Y')['Y'].value_counts().rename('Acceptance Rate').reset_index()\n",
    "\n",
    "# Prettify graph\n",
    "names = ('Rejected', 'Accepted')\n",
    "colors = ('red', 'green')\n",
    "plt.rcParams[\"figure.figsize\"] = (3,3)\n",
    "sns.set_theme(style='darkgrid', palette=None)\n",
    "\n",
    "acceptance_rate_pie.plot.pie(y='Acceptance Rate',\n",
    "                             autopct='%1.1f%%', \n",
    "                             labels=names,\n",
    "                             colors=colors,\n",
    "                             legend=False\n",
    "                            )\n",
    "plt.title('Overall Bar Coupon Acceptance Rate')\n",
    "\n",
    "plt.savefig('images/pie-acceptance-overall.png')"
   ]
  },
  {
   "cell_type": "markdown",
   "metadata": {
    "heading_collapsed": true
   },
   "source": [
    "#### Visualization 2: Bar graph of the Overall Bar Coupon Acceptance distribution\n",
    "\n",
    "**Strategy**\n",
    "* Data Prep\n",
    "    * Create new DF with counts of each coupon type groupby('Bar').value_counts()\n",
    "    * Create a pivot table with each row containing both acceptance and rejection per coupon type\n",
    "    * Calculate totals and acceptance rate for each row (bucket)\n",
    "    * Manually order the buckets so they x-axis appear 'natural' like a time-series\n",
    "* Bar graph: ```Call graph_criteria_query_barchart()``` to graph the data\n",
    "\n",
    "**Findings**\n",
    "* Overall Coupon Accepted / Rejected as a stacked-bar graph showing the distribution per Bar Coupon Type\n",
    "\n",
    "![](images/bar-acceptance-overall.png)\n"
   ]
  },
  {
   "cell_type": "code",
   "execution_count": 19,
   "metadata": {
    "hidden": true,
    "tags": []
   },
   "outputs": [],
   "source": [
    "# Bar acceptance buckets by count\n",
    "bar_count = (coupons_bar\n",
    "             .groupby('Bar')['Y']\n",
    "             .value_counts()\n",
    "             .reset_index()\n",
    ")\n",
    "#bar_count"
   ]
  },
  {
   "cell_type": "code",
   "execution_count": 20,
   "metadata": {
    "hidden": true,
    "tags": []
   },
   "outputs": [],
   "source": [
    "bar_p = bar_count.pivot(index='Bar', columns='Y', values='count').reset_index()\n",
    "bar_p['total'] = bar_p[0] + bar_p[1]\n",
    "bar_p['rate'] = (bar_p[1] / bar_p['total']).mul(100).round(2)\n",
    "#bar_p"
   ]
  },
  {
   "cell_type": "code",
   "execution_count": 21,
   "metadata": {
    "hidden": true,
    "tags": []
   },
   "outputs": [],
   "source": [
    "# Manually sort based on frequency of visiting a bar\n",
    "col_order = [2, 5, 4, 0, 1, 3]\n",
    "bar_p = bar_p.reindex(col_order)\n",
    "#bar_p"
   ]
  },
  {
   "cell_type": "code",
   "execution_count": 22,
   "metadata": {
    "hidden": true
   },
   "outputs": [
    {
     "data": {
      "text/html": [
       "<div>\n",
       "<style scoped>\n",
       "    .dataframe tbody tr th:only-of-type {\n",
       "        vertical-align: middle;\n",
       "    }\n",
       "\n",
       "    .dataframe tbody tr th {\n",
       "        vertical-align: top;\n",
       "    }\n",
       "\n",
       "    .dataframe thead th {\n",
       "        text-align: right;\n",
       "    }\n",
       "</style>\n",
       "<table border=\"1\" class=\"dataframe\">\n",
       "  <thead>\n",
       "    <tr style=\"text-align: right;\">\n",
       "      <th></th>\n",
       "      <th>criteria</th>\n",
       "      <th>0</th>\n",
       "      <th>1</th>\n",
       "      <th>total</th>\n",
       "      <th>rate</th>\n",
       "    </tr>\n",
       "  </thead>\n",
       "  <tbody>\n",
       "    <tr>\n",
       "      <th>0</th>\n",
       "      <td>Missing</td>\n",
       "      <td>13</td>\n",
       "      <td>8</td>\n",
       "      <td>21</td>\n",
       "      <td>38.1</td>\n",
       "    </tr>\n",
       "    <tr>\n",
       "      <th>1</th>\n",
       "      <td>never</td>\n",
       "      <td>674</td>\n",
       "      <td>156</td>\n",
       "      <td>830</td>\n",
       "      <td>18.8</td>\n",
       "    </tr>\n",
       "    <tr>\n",
       "      <th>2</th>\n",
       "      <td>less1</td>\n",
       "      <td>317</td>\n",
       "      <td>253</td>\n",
       "      <td>570</td>\n",
       "      <td>44.39</td>\n",
       "    </tr>\n",
       "    <tr>\n",
       "      <th>3</th>\n",
       "      <td>1~3</td>\n",
       "      <td>140</td>\n",
       "      <td>257</td>\n",
       "      <td>397</td>\n",
       "      <td>64.74</td>\n",
       "    </tr>\n",
       "    <tr>\n",
       "      <th>4</th>\n",
       "      <td>4~8</td>\n",
       "      <td>33</td>\n",
       "      <td>117</td>\n",
       "      <td>150</td>\n",
       "      <td>78.0</td>\n",
       "    </tr>\n",
       "    <tr>\n",
       "      <th>5</th>\n",
       "      <td>gt8</td>\n",
       "      <td>13</td>\n",
       "      <td>36</td>\n",
       "      <td>49</td>\n",
       "      <td>73.47</td>\n",
       "    </tr>\n",
       "  </tbody>\n",
       "</table>\n",
       "</div>"
      ],
      "text/plain": [
       "  criteria    0    1 total   rate\n",
       "0  Missing   13    8    21   38.1\n",
       "1    never  674  156   830   18.8\n",
       "2    less1  317  253   570  44.39\n",
       "3      1~3  140  257   397  64.74\n",
       "4      4~8   33  117   150   78.0\n",
       "5      gt8   13   36    49  73.47"
      ]
     },
     "execution_count": 22,
     "metadata": {},
     "output_type": "execute_result"
    }
   ],
   "source": [
    "# re-foramt data to send to graph_criteria_query_barchart() function\n",
    "# 1. rename Bar column to criteria\n",
    "# 2. Remove the Y column index\n",
    "\n",
    "bar_p = bar_p.rename(columns={'Bar':'criteria'})\n",
    "\n",
    "bar_temp_df = pd.DataFrame(bar_p.to_numpy(), \n",
    "                           columns=['criteria', 0, 1, 'total', 'rate'])\n",
    "bar_temp_df"
   ]
  },
  {
   "cell_type": "code",
   "execution_count": 23,
   "metadata": {
    "hidden": true
   },
   "outputs": [
    {
     "data": {
      "image/png": "[encoded data removed]",
      "text/plain": [
       "<Figure size 900x500 with 1 Axes>"
      ]
     },
     "metadata": {},
     "output_type": "display_data"
    }
   ],
   "source": [
    "# Grapht it!\n",
    "label_x='Bar Coupon Type (Missing = No type specified)'\n",
    "label_y='Acceptance Rate by Bar Coupons'\n",
    "label_t='Overall Acceptance Rate for \"Bar\" Coupons'\n",
    "outfile='images/bar-acceptance-overall.png'\n",
    "graph_criteria_query_barchart(bar_temp_df, label_x, label_y, label_t, outfile)"
   ]
  },
  {
   "cell_type": "markdown",
   "metadata": {
    "heading_collapsed": true
   },
   "source": [
    "### Compare the acceptance rate between those who went to a bar 3 or fewer times a month to those who went more.\n",
    "\n",
    "**Strategy**\n",
    "\n",
    "* Criteria: Visit bar 3 or fewer times a month\n",
    "* Data Preparation\n",
    "    * Inspect Bar column\n",
    "    * Define list containing the list of Bar elements that meet the 3 or fewer criteria: \n",
    "    ```\n",
    "    bar_3_or_fewer = ['Missing','never', 'less1', '1~3']\n",
    "    ```\n",
    "* Run criteria query for both ```in @bar_3_or_fewer``` and ```not in @bar_3_or_fewer``` cases\n",
    "* Load the results into DF for graphing and call graph_criteria_query_barchart() function\n",
    "\n",
    "**Findings**\n",
    "\n",
    "1. Acceptance rate for the less frequent visitors was much lower (37.07%) compared to the \"regulars\" who accepted the coupons 76.88%\n",
    "1. The results were as expected - \"regulars\" were almost twice as likely to redeem the coupons\n",
    "\n",
    "![](images/bar-visit-3-or-more.png)"
   ]
  },
  {
   "cell_type": "code",
   "execution_count": 24,
   "metadata": {
    "hidden": true
   },
   "outputs": [],
   "source": [
    "# Criteria for the visit frequency\n",
    "bar_3_or_fewer = ['Missing','never', 'less1', '1~3']\n",
    "\n",
    "graph_data = []\n",
    "\n",
    "# Get the stats for IN @bar_3_or_fewer\n",
    "graph_row = (coupons_bar.query('Bar in @bar_3_or_fewer')\n",
    "             .groupby('Y')['Y']\n",
    "             .value_counts()\n",
    ")\n",
    "graph_row[2] = '3 or fewer'\n",
    "graph_data.append(graph_row.values)\n",
    "#graph_data"
   ]
  },
  {
   "cell_type": "code",
   "execution_count": 25,
   "metadata": {
    "hidden": true
   },
   "outputs": [],
   "source": [
    "# Get the stats for NOT IN @bar_3_or_fewer\n",
    "graph_row = (coupons_bar.query('Bar not in @bar_3_or_fewer')\n",
    "             .groupby('Y')['Y']\n",
    "             .value_counts()\n",
    ")\n",
    "graph_row[2] = 'More than 3'\n",
    "graph_data.append(graph_row.values)\n",
    "#graph_data"
   ]
  },
  {
   "cell_type": "code",
   "execution_count": 26,
   "metadata": {
    "hidden": true
   },
   "outputs": [
    {
     "data": {
      "text/html": [
       "<div>\n",
       "<style scoped>\n",
       "    .dataframe tbody tr th:only-of-type {\n",
       "        vertical-align: middle;\n",
       "    }\n",
       "\n",
       "    .dataframe tbody tr th {\n",
       "        vertical-align: top;\n",
       "    }\n",
       "\n",
       "    .dataframe thead th {\n",
       "        text-align: right;\n",
       "    }\n",
       "</style>\n",
       "<table border=\"1\" class=\"dataframe\">\n",
       "  <thead>\n",
       "    <tr style=\"text-align: right;\">\n",
       "      <th></th>\n",
       "      <th>0</th>\n",
       "      <th>1</th>\n",
       "      <th>criteria</th>\n",
       "      <th>total</th>\n",
       "      <th>rate</th>\n",
       "    </tr>\n",
       "  </thead>\n",
       "  <tbody>\n",
       "    <tr>\n",
       "      <th>0</th>\n",
       "      <td>1144</td>\n",
       "      <td>674</td>\n",
       "      <td>3 or fewer</td>\n",
       "      <td>1818</td>\n",
       "      <td>37.07</td>\n",
       "    </tr>\n",
       "    <tr>\n",
       "      <th>1</th>\n",
       "      <td>46</td>\n",
       "      <td>153</td>\n",
       "      <td>More than 3</td>\n",
       "      <td>199</td>\n",
       "      <td>76.88</td>\n",
       "    </tr>\n",
       "  </tbody>\n",
       "</table>\n",
       "</div>"
      ],
      "text/plain": [
       "      0    1     criteria  total   rate\n",
       "0  1144  674   3 or fewer   1818  37.07\n",
       "1    46  153  More than 3    199  76.88"
      ]
     },
     "execution_count": 26,
     "metadata": {},
     "output_type": "execute_result"
    }
   ],
   "source": [
    "# Load the graph data into DF for graphing\n",
    "graph_df = pd.DataFrame(graph_data)\n",
    "\n",
    "# Calculate totals and acceptance rate\n",
    "graph_df['total'] = graph_df[0] + graph_df[1]\n",
    "graph_df['rate'] = (graph_df[1] / graph_df['total']).mul(100).round(2)\n",
    "\n",
    "# Rename the criteria column\n",
    "graph_df = graph_df.rename(columns={2:'criteria'})\n",
    "graph_df"
   ]
  },
  {
   "cell_type": "code",
   "execution_count": 27,
   "metadata": {
    "hidden": true
   },
   "outputs": [
    {
     "data": {
      "image/png": "[encoded data removed]",
      "text/plain": [
       "<Figure size 900x500 with 1 Axes>"
      ]
     },
     "metadata": {},
     "output_type": "display_data"
    }
   ],
   "source": [
    "# Grapht it!\n",
    "label_x='Number of Visits'\n",
    "label_y='Acceptance Rate'\n",
    "label_t='Acceptance Rate for \"Bar\" Coupons: Visit Frequency'\n",
    "outfile='images/bar-visit-3-or-more.png'\n",
    "graph_criteria_query_barchart(graph_df, label_x, label_y, label_t, outfile)"
   ]
  },
  {
   "cell_type": "markdown",
   "metadata": {},
   "source": [
    "### Compare the acceptance rate between drivers who go to a bar more than once a month and are over the age of 25 to the all others.  Is there a difference?\n",
    "\n",
    "**Strategy**\n",
    "\n",
    "* Criteria: Visit bar more than once and over 25 yrs old\n",
    "* Data Preparation\n",
    "    * Inspect the age column for clean data\n",
    "        * Create a new DF for our query - copy needed because we need to normalize the ages and don't want to mess up the clean data\n",
    "        * Convert age=below21 to 20 and age=50plus to 51 - good enough for age > 25 criteria\n",
    "        * Convert 'age' to ints\n",
    "    * Define list containing the list of Bar elements that meet the 3 or fewer criteria: \n",
    "        ```\n",
    "        bar_1_or_more = ['1~3','4~8', 'gt8']\n",
    "        ```\n",
    "* Run criteria query\n",
    "* Load the results into DF for graphing and call graph_criteria_query_barchart() function\n",
    "\n",
    "**Findings**\n",
    "\n",
    "1. Acceptance rate for those who visit a bar more than once a month and are over 25yrs old was higher (69.52%) compared to the rest of the population (39.33%)\n",
    "1. The results were as expected - \"regulars\" of legal age were almost twice as likely to redeem the coupons\n",
    "\n",
    "![](images/bar-25plus-frequent.png)"
   ]
  },
  {
   "cell_type": "code",
   "execution_count": 28,
   "metadata": {
    "scrolled": true
   },
   "outputs": [
    {
     "data": {
      "text/plain": [
       "age\n",
       "21         417\n",
       "26         395\n",
       "31         339\n",
       "50plus     283\n",
       "36         209\n",
       "41         178\n",
       "46         109\n",
       "below21     87\n",
       "Name: count, dtype: int64"
      ]
     },
     "execution_count": 28,
     "metadata": {},
     "output_type": "execute_result"
    }
   ],
   "source": [
    "coupons_bar.age.value_counts()"
   ]
  },
  {
   "cell_type": "code",
   "execution_count": 29,
   "metadata": {},
   "outputs": [],
   "source": [
    "# Create a new DF for our query - copy needed because we need to normalize the ages to ints\n",
    "temp_coupons_bar = coupons_bar.copy()\n",
    "\n",
    "# convert age=below21 to 20 and age=50plus to 51 - good enough for age > 25 criteria\n",
    "temp_coupons_bar['age'] = temp_coupons_bar['age'].replace({'below21': 20, '50plus': 51})\n",
    "temp_coupons_bar['age'] = temp_coupons_bar['age'].astype(int)\n",
    "\n",
    "#temp_coupons_bar.age.value_counts()"
   ]
  },
  {
   "cell_type": "code",
   "execution_count": 30,
   "metadata": {},
   "outputs": [],
   "source": [
    "# criteria for visit frequecy\n",
    "bar_1_or_more = ['1~3','4~8', 'gt8']\n",
    "criteria = ''\n",
    "\n",
    "graph_data = []\n",
    "\n",
    "# Get the stats for IN @bar_3_or_fewer\n",
    "graph_row = (temp_coupons_bar.query('(Bar in @bar_1_or_more and age > 25)')\n",
    "             .groupby('Y')['Y']\n",
    "             .value_counts()\n",
    ")\n",
    "graph_row[2] = 'Visits > 1 and age > 25'\n",
    "graph_data.append(graph_row.values)\n",
    "\n",
    "# Get the stats for NOTIN @bar_3_or_fewer\n",
    "graph_row = (temp_coupons_bar.query('Bar not in @bar_1_or_more and age <= 25')\n",
    "             .groupby('Y')['Y']\n",
    "             .value_counts()\n",
    ")\n",
    "graph_row[2] = 'NOT (Visits > 1 and age > 25)'\n",
    "graph_data.append(graph_row.values)\n",
    "#graph_data"
   ]
  },
  {
   "cell_type": "code",
   "execution_count": 31,
   "metadata": {},
   "outputs": [
    {
     "data": {
      "text/html": [
       "<div>\n",
       "<style scoped>\n",
       "    .dataframe tbody tr th:only-of-type {\n",
       "        vertical-align: middle;\n",
       "    }\n",
       "\n",
       "    .dataframe tbody tr th {\n",
       "        vertical-align: top;\n",
       "    }\n",
       "\n",
       "    .dataframe thead th {\n",
       "        text-align: right;\n",
       "    }\n",
       "</style>\n",
       "<table border=\"1\" class=\"dataframe\">\n",
       "  <thead>\n",
       "    <tr style=\"text-align: right;\">\n",
       "      <th></th>\n",
       "      <th>0</th>\n",
       "      <th>1</th>\n",
       "      <th>criteria</th>\n",
       "      <th>total</th>\n",
       "      <th>rate</th>\n",
       "    </tr>\n",
       "  </thead>\n",
       "  <tbody>\n",
       "    <tr>\n",
       "      <th>0</th>\n",
       "      <td>128</td>\n",
       "      <td>292</td>\n",
       "      <td>Visits &gt; 1 and age &gt; 25</td>\n",
       "      <td>420</td>\n",
       "      <td>69.52</td>\n",
       "    </tr>\n",
       "    <tr>\n",
       "      <th>1</th>\n",
       "      <td>199</td>\n",
       "      <td>129</td>\n",
       "      <td>NOT (Visits &gt; 1 and age &gt; 25)</td>\n",
       "      <td>328</td>\n",
       "      <td>39.33</td>\n",
       "    </tr>\n",
       "  </tbody>\n",
       "</table>\n",
       "</div>"
      ],
      "text/plain": [
       "     0    1                       criteria  total   rate\n",
       "0  128  292        Visits > 1 and age > 25    420  69.52\n",
       "1  199  129  NOT (Visits > 1 and age > 25)    328  39.33"
      ]
     },
     "execution_count": 31,
     "metadata": {},
     "output_type": "execute_result"
    }
   ],
   "source": [
    "# Load the graph data into DF for graphing\n",
    "graph_df = pd.DataFrame(graph_data)\n",
    "\n",
    "# Calculate totals and acceptance rate\n",
    "graph_df['total'] = graph_df[0] + graph_df[1]\n",
    "graph_df['rate'] = (graph_df[1] / graph_df['total']).mul(100).round(2)\n",
    "\n",
    "# Rename the criteria column\n",
    "graph_df = graph_df.rename(columns={2:'criteria'})\n",
    "graph_df"
   ]
  },
  {
   "cell_type": "code",
   "execution_count": 32,
   "metadata": {},
   "outputs": [
    {
     "data": {
      "image/png": "[encoded data removed]",
      "text/plain": [
       "<Figure size 900x500 with 1 Axes>"
      ]
     },
     "metadata": {},
     "output_type": "display_data"
    }
   ],
   "source": [
    "# Grapht it!\n",
    "label_x='Criteria'\n",
    "label_y='Acceptance Rate'\n",
    "label_t='Acceptance Rate for \"Bar\" Coupons\\nCriteria: Visit bar more than once and over 25 yrs old'\n",
    "outfile='images/bar-no-kids.png'\n",
    "graph_criteria_query_barchart(graph_df, label_x, label_y, label_t, outfile)"
   ]
  },
  {
   "cell_type": "markdown",
   "metadata": {
    "heading_collapsed": true
   },
   "source": [
    "### Use the same process to compare the acceptance rate between drivers who go to bars more than once a month and had passengers that were not a kid and had occupations other than farming, fishing, or forestry. \n",
    "\n",
    "\n",
    "**Strategy**\n",
    "\n",
    "* Criteria: Visits > 1 and passengers != 'Kid(s)' and occupations != 'Farming Fishing & Forestry'\n",
    "* Data Preparation\n",
    "    * Inspect the passenger column for clean data - looks good!\n",
    "    * Inspect the occupation column for clean data - looks good\n",
    "        * Create a new DF for our query - copy needed because we need to normalize the ages and don't want to mess up the clean data\n",
    "        * Convert age=below21 to 20 and age=50plus to 51 - good enough for age > 25 criteria\n",
    "        * Convert 'age' to ints\n",
    "    * Define list containing the list of Bar elements that meet the 3 or fewer criteria: \n",
    "        ```\n",
    "        bar_1_or_more = ['1~3','4~8', 'gt8']\n",
    "        passengers = ['Kid(s)']\n",
    "        occ_farming = ['Farming Fishing & Forestry']\n",
    "        ```\n",
    "* Run criteria query\n",
    "* Load the results into DF for graphing and call graph_criteria_query_barchart() function\n",
    "\n",
    "**Findings**\n",
    "\n",
    "1. Criteria query SQL\n",
    "```\n",
    "criteria='((Bar in @bar_1_or_more) and (passanger not in @passengers) and (occupation not in @occ_farming))'\n",
    "criteria_not='((Bar not in @bar_1_or_more) and (passanger in @passengers) and (occupation in @occ_farming))'\n",
    "```\n",
    "\n",
    "1. Acceptance rate for those who meet the criteria was higher (71.32%) compared to the rest of the population (33.33%)\n",
    "1. As expected, since the contra-group included children as passengers, there were only 3 total samples\n",
    "1. The overall results were as expected - \"regulars\" without child passengers redeemed the coupons in much higher numbers: 393 vs 1!\n",
    "![](images/bar-no-kids.png)"
   ]
  },
  {
   "cell_type": "code",
   "execution_count": 38,
   "metadata": {
    "hidden": true
   },
   "outputs": [],
   "source": [
    "#coupons_bar.passanger.value_counts()\n",
    "#coupons_bar.occupation.value_counts()"
   ]
  },
  {
   "cell_type": "code",
   "execution_count": 39,
   "metadata": {
    "hidden": true
   },
   "outputs": [],
   "source": [
    "# criteria: Visits > 1 and passengers != 'Kid(s)' and occupations != 'Farming Fishing & Forestry'\n",
    "bar_1_or_more = ['1~3','4~8', 'gt8']\n",
    "passengers = ['Kid(s)']\n",
    "occ_farming = ['Farming Fishing & Forestry']\n",
    "\n",
    "graph_data = []\n",
    "\n",
    "criteria='((Bar in @bar_1_or_more) and (passanger not in @passengers) and (occupation not in @occ_farming))'\n",
    "criteria_not='((Bar not in @bar_1_or_more) and (passanger in @passengers) and (occupation in @occ_farming))'\n",
    "# Get the stats for IN criteria\n",
    "graph_row = (temp_coupons_bar.query(criteria)\n",
    "             .groupby('Y')['Y']\n",
    "             .value_counts()\n",
    ")\n",
    "graph_row[2] = 'Visits > 1, not a farmer, no kids'\n",
    "graph_data.append(graph_row.values)\n",
    "\n",
    "# Get the stats for NOT IN criteria\n",
    "graph_row = (temp_coupons_bar.query(criteria_not)\n",
    "             .groupby('Y')['Y']\n",
    "             .value_counts()\n",
    ")\n",
    "graph_row[2] = 'NOT (Visits > 1, not a farmer, no kids)'\n",
    "graph_data.append(graph_row.values)\n",
    "#graph_data"
   ]
  },
  {
   "cell_type": "code",
   "execution_count": 40,
   "metadata": {
    "hidden": true
   },
   "outputs": [
    {
     "data": {
      "text/html": [
       "<div>\n",
       "<style scoped>\n",
       "    .dataframe tbody tr th:only-of-type {\n",
       "        vertical-align: middle;\n",
       "    }\n",
       "\n",
       "    .dataframe tbody tr th {\n",
       "        vertical-align: top;\n",
       "    }\n",
       "\n",
       "    .dataframe thead th {\n",
       "        text-align: right;\n",
       "    }\n",
       "</style>\n",
       "<table border=\"1\" class=\"dataframe\">\n",
       "  <thead>\n",
       "    <tr style=\"text-align: right;\">\n",
       "      <th></th>\n",
       "      <th>0</th>\n",
       "      <th>1</th>\n",
       "      <th>criteria</th>\n",
       "      <th>total</th>\n",
       "      <th>rate</th>\n",
       "    </tr>\n",
       "  </thead>\n",
       "  <tbody>\n",
       "    <tr>\n",
       "      <th>0</th>\n",
       "      <td>158</td>\n",
       "      <td>393</td>\n",
       "      <td>Visits &gt; 1, not a farmer, no kids</td>\n",
       "      <td>551</td>\n",
       "      <td>71.32</td>\n",
       "    </tr>\n",
       "    <tr>\n",
       "      <th>1</th>\n",
       "      <td>2</td>\n",
       "      <td>1</td>\n",
       "      <td>NOT (Visits &gt; 1, not a farmer, no kids)</td>\n",
       "      <td>3</td>\n",
       "      <td>33.33</td>\n",
       "    </tr>\n",
       "  </tbody>\n",
       "</table>\n",
       "</div>"
      ],
      "text/plain": [
       "     0    1                                 criteria  total   rate\n",
       "0  158  393        Visits > 1, not a farmer, no kids    551  71.32\n",
       "1    2    1  NOT (Visits > 1, not a farmer, no kids)      3  33.33"
      ]
     },
     "execution_count": 40,
     "metadata": {},
     "output_type": "execute_result"
    }
   ],
   "source": [
    "# Load the graph data into DF for graphing\n",
    "graph_df = pd.DataFrame(graph_data)\n",
    "\n",
    "# Calculate totals and acceptance rate\n",
    "graph_df['total'] = graph_df[0] + graph_df[1]\n",
    "graph_df['rate'] = (graph_df[1] / graph_df['total']).mul(100).round(2)\n",
    "\n",
    "# Rename the criteria column\n",
    "graph_df = graph_df.rename(columns={2:'criteria'})\n",
    "graph_df"
   ]
  },
  {
   "cell_type": "markdown",
   "metadata": {
    "hidden": true
   },
   "source": [
    "**Findings**\n",
    "\n",
    "1. Criteria query SQL\n",
    "```\n",
    "criteria='((Bar in @bar_1_or_more) and (passanger not in @passengers) and (occupation not in @occ_farming))'\n",
    "criteria_not='((Bar not in @bar_1_or_more) and (passanger in @passengers) and (occupation in @occ_farming))'\n",
    "```\n",
    "\n",
    "1. Acceptance rate for those who meet the criteria was higher (71.32%) compared to the rest of the population (33.33%)\n",
    "1. As expected, since the contra-group included children as passengers, there were only 3 total samples\n",
    "1. The overall results were as expected - \"regulars\" without child passengers redeemed the coupons in much higher numbers: 393 vs 1!"
   ]
  },
  {
   "cell_type": "code",
   "execution_count": 41,
   "metadata": {
    "hidden": true
   },
   "outputs": [
    {
     "data": {
      "image/png": "[encoded data removed]",
      "text/plain": [
       "<Figure size 900x500 with 1 Axes>"
      ]
     },
     "metadata": {},
     "output_type": "display_data"
    }
   ],
   "source": [
    "# Grapht it!\n",
    "label_x=\"Criteria: Visits > 1 and passengers != 'Kid(s)' and occupations != 'Farming Fishing & Forestry'\"\n",
    "label_y='Acceptance Rate'\n",
    "label_t='Acceptance Rate for \"Bar\" Coupons'\n",
    "outfile='images/bar-no-kids.png'\n",
    "graph_criteria_query_barchart(graph_df, label_x, label_y, label_t, outfile)"
   ]
  },
  {
   "cell_type": "markdown",
   "metadata": {
    "heading_collapsed": true
   },
   "source": [
    "### Compare the acceptance rates between those drivers who:\n",
    "\n",
    "- go to bars more than once a month, had passengers that were not a kid, and were not widowed *OR*\n",
    "- go to bars more than once a month and are under the age of 30 *OR*\n",
    "- go to cheap restaurants more than 4 times a month and income is less than 50K. \n",
    "\n"
   ]
  },
  {
   "cell_type": "code",
   "execution_count": null,
   "metadata": {
    "hidden": true
   },
   "outputs": [],
   "source": []
  },
  {
   "cell_type": "markdown",
   "metadata": {
    "heading_collapsed": true
   },
   "source": [
    "###  Based on these observations, what do you hypothesize about drivers who accepted the bar coupons?"
   ]
  },
  {
   "cell_type": "code",
   "execution_count": null,
   "metadata": {
    "hidden": true
   },
   "outputs": [],
   "source": []
  },
  {
   "cell_type": "markdown",
   "metadata": {},
   "source": [
    "## Independent Investigation\n",
    "\n",
    "Using the bar coupon example as motivation, you are to explore one of the other coupon groups and try to determine the characteristics of passengers who accept the coupons.  "
   ]
  },
  {
   "cell_type": "code",
   "execution_count": null,
   "metadata": {},
   "outputs": [],
   "source": []
  },
  {
   "cell_type": "code",
   "execution_count": null,
   "metadata": {},
   "outputs": [],
   "source": []
  },
  {
   "cell_type": "code",
   "execution_count": null,
   "metadata": {},
   "outputs": [],
   "source": []
  },
  {
   "cell_type": "code",
   "execution_count": null,
   "metadata": {},
   "outputs": [],
   "source": []
  },
  {
   "cell_type": "code",
   "execution_count": null,
   "metadata": {},
   "outputs": [],
   "source": []
  }
 ],
 "metadata": {
  "kernelspec": {
   "display_name": "Python 3 (ipykernel)",
   "language": "python",
   "name": "python3"
  },
  "language_info": {
   "codemirror_mode": {
    "name": "ipython",
    "version": 3
   },
   "file_extension": ".py",
   "mimetype": "text/x-python",
   "name": "python",
   "nbconvert_exporter": "python",
   "pygments_lexer": "ipython3",
   "version": "3.11.9"
  },
  "toc": {
   "base_numbering": 1,
   "nav_menu": {},
   "number_sections": true,
   "sideBar": true,
   "skip_h1_title": false,
   "title_cell": "Table of Contents",
   "title_sidebar": "Contents",
   "toc_cell": false,
   "toc_position": {
    "height": "calc(100% - 180px)",
    "left": "10px",
    "top": "150px",
    "width": "300.391px"
   },
   "toc_section_display": true,
   "toc_window_display": true
  },
  "widgets": {
   "application/vnd.jupyter.widget-state+json": {
    "state": {},
    "version_major": 2,
    "version_minor": 0
   }
  }
 },
 "nbformat": 4,
 "nbformat_minor": 4
}
